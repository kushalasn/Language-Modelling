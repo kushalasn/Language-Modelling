{
 "cells": [
  {
   "cell_type": "code",
   "execution_count": null,
   "metadata": {},
   "outputs": [
    {
     "name": "stdout",
     "output_type": "stream",
     "text": [
      "50.26548245743669\n",
      "25.132741228718345\n"
     ]
    }
   ],
   "source": [
    "import math\n",
    "\n",
    "class Circle:\n",
    "\n",
    "    def __init__(self,radius):\n",
    "        self.radius=radius\n",
    "    def area(self):\n",
    "        return math.pi* self.radius**2\n",
    "\n",
    "    def perimeter(self):\n",
    "        return 2*math.pi*self.radius  \n",
    "\n",
    "\n",
    "radius=float(input(\"Input the radius of the circle\"))\n",
    "circle= Circle(radius)  \n",
    "\n",
    "area=circle.area()\n",
    "perimeter=circle.perimeter()\n",
    "print(area)\n",
    "print(perimeter)"
   ]
  },
  {
   "cell_type": "code",
   "execution_count": 11,
   "metadata": {},
   "outputs": [
    {
     "name": "stdout",
     "output_type": "stream",
     "text": [
      "Person 1:\n",
      "Name: Ferdi Odilia\n",
      "Country: France\n",
      "Date of Birth: 1962-07-12\n",
      "Age: 62\n",
      "\n",
      "Person 2:\n",
      "Name: Shweta Maddox\n",
      "Country: Canada\n",
      "Date of Birth: 1982-10-20\n",
      "Age: 41\n",
      "\n",
      "Person 3:\n",
      "Name: Elizaveta Tilman\n",
      "Country: USA\n",
      "Date of Birth: 2000-01-01\n",
      "Age: 24\n"
     ]
    }
   ],
   "source": [
    "from datetime import date\n",
    "\n",
    "class Person:\n",
    "    def __init__(self, name, country, date_of_birth):\n",
    "        self.name=name\n",
    "        self.country=country\n",
    "        self.date_of_birth=date_of_birth\n",
    "\n",
    "    def age(self):\n",
    "        today=date.today()\n",
    "        age=today.year-self.date_of_birth.year\n",
    "        if today<date(today.year, self.date_of_birth.month, self.date_of_birth.day):\n",
    "            age-=1\n",
    "        return age        \n",
    "\n",
    "\n",
    "\n",
    "person1 = Person(\"Ferdi Odilia\", \"France\", date(1962, 7, 12))\n",
    "person2 = Person(\"Shweta Maddox\", \"Canada\", date(1982, 10, 20))\n",
    "person3 = Person(\"Elizaveta Tilman\", \"USA\", date(2000, 1, 1))\n",
    "\n",
    "\n",
    "\n",
    "print(\"Person 1:\")\n",
    "print(\"Name:\", person1.name)\n",
    "print(\"Country:\", person1.country)\n",
    "print(\"Date of Birth:\", person1.date_of_birth)\n",
    "\n",
    "print(\"Age:\", person1.age())\n",
    "\n",
    "print(\"\\nPerson 2:\")\n",
    "print(\"Name:\", person2.name)\n",
    "print(\"Country:\", person2.country)\n",
    "print(\"Date of Birth:\", person2.date_of_birth)\n",
    "print(\"Age:\", person2.age())\n",
    "\n",
    "print(\"\\nPerson 3:\")\n",
    "print(\"Name:\", person3.name)\n",
    "print(\"Country:\", person3.country)\n",
    "print(\"Date of Birth:\", person3.date_of_birth)\n",
    "print(\"Age:\", person3.age())"
   ]
  },
  {
   "cell_type": "code",
   "execution_count": 14,
   "metadata": {},
   "outputs": [],
   "source": [
    "# design class\n",
    "\n",
    "class Person:\n",
    "    def __init__(self, name,sex, profession):\n",
    "        self.name=name\n",
    "        self.sex=sex\n",
    "        self.profession=profession\n",
    "        print(self.profession)\n",
    "\n",
    "    def work (self):\n",
    "        print(self.name, self.sex, self.profession) \n",
    "\n",
    "    def study(self):\n",
    "        print(self.name, self.profession)       "
   ]
  },
  {
   "cell_type": "code",
   "execution_count": 15,
   "metadata": {},
   "outputs": [
    {
     "name": "stdout",
     "output_type": "stream",
     "text": [
      "DL\n"
     ]
    }
   ],
   "source": [
    "person1 = Person(\"Ferdi Odilia\", \"Male\", \"DL\")\n",
    "\n"
   ]
  },
  {
   "cell_type": "code",
   "execution_count": 16,
   "metadata": {},
   "outputs": [
    {
     "name": "stdout",
     "output_type": "stream",
     "text": [
      "PYnative ABC Street\n"
     ]
    }
   ],
   "source": [
    "class Company:\n",
    "    def __init__(self):\n",
    "        self.name='PYnative'\n",
    "        self.address='ABC Street'\n",
    "\n",
    "    def show(self):\n",
    "        print(self.name, self.address)\n",
    "\n",
    "cmp=Company()\n",
    "cmp.show()            "
   ]
  },
  {
   "cell_type": "code",
   "execution_count": 29,
   "metadata": {},
   "outputs": [
    {
     "name": "stdout",
     "output_type": "stream",
     "text": [
      "5 Emma\n"
     ]
    }
   ],
   "source": [
    "# constructor overloading\n",
    "\n",
    "# python always considers the last constructor\n",
    "\n",
    "class Student:\n",
    "    def __init__(self, name,age=1):\n",
    "        self.name=name\n",
    "        self.age=age\n",
    "        print(self.age,self.name)\n",
    "\n",
    "    def __init__(self,name,age=5):\n",
    "        self.name=name\n",
    "        self.age=age\n",
    "        print(self.age,name)\n",
    "\n",
    "emma=Student(\"Emma\")    "
   ]
  },
  {
   "cell_type": "code",
   "execution_count": 31,
   "metadata": {},
   "outputs": [
    {
     "name": "stdout",
     "output_type": "stream",
     "text": [
      "Before\n",
      "Name: Jessa Age: 20\n",
      "After\n",
      "Name: Jessa Age: 2\n"
     ]
    }
   ],
   "source": [
    "class Student:\n",
    "    def __init__(self, name, age):\n",
    "        # Instance variable\n",
    "        self.name = name\n",
    "        self.age = age\n",
    "\n",
    "# create object\n",
    "stud = Student(\"Jessa\", 20)\n",
    "\n",
    "print('Before')\n",
    "print('Name:', stud.name, 'Age:', stud.age)\n",
    "\n",
    "# add new instance variable 'marks' to stud\n",
    "stud.age = 2\n",
    "print('After')\n",
    "print('Name:', stud.name, 'Age:', stud.age)"
   ]
  },
  {
   "cell_type": "code",
   "execution_count": 33,
   "metadata": {},
   "outputs": [
    {
     "name": "stdout",
     "output_type": "stream",
     "text": [
      "Two arguments constructor\n",
      "Two arguments constructor\n"
     ]
    }
   ],
   "source": [
    "class Student:\n",
    "    # one argument constructor\n",
    "    def __init__(self, name):\n",
    "        print(\"One arguments constructor\")\n",
    "        self.name = name\n",
    "\n",
    "    # two argument constructor\n",
    "    def __init__(self, name, age=5):\n",
    "        print(\"Two arguments constructor\")\n",
    "        self.name = name\n",
    "        self.age = age\n",
    "\n",
    "# creating first object\n",
    "emma = Student('Emma')\n",
    "\n",
    "# creating Second object\n",
    "kelly = Student('Kelly', 13)"
   ]
  },
  {
   "cell_type": "code",
   "execution_count": 39,
   "metadata": {},
   "outputs": [
    {
     "name": "stdout",
     "output_type": "stream",
     "text": [
      "Inside Vehicle Constructor\n",
      "Inside Car Constructor\n",
      "Inside Electric Car Constructor\n",
      "750\n",
      "Engine=1500cc, Max Speed = 240, km_range= 750\n"
     ]
    }
   ],
   "source": [
    "class Vehicle:\n",
    "    def __init__(self,engine):\n",
    "        print(\"Inside Vehicle Constructor\")\n",
    "        self.engine=engine\n",
    "\n",
    "class Car(Vehicle):\n",
    "    def __init__(self, engine, max_speed):\n",
    "        super().__init__(engine)\n",
    "        print(\"Inside Car Constructor\")\n",
    "        self.max_speed=max_speed\n",
    "\n",
    "\n",
    "class Electric_car(Car):\n",
    "    def __init__(self, engine, max_speed,km_range):\n",
    "        super().__init__(engine,max_speed)      \n",
    "        print(\"Inside Electric Car Constructor\")\n",
    "        print(km_range)\n",
    "        self.km_range=km_range\n",
    "\n",
    "\n",
    "ev=Electric_car(\"1500cc\", 240, 750)\n",
    "print(f'Engine={ev.engine}, Max Speed = {ev.max_speed}, km_range= {ev.km_range}')  "
   ]
  },
  {
   "cell_type": "code",
   "execution_count": 24,
   "metadata": {},
   "outputs": [],
   "source": [
    "import tensorflow as tf\n",
    "x=tf.Variable(0.)\n",
    "\n",
    "with tf.GradientTape() as tape:\n",
    "    y=2*x+3\n",
    "\n",
    "gradient_y_wrt_x=tape.gradient(y,x)"
   ]
  },
  {
   "cell_type": "code",
   "execution_count": 27,
   "metadata": {},
   "outputs": [
    {
     "data": {
      "text/plain": [
       "<tf.Tensor: shape=(), dtype=float32, numpy=2.0>"
      ]
     },
     "execution_count": 27,
     "metadata": {},
     "output_type": "execute_result"
    }
   ],
   "source": [
    "gradient_y_wrt_x"
   ]
  },
  {
   "cell_type": "code",
   "execution_count": 28,
   "metadata": {},
   "outputs": [],
   "source": [
    "w=tf.Variable(tf.random.uniform((2,2)))\n",
    "b=tf.Variable(tf.zeros((2,)))"
   ]
  },
  {
   "cell_type": "code",
   "execution_count": 30,
   "metadata": {},
   "outputs": [],
   "source": [
    "x=tf.random.uniform((2,2))\n",
    "with tf.GradientTape() as tape:\n",
    "    y=tf.matmul(x,w)+b\n",
    "\n",
    "gradient_y_wrt_x_and_b=tape.gradient(y,[w,b])"
   ]
  },
  {
   "cell_type": "code",
   "execution_count": 11,
   "metadata": {},
   "outputs": [],
   "source": [
    "from keras.datasets import mnist\n",
    "(train_images,train_labels), (test_images,test_labels)=mnist.load_data()"
   ]
  },
  {
   "cell_type": "code",
   "execution_count": 14,
   "metadata": {},
   "outputs": [],
   "source": [
    "train_images=train_images.reshape((60000,28*28))\n",
    "train_images=train_images.astype(\"float32\")/255\n",
    "test_images=test_images.reshape((10000,28*28))\n",
    "test_images=test_images.astype(\"float32\")/255"
   ]
  },
  {
   "cell_type": "code",
   "execution_count": 20,
   "metadata": {},
   "outputs": [],
   "source": [
    "model=keras.Sequential([layers.Dense(512,activation='relu'), layers.Dense(10,activation='softmax')])"
   ]
  },
  {
   "cell_type": "code",
   "execution_count": 21,
   "metadata": {},
   "outputs": [],
   "source": [
    "model.compile(optimizer='rmsprop',loss='sparse_categorical_crossentropy',metrics=['accuracy'])"
   ]
  },
  {
   "cell_type": "code",
   "execution_count": 22,
   "metadata": {},
   "outputs": [
    {
     "name": "stdout",
     "output_type": "stream",
     "text": [
      "Epoch 1/5\n",
      "\u001b[1m469/469\u001b[0m \u001b[32m━━━━━━━━━━━━━━━━━━━━\u001b[0m\u001b[37m\u001b[0m \u001b[1m4s\u001b[0m 5ms/step - accuracy: 0.8736 - loss: 0.4342\n",
      "Epoch 2/5\n",
      "\u001b[1m469/469\u001b[0m \u001b[32m━━━━━━━━━━━━━━━━━━━━\u001b[0m\u001b[37m\u001b[0m \u001b[1m3s\u001b[0m 7ms/step - accuracy: 0.9678 - loss: 0.1115\n",
      "Epoch 3/5\n",
      "\u001b[1m469/469\u001b[0m \u001b[32m━━━━━━━━━━━━━━━━━━━━\u001b[0m\u001b[37m\u001b[0m \u001b[1m3s\u001b[0m 6ms/step - accuracy: 0.9780 - loss: 0.0729\n",
      "Epoch 4/5\n",
      "\u001b[1m469/469\u001b[0m \u001b[32m━━━━━━━━━━━━━━━━━━━━\u001b[0m\u001b[37m\u001b[0m \u001b[1m3s\u001b[0m 7ms/step - accuracy: 0.9844 - loss: 0.0509\n",
      "Epoch 5/5\n",
      "\u001b[1m469/469\u001b[0m \u001b[32m━━━━━━━━━━━━━━━━━━━━\u001b[0m\u001b[37m\u001b[0m \u001b[1m3s\u001b[0m 6ms/step - accuracy: 0.9888 - loss: 0.0379\n"
     ]
    },
    {
     "data": {
      "text/plain": [
       "<keras.src.callbacks.history.History at 0x1b9c5e2f490>"
      ]
     },
     "execution_count": 22,
     "metadata": {},
     "output_type": "execute_result"
    }
   ],
   "source": [
    "model.fit(train_images,train_labels,epochs=5,batch_size=128)"
   ]
  },
  {
   "cell_type": "code",
   "execution_count": 29,
   "metadata": {},
   "outputs": [],
   "source": [
    "predictions=model(test_images)"
   ]
  },
  {
   "cell_type": "code",
   "execution_count": 31,
   "metadata": {},
   "outputs": [],
   "source": [
    "predictions=predictions.numpy()"
   ]
  },
  {
   "cell_type": "code",
   "execution_count": 32,
   "metadata": {},
   "outputs": [
    {
     "data": {
      "text/plain": [
       "array([[2.0561098e-08, 1.4241244e-09, 8.5188185e-06, ..., 9.9984384e-01,\n",
       "        1.9092745e-07, 1.9203801e-06],\n",
       "       [5.3126548e-08, 1.5113261e-05, 9.9984777e-01, ..., 4.6644789e-12,\n",
       "        1.1137700e-05, 4.8977588e-12],\n",
       "       [1.3426703e-06, 9.9909544e-01, 4.7401911e-05, ..., 5.7288166e-04,\n",
       "        1.2746832e-04, 5.6104041e-06],\n",
       "       ...,\n",
       "       [2.0479952e-13, 4.9730281e-12, 4.0133882e-11, ..., 7.7015775e-06,\n",
       "        1.2013406e-07, 1.0754974e-05],\n",
       "       [1.6203610e-07, 3.4302533e-10, 9.1454171e-11, ..., 9.9334425e-09,\n",
       "        2.0879559e-04, 1.7101971e-09],\n",
       "       [1.7150059e-09, 3.6281839e-12, 7.4810291e-09, ..., 2.4525719e-14,\n",
       "        1.4014453e-10, 2.1694628e-10]], dtype=float32)"
      ]
     },
     "execution_count": 32,
     "metadata": {},
     "output_type": "execute_result"
    }
   ],
   "source": [
    "predictions"
   ]
  },
  {
   "cell_type": "code",
   "execution_count": 35,
   "metadata": {},
   "outputs": [],
   "source": [
    "prediction_labels=np.argmax(predictions,axis=1)\n",
    "#matches=prediction_labels==test_labels"
   ]
  },
  {
   "cell_type": "code",
   "execution_count": 37,
   "metadata": {},
   "outputs": [
    {
     "data": {
      "text/plain": [
       "array([7, 2, 1, ..., 4, 5, 6], dtype=int64)"
      ]
     },
     "execution_count": 37,
     "metadata": {},
     "output_type": "execute_result"
    }
   ],
   "source": [
    "prediction_labels"
   ]
  },
  {
   "cell_type": "code",
   "execution_count": 44,
   "metadata": {},
   "outputs": [],
   "source": [
    "x=tf.ones(2,1)"
   ]
  },
  {
   "cell_type": "code",
   "execution_count": 45,
   "metadata": {},
   "outputs": [
    {
     "data": {
      "text/plain": [
       "<tf.Tensor: shape=(2,), dtype=float32, numpy=array([1., 1.], dtype=float32)>"
      ]
     },
     "execution_count": 45,
     "metadata": {},
     "output_type": "execute_result"
    }
   ],
   "source": [
    "x"
   ]
  },
  {
   "cell_type": "code",
   "execution_count": 48,
   "metadata": {},
   "outputs": [],
   "source": [
    "x=tf.ones(shape=(2,1))"
   ]
  },
  {
   "cell_type": "code",
   "execution_count": 49,
   "metadata": {},
   "outputs": [
    {
     "data": {
      "text/plain": [
       "<tf.Tensor: shape=(2, 1), dtype=float32, numpy=\n",
       "array([[1.],\n",
       "       [1.]], dtype=float32)>"
      ]
     },
     "execution_count": 49,
     "metadata": {},
     "output_type": "execute_result"
    }
   ],
   "source": [
    "x"
   ]
  },
  {
   "cell_type": "code",
   "execution_count": 52,
   "metadata": {},
   "outputs": [],
   "source": [
    "x=tf.random.normal(shape=(100,1),mean=0, stddev=1)"
   ]
  },
  {
   "cell_type": "code",
   "execution_count": 53,
   "metadata": {},
   "outputs": [
    {
     "data": {
      "text/plain": [
       "<tf.Tensor: shape=(100, 1), dtype=float32, numpy=\n",
       "array([[ 1.3477358 ],\n",
       "       [ 1.2769798 ],\n",
       "       [ 0.02688736],\n",
       "       [ 0.8340013 ],\n",
       "       [-2.068045  ],\n",
       "       [-0.6708729 ],\n",
       "       [ 1.4861283 ],\n",
       "       [-0.46858102],\n",
       "       [ 0.23901325],\n",
       "       [-0.5357086 ],\n",
       "       [-0.5341593 ],\n",
       "       [ 0.4544848 ],\n",
       "       [-0.00794347],\n",
       "       [ 0.3810134 ],\n",
       "       [-2.2611473 ],\n",
       "       [-0.72678816],\n",
       "       [ 1.130668  ],\n",
       "       [-0.9433302 ],\n",
       "       [ 0.23706728],\n",
       "       [ 0.06205231],\n",
       "       [ 1.3222642 ],\n",
       "       [ 0.55685866],\n",
       "       [ 0.43314543],\n",
       "       [-0.7517295 ],\n",
       "       [-0.64862597],\n",
       "       [ 0.55622   ],\n",
       "       [ 2.1236048 ],\n",
       "       [-0.30631354],\n",
       "       [-0.48281562],\n",
       "       [-1.2080932 ],\n",
       "       [-0.17623962],\n",
       "       [ 0.2684422 ],\n",
       "       [-0.67389065],\n",
       "       [ 0.8183256 ],\n",
       "       [ 0.67752814],\n",
       "       [-0.35218084],\n",
       "       [ 0.43460804],\n",
       "       [ 1.113817  ],\n",
       "       [-1.5667386 ],\n",
       "       [ 0.0073334 ],\n",
       "       [-0.37531802],\n",
       "       [ 0.26060665],\n",
       "       [-1.8317088 ],\n",
       "       [-0.02071331],\n",
       "       [-0.21934792],\n",
       "       [ 0.2612102 ],\n",
       "       [ 0.56286806],\n",
       "       [-0.5277154 ],\n",
       "       [-0.90276676],\n",
       "       [-0.11879825],\n",
       "       [-2.767528  ],\n",
       "       [-1.0269471 ],\n",
       "       [ 0.06551273],\n",
       "       [ 0.35359588],\n",
       "       [ 0.61000323],\n",
       "       [-0.94311297],\n",
       "       [ 0.18571073],\n",
       "       [ 0.55234057],\n",
       "       [ 0.58176327],\n",
       "       [-1.163685  ],\n",
       "       [ 1.6840454 ],\n",
       "       [-0.32049304],\n",
       "       [-0.8797905 ],\n",
       "       [ 0.7520193 ],\n",
       "       [ 0.09138914],\n",
       "       [ 1.2256304 ],\n",
       "       [ 1.1348833 ],\n",
       "       [ 0.5914426 ],\n",
       "       [ 0.90926903],\n",
       "       [-0.94857067],\n",
       "       [ 0.87801254],\n",
       "       [-0.7775938 ],\n",
       "       [-0.42525467],\n",
       "       [ 0.19836687],\n",
       "       [ 0.5584948 ],\n",
       "       [-0.9615954 ],\n",
       "       [ 0.3427796 ],\n",
       "       [-0.8469517 ],\n",
       "       [ 0.03066371],\n",
       "       [ 0.18097585],\n",
       "       [-2.3711627 ],\n",
       "       [ 0.22056976],\n",
       "       [ 0.5457488 ],\n",
       "       [-0.32977197],\n",
       "       [-1.3338001 ],\n",
       "       [ 0.66799074],\n",
       "       [ 0.09702988],\n",
       "       [-0.15577342],\n",
       "       [-0.95621103],\n",
       "       [-0.58750546],\n",
       "       [-0.20017545],\n",
       "       [-1.8461185 ],\n",
       "       [ 0.2951074 ],\n",
       "       [-0.4461792 ],\n",
       "       [ 0.10966243],\n",
       "       [-0.23096551],\n",
       "       [ 0.02220938],\n",
       "       [-0.32811758],\n",
       "       [ 1.0624564 ],\n",
       "       [-0.3685937 ]], dtype=float32)>"
      ]
     },
     "execution_count": 53,
     "metadata": {},
     "output_type": "execute_result"
    }
   ],
   "source": [
    "x"
   ]
  },
  {
   "cell_type": "code",
   "execution_count": 54,
   "metadata": {},
   "outputs": [
    {
     "name": "stdout",
     "output_type": "stream",
     "text": [
      "tf.Tensor(\n",
      "[[ 1.3477358 ]\n",
      " [ 1.2769798 ]\n",
      " [ 0.02688736]\n",
      " [ 0.8340013 ]\n",
      " [-2.068045  ]\n",
      " [-0.6708729 ]\n",
      " [ 1.4861283 ]\n",
      " [-0.46858102]\n",
      " [ 0.23901325]\n",
      " [-0.5357086 ]\n",
      " [-0.5341593 ]\n",
      " [ 0.4544848 ]\n",
      " [-0.00794347]\n",
      " [ 0.3810134 ]\n",
      " [-2.2611473 ]\n",
      " [-0.72678816]\n",
      " [ 1.130668  ]\n",
      " [-0.9433302 ]\n",
      " [ 0.23706728]\n",
      " [ 0.06205231]\n",
      " [ 1.3222642 ]\n",
      " [ 0.55685866]\n",
      " [ 0.43314543]\n",
      " [-0.7517295 ]\n",
      " [-0.64862597]\n",
      " [ 0.55622   ]\n",
      " [ 2.1236048 ]\n",
      " [-0.30631354]\n",
      " [-0.48281562]\n",
      " [-1.2080932 ]\n",
      " [-0.17623962]\n",
      " [ 0.2684422 ]\n",
      " [-0.67389065]\n",
      " [ 0.8183256 ]\n",
      " [ 0.67752814]\n",
      " [-0.35218084]\n",
      " [ 0.43460804]\n",
      " [ 1.113817  ]\n",
      " [-1.5667386 ]\n",
      " [ 0.0073334 ]\n",
      " [-0.37531802]\n",
      " [ 0.26060665]\n",
      " [-1.8317088 ]\n",
      " [-0.02071331]\n",
      " [-0.21934792]\n",
      " [ 0.2612102 ]\n",
      " [ 0.56286806]\n",
      " [-0.5277154 ]\n",
      " [-0.90276676]\n",
      " [-0.11879825]\n",
      " [-2.767528  ]\n",
      " [-1.0269471 ]\n",
      " [ 0.06551273]\n",
      " [ 0.35359588]\n",
      " [ 0.61000323]\n",
      " [-0.94311297]\n",
      " [ 0.18571073]\n",
      " [ 0.55234057]\n",
      " [ 0.58176327]\n",
      " [-1.163685  ]\n",
      " [ 1.6840454 ]\n",
      " [-0.32049304]\n",
      " [-0.8797905 ]\n",
      " [ 0.7520193 ]\n",
      " [ 0.09138914]\n",
      " [ 1.2256304 ]\n",
      " [ 1.1348833 ]\n",
      " [ 0.5914426 ]\n",
      " [ 0.90926903]\n",
      " [-0.94857067]\n",
      " [ 0.87801254]\n",
      " [-0.7775938 ]\n",
      " [-0.42525467]\n",
      " [ 0.19836687]\n",
      " [ 0.5584948 ]\n",
      " [-0.9615954 ]\n",
      " [ 0.3427796 ]\n",
      " [-0.8469517 ]\n",
      " [ 0.03066371]\n",
      " [ 0.18097585]\n",
      " [-2.3711627 ]\n",
      " [ 0.22056976]\n",
      " [ 0.5457488 ]\n",
      " [-0.32977197]\n",
      " [-1.3338001 ]\n",
      " [ 0.66799074]\n",
      " [ 0.09702988]\n",
      " [-0.15577342]\n",
      " [-0.95621103]\n",
      " [-0.58750546]\n",
      " [-0.20017545]\n",
      " [-1.8461185 ]\n",
      " [ 0.2951074 ]\n",
      " [-0.4461792 ]\n",
      " [ 0.10966243]\n",
      " [-0.23096551]\n",
      " [ 0.02220938]\n",
      " [-0.32811758]\n",
      " [ 1.0624564 ]\n",
      " [-0.3685937 ]], shape=(100, 1), dtype=float32)\n"
     ]
    }
   ],
   "source": [
    "print(x)"
   ]
  },
  {
   "cell_type": "code",
   "execution_count": 55,
   "metadata": {},
   "outputs": [
    {
     "name": "stdout",
     "output_type": "stream",
     "text": [
      "<tf.Variable 'Variable:0' shape=(3, 1) dtype=float32, numpy=\n",
      "array([[-0.15258525],\n",
      "       [-1.168798  ],\n",
      "       [-0.85011125]], dtype=float32)>\n"
     ]
    }
   ],
   "source": [
    "v=tf.Variable(initial_value=tf.random.normal(shape=(3,1)))\n",
    "print(v)"
   ]
  },
  {
   "cell_type": "code",
   "execution_count": 56,
   "metadata": {},
   "outputs": [
    {
     "data": {
      "text/plain": [
       "<tf.Variable 'UnreadVariable' shape=(3, 1) dtype=float32, numpy=\n",
       "array([[1.],\n",
       "       [1.],\n",
       "       [1.]], dtype=float32)>"
      ]
     },
     "execution_count": 56,
     "metadata": {},
     "output_type": "execute_result"
    }
   ],
   "source": [
    "v.assign(tf.ones((3,1)))"
   ]
  },
  {
   "cell_type": "code",
   "execution_count": 57,
   "metadata": {},
   "outputs": [
    {
     "data": {
      "text/plain": [
       "<tf.Variable 'UnreadVariable' shape=(3, 1) dtype=float32, numpy=\n",
       "array([[3.],\n",
       "       [1.],\n",
       "       [1.]], dtype=float32)>"
      ]
     },
     "execution_count": 57,
     "metadata": {},
     "output_type": "execute_result"
    }
   ],
   "source": [
    "v[0,0].assign(3.)"
   ]
  },
  {
   "cell_type": "code",
   "execution_count": 58,
   "metadata": {},
   "outputs": [
    {
     "data": {
      "text/plain": [
       "<tf.Variable 'Variable:0' shape=(3, 1) dtype=float32, numpy=\n",
       "array([[3.],\n",
       "       [1.],\n",
       "       [1.]], dtype=float32)>"
      ]
     },
     "execution_count": 58,
     "metadata": {},
     "output_type": "execute_result"
    }
   ],
   "source": [
    "v"
   ]
  },
  {
   "cell_type": "code",
   "execution_count": 71,
   "metadata": {},
   "outputs": [
    {
     "data": {
      "text/plain": [
       "<tf.Variable 'UnreadVariable' shape=(3, 1) dtype=float32, numpy=\n",
       "array([[ 0.],\n",
       "       [-2.],\n",
       "       [-2.]], dtype=float32)>"
      ]
     },
     "execution_count": 71,
     "metadata": {},
     "output_type": "execute_result"
    }
   ],
   "source": [
    "v.assign_sub(tf.ones((3, 1)))"
   ]
  },
  {
   "cell_type": "code",
   "execution_count": 73,
   "metadata": {},
   "outputs": [
    {
     "name": "stdout",
     "output_type": "stream",
     "text": [
      "tf.Tensor(\n",
      "[[1. 1.]\n",
      " [1. 1.]], shape=(2, 2), dtype=float32)\n"
     ]
    }
   ],
   "source": [
    "a=tf.ones((2,2))\n",
    "b=tf.square(a)\n",
    "print(b)"
   ]
  },
  {
   "cell_type": "code",
   "execution_count": 74,
   "metadata": {},
   "outputs": [],
   "source": [
    "c=tf.sqrt(a)"
   ]
  },
  {
   "cell_type": "code",
   "execution_count": 76,
   "metadata": {},
   "outputs": [],
   "source": [
    "d=b-2*c"
   ]
  },
  {
   "cell_type": "code",
   "execution_count": 78,
   "metadata": {},
   "outputs": [],
   "source": [
    "e=tf.sqrt(d)"
   ]
  },
  {
   "cell_type": "code",
   "execution_count": 80,
   "metadata": {},
   "outputs": [],
   "source": [
    "e=tf.matmul(a,b)\n",
    "e*=d"
   ]
  },
  {
   "cell_type": "code",
   "execution_count": 81,
   "metadata": {},
   "outputs": [
    {
     "data": {
      "text/plain": [
       "<tf.Tensor: shape=(2, 2), dtype=float32, numpy=\n",
       "array([[-2., -2.],\n",
       "       [-2., -2.]], dtype=float32)>"
      ]
     },
     "execution_count": 81,
     "metadata": {},
     "output_type": "execute_result"
    }
   ],
   "source": [
    "e"
   ]
  },
  {
   "cell_type": "code",
   "execution_count": 82,
   "metadata": {},
   "outputs": [],
   "source": [
    "input_var=tf.Variable(initial_value=3.)\n",
    "with tf.GradientTape() as tape:\n",
    "    result=tf.square(input_var)\n",
    "\n",
    "gradient=tape.gradient(result,input_var)    "
   ]
  },
  {
   "cell_type": "code",
   "execution_count": 91,
   "metadata": {},
   "outputs": [],
   "source": [
    "time=tf.Variable(10.)\n",
    "with tf.GradientTape() as outer_tape:\n",
    "    with tf.GradientTape() as inner_tape:\n",
    "        position=4.9 *time **3\n",
    "\n",
    "    speed=inner_tape.gradient(position,time)\n",
    "acceleration=outer_tape.gradient(speed,time)"
   ]
  },
  {
   "cell_type": "code",
   "execution_count": 92,
   "metadata": {},
   "outputs": [
    {
     "data": {
      "text/plain": [
       "<tf.Tensor: shape=(), dtype=float32, numpy=294.0>"
      ]
     },
     "execution_count": 92,
     "metadata": {},
     "output_type": "execute_result"
    }
   ],
   "source": [
    "acceleration"
   ]
  },
  {
   "cell_type": "code",
   "execution_count": 4,
   "metadata": {},
   "outputs": [],
   "source": [
    "import numpy as np "
   ]
  },
  {
   "cell_type": "code",
   "execution_count": 5,
   "metadata": {},
   "outputs": [],
   "source": [
    "# linear classifier using tensorflow\n",
    "\n",
    "num_samples_per_class=1000\n",
    "\n",
    "positive_samples=np.random.multivariate_normal(mean=[3,0],cov=[[1,0.5],[0.5,1]],size=num_samples_per_class)\n",
    "\n",
    "negative_samples=np.random.multivariate_normal(mean=[0,3],cov=[[1,0.5],[0.5,1]],size=num_samples_per_class)\n"
   ]
  },
  {
   "cell_type": "code",
   "execution_count": 6,
   "metadata": {},
   "outputs": [],
   "source": [
    "inputs=np.vstack((negative_samples,positive_samples)).astype(np.float32)"
   ]
  },
  {
   "cell_type": "code",
   "execution_count": 7,
   "metadata": {},
   "outputs": [
    {
     "data": {
      "text/plain": [
       "2000"
      ]
     },
     "execution_count": 7,
     "metadata": {},
     "output_type": "execute_result"
    }
   ],
   "source": [
    "len(inputs)"
   ]
  },
  {
   "cell_type": "code",
   "execution_count": 8,
   "metadata": {},
   "outputs": [],
   "source": [
    "targets=np.vstack((np.zeros((num_samples_per_class,1),dtype=\"float32\"),np.ones((num_samples_per_class,1),dtype=\"float32\"))) \n",
    "\n"
   ]
  },
  {
   "cell_type": "code",
   "execution_count": 9,
   "metadata": {},
   "outputs": [
    {
     "data": {
      "text/plain": [
       "array([[0.],\n",
       "       [0.],\n",
       "       [0.],\n",
       "       ...,\n",
       "       [1.],\n",
       "       [1.],\n",
       "       [1.]], dtype=float32)"
      ]
     },
     "execution_count": 9,
     "metadata": {},
     "output_type": "execute_result"
    }
   ],
   "source": [
    "targets   \n",
    "\n"
   ]
  },
  {
   "cell_type": "code",
   "execution_count": 10,
   "metadata": {},
   "outputs": [
    {
     "data": {
      "image/png": "[encoded data removed]",
      "text/plain": [
       "<Figure size 640x480 with 1 Axes>"
      ]
     },
     "metadata": {},
     "output_type": "display_data"
    }
   ],
   "source": [
    "import matplotlib.pyplot as plt\n",
    "plt.scatter(inputs[:,0], inputs[:,1], c=targets)\n",
    "plt.show()"
   ]
  },
  {
   "cell_type": "code",
   "execution_count": 23,
   "metadata": {},
   "outputs": [],
   "source": [
    "input_dim=2\n",
    "output_dim=1\n",
    "W=tf.Variable(initial_value=tf.random.uniform(shape=(input_dim,output_dim)))\n",
    "b=tf.Variable(initial_value=tf.zeros(shape=(output_dim,))) \n",
    "\n",
    "\n",
    "def model(inputs):\n",
    "    return tf.matmul(inputs,W)+b "
   ]
  },
  {
   "cell_type": "code",
   "execution_count": 24,
   "metadata": {},
   "outputs": [
    {
     "name": "stdout",
     "output_type": "stream",
     "text": [
      "tf.Tensor(\n",
      "[[-1.2120078 ]\n",
      " [ 1.5361295 ]\n",
      " [-0.92640525]\n",
      " ...\n",
      " [ 0.8277769 ]\n",
      " [ 2.9590435 ]\n",
      " [ 0.72520876]], shape=(2000, 1), dtype=float32)\n"
     ]
    }
   ],
   "source": [
    "c=model(inputs)\n",
    "print(c)"
   ]
  },
  {
   "cell_type": "code",
   "execution_count": 12,
   "metadata": {},
   "outputs": [],
   "source": [
    "import tensorflow as tf"
   ]
  },
  {
   "cell_type": "code",
   "execution_count": 14,
   "metadata": {},
   "outputs": [
    {
     "data": {
      "text/plain": [
       "<tf.Variable 'Variable:0' shape=(2, 1) dtype=float32, numpy=\n",
       "array([[0.31660378],\n",
       "       [0.7637776 ]], dtype=float32)>"
      ]
     },
     "execution_count": 14,
     "metadata": {},
     "output_type": "execute_result"
    }
   ],
   "source": [
    "W"
   ]
  },
  {
   "cell_type": "code",
   "execution_count": 15,
   "metadata": {},
   "outputs": [
    {
     "name": "stdout",
     "output_type": "stream",
     "text": [
      "Loss at Step 0:  3.5108\n",
      "Loss at Step 1:  0.3452\n",
      "Loss at Step 2:  0.1483\n",
      "Loss at Step 3:  0.1189\n",
      "Loss at Step 4:  0.1085\n",
      "Loss at Step 5:  0.1009\n",
      "Loss at Step 6:  0.0941\n",
      "Loss at Step 7:  0.0879\n",
      "Loss at Step 8:  0.0823\n",
      "Loss at Step 9:  0.0772\n",
      "Loss at Step 10:  0.0726\n",
      "Loss at Step 11:  0.0683\n",
      "Loss at Step 12:  0.0645\n",
      "Loss at Step 13:  0.0609\n",
      "Loss at Step 14:  0.0577\n",
      "Loss at Step 15:  0.0548\n",
      "Loss at Step 16:  0.0521\n",
      "Loss at Step 17:  0.0497\n",
      "Loss at Step 18:  0.0475\n",
      "Loss at Step 19:  0.0455\n",
      "Loss at Step 20:  0.0437\n",
      "Loss at Step 21:  0.0420\n",
      "Loss at Step 22:  0.0405\n",
      "Loss at Step 23:  0.0391\n",
      "Loss at Step 24:  0.0378\n",
      "Loss at Step 25:  0.0367\n",
      "Loss at Step 26:  0.0356\n",
      "Loss at Step 27:  0.0347\n",
      "Loss at Step 28:  0.0338\n",
      "Loss at Step 29:  0.0330\n",
      "Loss at Step 30:  0.0323\n",
      "Loss at Step 31:  0.0316\n",
      "Loss at Step 32:  0.0310\n",
      "Loss at Step 33:  0.0305\n",
      "Loss at Step 34:  0.0300\n",
      "Loss at Step 35:  0.0295\n",
      "Loss at Step 36:  0.0291\n",
      "Loss at Step 37:  0.0287\n",
      "Loss at Step 38:  0.0284\n",
      "Loss at Step 39:  0.0281\n"
     ]
    },
    {
     "data": {
      "image/png": "[encoded data removed]",
      "text/plain": [
       "<Figure size 640x480 with 1 Axes>"
      ]
     },
     "metadata": {},
     "output_type": "display_data"
    }
   ],
   "source": [
    "def square_loss(targets,predictions):\n",
    "    per_sample_loss=tf.square(targets-predictions)\n",
    "    return tf.reduce_mean(per_sample_loss)\n",
    "\n",
    "learning_rate=0.1\n",
    "\n",
    "def training_step(inputs,target):\n",
    "    with tf.GradientTape() as tape:\n",
    "        predictions=model(inputs)\n",
    "        loss=square_loss(predictions,targets)\n",
    "    grad_loss_wrt_W, grad_loss_wrt_b=tape.gradient(loss,[W,b])\n",
    "    W.assign_sub(grad_loss_wrt_W*learning_rate)\n",
    "    b.assign_sub(grad_loss_wrt_b*learning_rate)\n",
    "    return loss \n",
    "\n",
    "\n",
    "for step in range(40):\n",
    "    loss=training_step(inputs,targets)\n",
    "    print(f\"Loss at Step {step}: {loss: .4f}\")\n",
    "\n",
    "predictions=model(inputs)\n",
    "plt.scatter(inputs[:,0],inputs[:,1],c=predictions[:,0]>0.5)\n",
    "plt.show()"
   ]
  },
  {
   "cell_type": "code",
   "execution_count": 19,
   "metadata": {},
   "outputs": [
    {
     "data": {
      "text/plain": [
       "<matplotlib.collections.PathCollection at 0x260f4364e50>"
      ]
     },
     "execution_count": 19,
     "metadata": {},
     "output_type": "execute_result"
    },
    {
     "data": {
      "image/png": "[encoded data removed]",
      "text/plain": [
       "<Figure size 640x480 with 1 Axes>"
      ]
     },
     "metadata": {},
     "output_type": "display_data"
    }
   ],
   "source": [
    "x=np.linspace(-1,4,100)\n",
    "y=-W[0]/W[1]*x +(0.5-b)/W[1]\n",
    "plt.plot(x,y,\"-r\")\n",
    "\n",
    "plt.scatter(inputs[:,0],inputs[:,1],c=predictions>0.5)"
   ]
  },
  {
   "cell_type": "code",
   "execution_count": 26,
   "metadata": {},
   "outputs": [],
   "source": [
    "from tensorflow.keras import models\n",
    "from tensorflow.keras import layers\n",
    "model=models.Sequential([layers.Dense(32,activation='relu'), layers.Dense(32)])\n",
    "    "
   ]
  },
  {
   "cell_type": "code",
   "execution_count": 27,
   "metadata": {},
   "outputs": [],
   "source": [
    "model=models.Sequential([layers.Dense(1)])\n",
    "    "
   ]
  },
  {
   "cell_type": "code",
   "execution_count": 28,
   "metadata": {},
   "outputs": [
    {
     "data": {
      "text/html": [
       "<pre style=\"white-space:pre;overflow-x:auto;line-height:normal;font-family:Menlo,'DejaVu Sans Mono',consolas,'Courier New',monospace\"><span style=\"font-weight: bold\">Model: \"sequential_1\"</span>\n",
       "</pre>\n"
      ],
      "text/plain": [
       "\u001b[1mModel: \"sequential_1\"\u001b[0m\n"
      ]
     },
     "metadata": {},
     "output_type": "display_data"
    },
    {
     "data": {
      "text/html": [
       "<pre style=\"white-space:pre;overflow-x:auto;line-height:normal;font-family:Menlo,'DejaVu Sans Mono',consolas,'Courier New',monospace\">┏━━━━━━━━━━━━━━━━━━━━━━━━━━━━━━━━━┳━━━━━━━━━━━━━━━━━━━━━━━━┳━━━━━━━━━━━━━━━┓\n",
       "┃<span style=\"font-weight: bold\"> Layer (type)                    </span>┃<span style=\"font-weight: bold\"> Output Shape           </span>┃<span style=\"font-weight: bold\">       Param # </span>┃\n",
       "┡━━━━━━━━━━━━━━━━━━━━━━━━━━━━━━━━━╇━━━━━━━━━━━━━━━━━━━━━━━━╇━━━━━━━━━━━━━━━┩\n",
       "│ dense_2 (<span style=\"color: #0087ff; text-decoration-color: #0087ff\">Dense</span>)                 │ ?                      │   <span style=\"color: #00af00; text-decoration-color: #00af00\">0</span> (unbuilt) │\n",
       "└─────────────────────────────────┴────────────────────────┴───────────────┘\n",
       "</pre>\n"
      ],
      "text/plain": [
       "┏━━━━━━━━━━━━━━━━━━━━━━━━━━━━━━━━━┳━━━━━━━━━━━━━━━━━━━━━━━━┳━━━━━━━━━━━━━━━┓\n",
       "┃\u001b[1m \u001b[0m\u001b[1mLayer (type)                   \u001b[0m\u001b[1m \u001b[0m┃\u001b[1m \u001b[0m\u001b[1mOutput Shape          \u001b[0m\u001b[1m \u001b[0m┃\u001b[1m \u001b[0m\u001b[1m      Param #\u001b[0m\u001b[1m \u001b[0m┃\n",
       "┡━━━━━━━━━━━━━━━━━━━━━━━━━━━━━━━━━╇━━━━━━━━━━━━━━━━━━━━━━━━╇━━━━━━━━━━━━━━━┩\n",
       "│ dense_2 (\u001b[38;5;33mDense\u001b[0m)                 │ ?                      │   \u001b[38;5;34m0\u001b[0m (unbuilt) │\n",
       "└─────────────────────────────────┴────────────────────────┴───────────────┘\n"
      ]
     },
     "metadata": {},
     "output_type": "display_data"
    },
    {
     "data": {
      "text/html": [
       "<pre style=\"white-space:pre;overflow-x:auto;line-height:normal;font-family:Menlo,'DejaVu Sans Mono',consolas,'Courier New',monospace\"><span style=\"font-weight: bold\"> Total params: </span><span style=\"color: #00af00; text-decoration-color: #00af00\">0</span> (0.00 B)\n",
       "</pre>\n"
      ],
      "text/plain": [
       "\u001b[1m Total params: \u001b[0m\u001b[38;5;34m0\u001b[0m (0.00 B)\n"
      ]
     },
     "metadata": {},
     "output_type": "display_data"
    },
    {
     "data": {
      "text/html": [
       "<pre style=\"white-space:pre;overflow-x:auto;line-height:normal;font-family:Menlo,'DejaVu Sans Mono',consolas,'Courier New',monospace\"><span style=\"font-weight: bold\"> Trainable params: </span><span style=\"color: #00af00; text-decoration-color: #00af00\">0</span> (0.00 B)\n",
       "</pre>\n"
      ],
      "text/plain": [
       "\u001b[1m Trainable params: \u001b[0m\u001b[38;5;34m0\u001b[0m (0.00 B)\n"
      ]
     },
     "metadata": {},
     "output_type": "display_data"
    },
    {
     "data": {
      "text/html": [
       "<pre style=\"white-space:pre;overflow-x:auto;line-height:normal;font-family:Menlo,'DejaVu Sans Mono',consolas,'Courier New',monospace\"><span style=\"font-weight: bold\"> Non-trainable params: </span><span style=\"color: #00af00; text-decoration-color: #00af00\">0</span> (0.00 B)\n",
       "</pre>\n"
      ],
      "text/plain": [
       "\u001b[1m Non-trainable params: \u001b[0m\u001b[38;5;34m0\u001b[0m (0.00 B)\n"
      ]
     },
     "metadata": {},
     "output_type": "display_data"
    }
   ],
   "source": [
    "model.summary()"
   ]
  },
  {
   "cell_type": "code",
   "execution_count": 35,
   "metadata": {},
   "outputs": [
    {
     "data": {
      "text/plain": [
       "2000"
      ]
     },
     "execution_count": 35,
     "metadata": {},
     "output_type": "execute_result"
    }
   ],
   "source": [
    "len(inputs)"
   ]
  },
  {
   "cell_type": "code",
   "execution_count": 38,
   "metadata": {},
   "outputs": [],
   "source": [
    "shuffled_inputs=np.random.permutation(inputs)"
   ]
  },
  {
   "cell_type": "code",
   "execution_count": 39,
   "metadata": {},
   "outputs": [
    {
     "data": {
      "text/plain": [
       "2000"
      ]
     },
     "execution_count": 39,
     "metadata": {},
     "output_type": "execute_result"
    }
   ],
   "source": [
    "len(shuffled_inputs)"
   ]
  },
  {
   "cell_type": "code",
   "execution_count": 40,
   "metadata": {},
   "outputs": [
    {
     "data": {
      "text/plain": [
       "array([[ 2.5993474 , -1.0511769 ],\n",
       "       [ 0.23559004,  3.4792247 ],\n",
       "       [ 0.05632527,  3.146547  ],\n",
       "       ...,\n",
       "       [ 2.1333678 ,  0.14304565],\n",
       "       [ 2.919654  ,  0.68329406],\n",
       "       [ 0.677277  ,  1.9985979 ]], dtype=float32)"
      ]
     },
     "execution_count": 40,
     "metadata": {},
     "output_type": "execute_result"
    }
   ],
   "source": [
    "inputs"
   ]
  },
  {
   "cell_type": "code",
   "execution_count": 41,
   "metadata": {},
   "outputs": [
    {
     "data": {
      "text/plain": [
       "array([[ 4.4614053 ,  0.54545754],\n",
       "       [-1.9844519 ,  1.6550127 ],\n",
       "       [ 3.4013455 ,  0.548234  ],\n",
       "       ...,\n",
       "       [ 3.7870176 , -0.17756054],\n",
       "       [ 2.486805  , -0.034035  ],\n",
       "       [ 3.3641913 ,  0.393632  ]], dtype=float32)"
      ]
     },
     "execution_count": 41,
     "metadata": {},
     "output_type": "execute_result"
    }
   ],
   "source": [
    "shuffled_inputs"
   ]
  },
  {
   "cell_type": "code",
   "execution_count": 42,
   "metadata": {},
   "outputs": [
    {
     "data": {
      "text/plain": [
       "True"
      ]
     },
     "execution_count": 42,
     "metadata": {},
     "output_type": "execute_result"
    }
   ],
   "source": [
    "shuffled_inputs[0] in inputs"
   ]
  },
  {
   "cell_type": "code",
   "execution_count": 44,
   "metadata": {},
   "outputs": [],
   "source": [
    "import keras\n",
    "from tensorflow.keras import models\n",
    "from tensorflow.keras import layers\n",
    "\n",
    "model=models.Sequential([layers.Dense(32,activation='relu'), layers.Dense(32)])\n",
    "\n",
    "model.compile(optimizer=keras.optimizers.RMSprop(learning_rate=0.1),loss=keras.losses.MeanSquaredError(), metrics=[keras.metrics.BinaryAccuracy()] )\n",
    "    "
   ]
  },
  {
   "cell_type": "code",
   "execution_count": 47,
   "metadata": {},
   "outputs": [],
   "source": [
    "shuffled_indices=np.random.permutation(len(inputs))"
   ]
  },
  {
   "cell_type": "code",
   "execution_count": 50,
   "metadata": {},
   "outputs": [],
   "source": [
    "shuffled_inputs=inputs[shuffled_indices]\n",
    "shuffled_target=targets[shuffled_indices]"
   ]
  },
  {
   "cell_type": "code",
   "execution_count": 53,
   "metadata": {},
   "outputs": [],
   "source": [
    "num_validation_samples=int(0.3*len(inputs))"
   ]
  },
  {
   "cell_type": "code",
   "execution_count": 54,
   "metadata": {},
   "outputs": [
    {
     "data": {
      "text/plain": [
       "600"
      ]
     },
     "execution_count": 54,
     "metadata": {},
     "output_type": "execute_result"
    }
   ],
   "source": [
    "num_validation_samples"
   ]
  },
  {
   "cell_type": "code",
   "execution_count": 59,
   "metadata": {},
   "outputs": [],
   "source": [
    "val_inputs=shuffled_inputs[:num_validation_samples]\n",
    "val_targets=shuffled_target[:num_validation_samples]"
   ]
  },
  {
   "cell_type": "code",
   "execution_count": 60,
   "metadata": {},
   "outputs": [],
   "source": [
    "training_inputs=shuffled_inputs[num_validation_samples:]\n",
    "training_targets=shuffled_target[num_validation_samples:]"
   ]
  },
  {
   "cell_type": "code",
   "execution_count": 62,
   "metadata": {},
   "outputs": [
    {
     "name": "stdout",
     "output_type": "stream",
     "text": [
      "Epoch 1/5\n",
      "\u001b[1m44/44\u001b[0m \u001b[32m━━━━━━━━━━━━━━━━━━━━\u001b[0m\u001b[37m\u001b[0m \u001b[1m2s\u001b[0m 9ms/step - binary_accuracy: 0.5114 - loss: 0.6360 - val_binary_accuracy: 0.5056 - val_loss: 0.2498\n",
      "Epoch 2/5\n",
      "\u001b[1m44/44\u001b[0m \u001b[32m━━━━━━━━━━━━━━━━━━━━\u001b[0m\u001b[37m\u001b[0m \u001b[1m0s\u001b[0m 3ms/step - binary_accuracy: 0.4848 - loss: 0.2584 - val_binary_accuracy: 0.5260 - val_loss: 0.2493\n",
      "Epoch 3/5\n",
      "\u001b[1m44/44\u001b[0m \u001b[32m━━━━━━━━━━━━━━━━━━━━\u001b[0m\u001b[37m\u001b[0m \u001b[1m0s\u001b[0m 3ms/step - binary_accuracy: 0.4823 - loss: 0.2620 - val_binary_accuracy: 0.4796 - val_loss: 0.2673\n",
      "Epoch 4/5\n",
      "\u001b[1m44/44\u001b[0m \u001b[32m━━━━━━━━━━━━━━━━━━━━\u001b[0m\u001b[37m\u001b[0m \u001b[1m0s\u001b[0m 3ms/step - binary_accuracy: 0.4936 - loss: 0.2561 - val_binary_accuracy: 0.5296 - val_loss: 0.2496\n",
      "Epoch 5/5\n",
      "\u001b[1m44/44\u001b[0m \u001b[32m━━━━━━━━━━━━━━━━━━━━\u001b[0m\u001b[37m\u001b[0m \u001b[1m0s\u001b[0m 3ms/step - binary_accuracy: 0.5043 - loss: 0.2561 - val_binary_accuracy: 0.5304 - val_loss: 0.2487\n"
     ]
    },
    {
     "data": {
      "text/plain": [
       "<keras.src.callbacks.history.History at 0x260f5308850>"
      ]
     },
     "execution_count": 62,
     "metadata": {},
     "output_type": "execute_result"
    }
   ],
   "source": [
    "model.fit(training_inputs, training_targets, epochs=5,batch_size=32,validation_data=(val_inputs,val_targets))    "
   ]
  },
  {
   "cell_type": "code",
   "execution_count": 63,
   "metadata": {},
   "outputs": [
    {
     "name": "stdout",
     "output_type": "stream",
     "text": [
      "\u001b[1m5/5\u001b[0m \u001b[32m━━━━━━━━━━━━━━━━━━━━\u001b[0m\u001b[37m\u001b[0m \u001b[1m0s\u001b[0m 9ms/step - binary_accuracy: 0.5454 - loss: 0.2483\n"
     ]
    }
   ],
   "source": [
    "loss_metrics=model.evaluate(val_inputs,val_targets,batch_size=128)"
   ]
  },
  {
   "cell_type": "code",
   "execution_count": 64,
   "metadata": {},
   "outputs": [
    {
     "name": "stdout",
     "output_type": "stream",
     "text": [
      "\u001b[1m5/5\u001b[0m \u001b[32m━━━━━━━━━━━━━━━━━━━━\u001b[0m\u001b[37m\u001b[0m \u001b[1m0s\u001b[0m 13ms/step\n"
     ]
    }
   ],
   "source": [
    "predictions=model.predict(val_inputs,batch_size=32)"
   ]
  },
  {
   "cell_type": "code",
   "execution_count": 69,
   "metadata": {},
   "outputs": [
    {
     "data": {
      "text/plain": [
       "32"
      ]
     },
     "execution_count": 69,
     "metadata": {},
     "output_type": "execute_result"
    }
   ],
   "source": [
    "len(predictions[0])"
   ]
  },
  {
   "cell_type": "code",
   "execution_count": 70,
   "metadata": {},
   "outputs": [
    {
     "data": {
      "text/plain": [
       "array([[0.51563066, 0.5156308 , 0.51563025, ..., 0.5156307 , 0.5156296 ,\n",
       "        0.5156303 ],\n",
       "       [0.51563066, 0.5156308 , 0.51563025, ..., 0.5156307 , 0.5156296 ,\n",
       "        0.5156303 ],\n",
       "       [0.51563066, 0.5156308 , 0.51563025, ..., 0.5156307 , 0.5156296 ,\n",
       "        0.5156303 ],\n",
       "       ...,\n",
       "       [0.51563066, 0.5156308 , 0.51563025, ..., 0.5156307 , 0.5156296 ,\n",
       "        0.5156303 ],\n",
       "       [0.51563066, 0.5156308 , 0.51563025, ..., 0.5156307 , 0.5156296 ,\n",
       "        0.5156303 ],\n",
       "       [0.51563066, 0.5156308 , 0.51563025, ..., 0.5156307 , 0.5156296 ,\n",
       "        0.5156303 ]], dtype=float32)"
      ]
     },
     "execution_count": 70,
     "metadata": {},
     "output_type": "execute_result"
    }
   ],
   "source": [
    "predictions"
   ]
  },
  {
   "cell_type": "code",
   "execution_count": 72,
   "metadata": {},
   "outputs": [
    {
     "name": "stdout",
     "output_type": "stream",
     "text": [
      "Number of nested arrays: 0\n"
     ]
    }
   ],
   "source": [
    "def count_nested_arrays(arr):\n",
    "    count = 0\n",
    "    for element in arr:\n",
    "        if isinstance(element, list):  # Check if the element is a nested list\n",
    "            count += 1\n",
    "    return count\n",
    "\n",
    "# Example usage\n",
    "arr =predictions\n",
    "print(\"Number of nested arrays:\", count_nested_arrays(arr))  # Output: 3\n",
    "\n"
   ]
  },
  {
   "cell_type": "code",
   "execution_count": 73,
   "metadata": {},
   "outputs": [
    {
     "data": {
      "text/plain": [
       "(600, 32)"
      ]
     },
     "execution_count": 73,
     "metadata": {},
     "output_type": "execute_result"
    }
   ],
   "source": [
    "predictions.shape"
   ]
  },
  {
   "cell_type": "code",
   "execution_count": 74,
   "metadata": {},
   "outputs": [
    {
     "data": {
      "text/plain": [
       "19200"
      ]
     },
     "execution_count": 74,
     "metadata": {},
     "output_type": "execute_result"
    }
   ],
   "source": [
    "32*600 "
   ]
  },
  {
   "cell_type": "code",
   "execution_count": null,
   "metadata": {},
   "outputs": [],
   "source": []
  }
 ],
 "metadata": {
  "kernelspec": {
   "display_name": "Python 3",
   "language": "python",
   "name": "python3"
  },
  "language_info": {
   "codemirror_mode": {
    "name": "ipython",
    "version": 3
   },
   "file_extension": ".py",
   "mimetype": "text/x-python",
   "name": "python",
   "nbconvert_exporter": "python",
   "pygments_lexer": "ipython3",
   "version": "3.11.9"
  }
 },
 "nbformat": 4,
 "nbformat_minor": 2
}
