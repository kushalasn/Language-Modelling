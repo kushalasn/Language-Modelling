{
 "cells": [
  {
   "cell_type": "code",
   "execution_count": 21,
   "metadata": {},
   "outputs": [],
   "source": [
    "import numpy as np \n",
    "import pandas as pd\n",
    "import torch \n",
    "from torch import nn,optim\n",
    "import torchtext\n",
    "from torchtext import data"
   ]
  },
  {
   "cell_type": "code",
   "execution_count": 22,
   "metadata": {},
   "outputs": [],
   "source": [
    "input_path=\"C:/Users/kusha/OneDrive/Desktop/Task/Deep_Learning_Everyday/semantics/\""
   ]
  },
  {
   "cell_type": "code",
   "execution_count": null,
   "metadata": {},
   "outputs": [],
   "source": [
    "train_data_ac=pd.read_csv('C:/Users/kusha/OneDrive/Desktop/Task/Deep_Learning_Everyday/semantics/train.csv')\n",
    "train_data_ac"
   ]
  },
  {
   "cell_type": "code",
   "execution_count": null,
   "metadata": {},
   "outputs": [],
   "source": [
    "print('train_data.label', train_data_ac.label.value_counts())"
   ]
  },
  {
   "cell_type": "code",
   "execution_count": null,
   "metadata": {},
   "outputs": [],
   "source": [
    "train_data_ac.head()"
   ]
  },
  {
   "cell_type": "code",
   "execution_count": 26,
   "metadata": {},
   "outputs": [],
   "source": [
    "my_tokenizer=lambda x:str(x).split()\n",
    "\n",
    "TEXT=data.Field(sequential=True,lower=True,tokenize=my_tokenizer,use_vocab=True)\n",
    "LABEL=data.Field(sequential=False,use_vocab=False)\n",
    "\n",
    "trainval_fields=[('text',TEXT),('label',LABEL)]\n",
    "\n",
    "train_data,val_data=data.TabularDataset.splits(path=input_path, train='train.csv',validation='valid.csv',format='csv',skip_header=True,fields=trainval_fields)\n"
   ]
  },
  {
   "cell_type": "code",
   "execution_count": null,
   "metadata": {},
   "outputs": [],
   "source": [
    "MAX_VOCAB_SIZE=25000\n",
    "TEXT.build_vocab(train_data,max_size=MAX_VOCAB_SIZE)"
   ]
  },
  {
   "cell_type": "code",
   "execution_count": 31,
   "metadata": {},
   "outputs": [],
   "source": [
    "train_iterator=data.BucketIterator(train_data,device='cpu',batch_size=32,sort_key=lambda x :len(x.text), sort_within_batch=False,repeat=False)\n"
   ]
  },
  {
   "cell_type": "code",
   "execution_count": null,
   "metadata": {},
   "outputs": [],
   "source": [
    "val_iterator=data.BucketIterator(val_data,device='cpu',batch_size=32,sort_key= lambda x:len(x.text),sort_within_batch=False,repeat=False)\n"
   ]
  },
  {
   "cell_type": "code",
   "execution_count": null,
   "metadata": {},
   "outputs": [],
   "source": [
    "print(TEXT.vocab.freqs.most_common()[:10]) \n",
    "\n"
   ]
  },
  {
   "cell_type": "code",
   "execution_count": null,
   "metadata": {},
   "outputs": [],
   "source": []
  },
  {
   "cell_type": "code",
   "execution_count": null,
   "metadata": {},
   "outputs": [],
   "source": [
    "clemp='Hello World'\n",
    "my_tokenizer = lambda x: str(x).split()\n",
    "p=my_tokenizer(clemp)\n",
    "print(p)"
   ]
  },
  {
   "cell_type": "code",
   "execution_count": null,
   "metadata": {},
   "outputs": [],
   "source": [
    "my_tokenizer = lambda x: str(x).split()\n",
    "\n",
    "# Example string\n",
    "example_string = \"This is a sample string.\"\n",
    "\n",
    "# Tokenizing the string\n",
    "tokens = my_tokenizer(example_string)\n",
    "print(tokens)\n"
   ]
  },
  {
   "cell_type": "code",
   "execution_count": 44,
   "metadata": {},
   "outputs": [],
   "source": [
    "class RNNModel(nn.Module):\n",
    "\n",
    "    def __init__(self,embedding_dim,input_dim,hidden_dim,output_dim):\n",
    "        super().__init__()\n",
    "        self.Embedding=nn.Embedding(input_dim,embedding_dim)\n",
    "        self.rnn=nn.RNN(embedding_dim,hidden_dim)\n",
    "        self.fc=nn.Linear(hidden_dim,output_dim)\n",
    "    \n",
    "    def forward(self,text):\n",
    "        embed=self.Embedding(text)\n",
    "        output,hidden=self.rnn(embed)\n",
    "        out=self.fc(hidden.squeeze(0))\n",
    "        return out"
   ]
  },
  {
   "cell_type": "code",
   "execution_count": 45,
   "metadata": {},
   "outputs": [],
   "source": [
    "input_dim=len(TEXT.vocab)\n",
    "embedding_dim=100\n",
    "hidden_dim=256\n",
    "output_dim=1\n",
    "\n",
    "model=RNNModel(embedding_dim,input_dim,hidden_dim,output_dim)"
   ]
  },
  {
   "cell_type": "code",
   "execution_count": null,
   "metadata": {},
   "outputs": [],
   "source": [
    "def train(model,data_iterator,optimizer,loss_function):\n",
    "    epoch_loss,epoch_acc,epoch_denom=0,0,0\n",
    "    model.train()\n",
    "\n",
    "    for i,batch in enumerate(data_iterator):\n",
    "        optimizer.zero_grad()\n",
    "        predictions=model(batch.text)\n",
    "        loss=loss_function(predictions.reshape(-1,1),batch.label.float().reshape(-1,1))\n",
    "        acc=accuracy(predictions.reshape(-1,1),batch.label.reshape(-1,1))\n",
    "        loss.backward()\n",
    "        optimizer.step()\n",
    "        epoch_loss+=loss.item()\n",
    "        epoch_acc+=acc.item()\n",
    "        epoch_denom+=len(batch)\n",
    "    return epoch_loss/epoch_denom,epoch_acc,epoch_denom\n",
    "\n",
    "\n",
    "\n",
    "\n",
    "def accuracy(preds,y):\n",
    "    rounded_preds=torch.round(torch.sigmoid(preds))\n",
    "    correct=(rounded_preds)==y.float()\n",
    "    acc=correct.sum()\n",
    "    return acc\n",
    "\n",
    "\n",
    "optimizer=torch.optim.Adam(model.parameters(),lr=1e-3)\n",
    "loss_function=nn.BCEWithLogitsLoss()\n",
    "n_epochs=5\n",
    "for epoch in range(n_epochs):\n",
    "    train_loss,train_acc,train_num=train(model,train_iterator,optimizer,loss_function)\n",
    "    print('Epoch',epoch)\n",
    "    print(train_loss)"
   ]
  },
  {
   "cell_type": "code",
   "execution_count": null,
   "metadata": {},
   "outputs": [],
   "source": []
  },
  {
   "cell_type": "code",
   "execution_count": null,
   "metadata": {},
   "outputs": [],
   "source": []
  },
  {
   "cell_type": "code",
   "execution_count": null,
   "metadata": {},
   "outputs": [],
   "source": []
  },
  {
   "cell_type": "code",
   "execution_count": null,
   "metadata": {},
   "outputs": [],
   "source": []
  },
  {
   "cell_type": "code",
   "execution_count": null,
   "metadata": {},
   "outputs": [],
   "source": []
  },
  {
   "cell_type": "code",
   "execution_count": 1,
   "metadata": {},
   "outputs": [],
   "source": [
    "# timeseries with RNN\n",
    "\n",
    "import numpy as np\n",
    "import pandas as pd\n",
    "import yfinance as yf\n",
    "import datetime as dt \n",
    "import matplotlib.pyplot as plt\n",
    "import math"
   ]
  },
  {
   "cell_type": "code",
   "execution_count": null,
   "metadata": {},
   "outputs": [],
   "source": [
    "start_date=dt.datetime(2015,4,1)\n",
    "end_date=dt.datetime(2024,4,1)\n",
    "data=yf.download('GOOGL',start_date,end_date)\n",
    "data.head()"
   ]
  },
  {
   "cell_type": "code",
   "execution_count": null,
   "metadata": {},
   "outputs": [],
   "source": [
    "len(data)"
   ]
  },
  {
   "cell_type": "code",
   "execution_count": null,
   "metadata": {},
   "outputs": [],
   "source": [
    "training_data_len=math.ceil(len(data)*0.8)\n",
    "training_data_len"
   ]
  },
  {
   "cell_type": "code",
   "execution_count": 5,
   "metadata": {},
   "outputs": [],
   "source": [
    "train_data=data[:training_data_len].iloc[:,:1]\n",
    "\n",
    "test_data=data[training_data_len:].iloc[:,:1]"
   ]
  },
  {
   "cell_type": "code",
   "execution_count": null,
   "metadata": {},
   "outputs": [],
   "source": [
    "print(train_data.shape)\n",
    "print(test_data.shape)"
   ]
  },
  {
   "cell_type": "code",
   "execution_count": null,
   "metadata": {},
   "outputs": [],
   "source": [
    "train_data['Adj Close'].values"
   ]
  },
  {
   "cell_type": "code",
   "execution_count": null,
   "metadata": {},
   "outputs": [],
   "source": [
    "test_data"
   ]
  },
  {
   "cell_type": "code",
   "execution_count": 8,
   "metadata": {},
   "outputs": [],
   "source": [
    "dataset_train=train_data.values"
   ]
  },
  {
   "cell_type": "code",
   "execution_count": 9,
   "metadata": {},
   "outputs": [],
   "source": [
    "dataset_train=dataset_train.reshape(-1,1)"
   ]
  },
  {
   "cell_type": "code",
   "execution_count": null,
   "metadata": {},
   "outputs": [],
   "source": [
    "from sklearn.preprocessing import MinMaxScaler\n",
    "scaler=MinMaxScaler(feature_range=(0,1))\n",
    "scaled_train=scaler.fit_transform(dataset_train)\n",
    "print(scaled_train)"
   ]
  },
  {
   "cell_type": "code",
   "execution_count": null,
   "metadata": {},
   "outputs": [],
   "source": [
    "dataset_test = test_data.values \n",
    "# Reshaping 1D to 2D array\n",
    "dataset_test = np.reshape(dataset_test, (-1,1))  \n",
    "# Normalizing values between 0 and 1\n",
    "scaled_test = scaler.transform(dataset_test)  \n",
    "print(scaled_test[:5])"
   ]
  },
  {
   "cell_type": "code",
   "execution_count": null,
   "metadata": {},
   "outputs": [],
   "source": [
    "scaled_train.shape"
   ]
  },
  {
   "cell_type": "code",
   "execution_count": null,
   "metadata": {},
   "outputs": [],
   "source": [
    "scaled_test.shape"
   ]
  },
  {
   "cell_type": "code",
   "execution_count": null,
   "metadata": {},
   "outputs": [],
   "source": [
    "scaled_test[50]"
   ]
  },
  {
   "cell_type": "code",
   "execution_count": 15,
   "metadata": {},
   "outputs": [],
   "source": [
    "X_train=[]\n",
    "y_train=[]\n",
    "\n",
    "for i in range(50,len(scaled_train)):\n",
    "    X_train.append(scaled_train[i-50:i,0])\n",
    "    y_train.append(scaled_train[i,0])\n",
    "\n",
    "    \n",
    "    "
   ]
  },
  {
   "cell_type": "code",
   "execution_count": null,
   "metadata": {},
   "outputs": [],
   "source": [
    "len(X_train)"
   ]
  },
  {
   "cell_type": "code",
   "execution_count": null,
   "metadata": {},
   "outputs": [],
   "source": [
    "len(y_train)"
   ]
  },
  {
   "cell_type": "code",
   "execution_count": 18,
   "metadata": {},
   "outputs": [],
   "source": [
    "X_test=[]\n",
    "y_test=[]\n",
    "\n",
    "for i in range(50,len(scaled_test)):\n",
    "    X_test.append(scaled_test[i-50:i,0])\n",
    "    y_test.append(scaled_test[i,0])\n",
    "\n",
    "    \n",
    "    "
   ]
  },
  {
   "cell_type": "code",
   "execution_count": 19,
   "metadata": {},
   "outputs": [],
   "source": [
    "X_train,y_train=np.array(X_train),np.array(y_train)"
   ]
  },
  {
   "cell_type": "code",
   "execution_count": null,
   "metadata": {},
   "outputs": [],
   "source": [
    "X_train.shape"
   ]
  },
  {
   "cell_type": "code",
   "execution_count": 21,
   "metadata": {},
   "outputs": [],
   "source": [
    "y_train=np.reshape(y_train, (y_train.shape[0],1))"
   ]
  },
  {
   "cell_type": "code",
   "execution_count": null,
   "metadata": {},
   "outputs": [],
   "source": [
    "y_train.shape"
   ]
  },
  {
   "cell_type": "code",
   "execution_count": 23,
   "metadata": {},
   "outputs": [],
   "source": [
    "X_train=np.reshape(X_train,(X_train.shape[0],X_train.shape[1],1))"
   ]
  },
  {
   "cell_type": "code",
   "execution_count": null,
   "metadata": {},
   "outputs": [],
   "source": [
    "X_train.shape"
   ]
  },
  {
   "cell_type": "code",
   "execution_count": null,
   "metadata": {},
   "outputs": [],
   "source": [
    "# The data is converted to numpy array\n",
    "X_test, y_test = np.array(X_test), np.array(y_test)\n",
    "\n",
    "# #Reshaping\n",
    "X_test = np.reshape(X_test, (X_test.shape[0], X_test.shape[1],1))\n",
    "y_test = np.reshape(y_test, (y_test.shape[0],1))\n",
    "print(\"X_test :\",X_test.shape,\"y_test :\",y_test.shape)"
   ]
  },
  {
   "cell_type": "code",
   "execution_count": 27,
   "metadata": {},
   "outputs": [],
   "source": [
    "# modelling\n",
    "\n",
    "from keras.models import Sequential\n",
    "from keras.layers import LSTM\n",
    "from keras.layers import Dense\n",
    "from keras.layers import SimpleRNN\n",
    "from keras.layers import Dropout\n",
    "from keras.layers import GRU,Bidirectional\n",
    "from keras.optimizers import SGD\n",
    "from sklearn import metrics\n",
    "from sklearn.metrics import mean_squared_error\n",
    "\n",
    "\n"
   ]
  },
  {
   "cell_type": "code",
   "execution_count": null,
   "metadata": {},
   "outputs": [],
   "source": [
    "regressor=Sequential()\n",
    "regressor.add(SimpleRNN(units=50,activation='tanh',return_sequences=True,input_shape=(X_train.shape[1],1)))\n",
    "regressor.add(Dropout(0.2))\n",
    "\n",
    "regressor.add(SimpleRNN(units=50,activation='tanh',return_sequences=True))\n",
    "regressor.add(SimpleRNN(units=50,activation='tanh',return_sequences=True))\n",
    "\n",
    "regressor.add(SimpleRNN(units=50))\n",
    "\n",
    "regressor.add(Dense(units=1,activation='sigmoid'))\n",
    "\n",
    "regressor.compile(optimizer=SGD(learning_rate=0.01,decay=1e-6,momentum=0.9,nesterov=True),loss='mean_squared_error')\n",
    "\n",
    "regressor.fit(X_train,y_train,epochs=20,batch_size=20)\n",
    "regressor.summary()\n",
    "\n"
   ]
  },
  {
   "cell_type": "code",
   "execution_count": null,
   "metadata": {},
   "outputs": [],
   "source": [
    "y_RNN=regressor.predict(X_test)\n",
    "y_RNN_O=scaler.inverse_transform(y_RNN)\n"
   ]
  },
  {
   "cell_type": "code",
   "execution_count": null,
   "metadata": {},
   "outputs": [],
   "source": [
    "fig, axs = plt.subplots(1,figsize =(18,12),sharex=True, sharey=True)\n",
    "fig.suptitle('Model Predictions')\n",
    "\n",
    "#Plot for RNN predictions\n",
    "axs.plot(train_data.index[150:], train_data['Adj Close'][150:].values, label = \"train_data\", color = \"b\")\n",
    "axs.plot(test_data.index[150:], test_data['Adj Close'][150:].values, label = \"test_data\", color = \"g\")\n",
    "axs.plot(test_data.index[50:], y_RNN_O, label = \"y_RNN\", color = \"brown\")\n",
    "axs.legend()\n",
    "axs.title.set_text(\"Basic RNN\")\n",
    "\n",
    "\n",
    "plt.xlabel(\"Days\")\n",
    "plt.ylabel(\"Close price\")\n",
    "\n",
    "plt.show()\n"
   ]
  },
  {
   "cell_type": "code",
   "execution_count": null,
   "metadata": {},
   "outputs": [],
   "source": [
    "train_data"
   ]
  },
  {
   "cell_type": "code",
   "execution_count": null,
   "metadata": {},
   "outputs": [],
   "source": [
    "y_RNN_O"
   ]
  },
  {
   "cell_type": "code",
   "execution_count": null,
   "metadata": {},
   "outputs": [],
   "source": [
    "train_data.index[150:] "
   ]
  },
  {
   "cell_type": "code",
   "execution_count": null,
   "metadata": {},
   "outputs": [],
   "source": []
  },
  {
   "cell_type": "code",
   "execution_count": null,
   "metadata": {},
   "outputs": [],
   "source": []
  },
  {
   "cell_type": "code",
   "execution_count": null,
   "metadata": {},
   "outputs": [],
   "source": []
  },
  {
   "cell_type": "code",
   "execution_count": null,
   "metadata": {},
   "outputs": [],
   "source": []
  },
  {
   "cell_type": "code",
   "execution_count": 50,
   "metadata": {},
   "outputs": [],
   "source": [
    "# improvised rnn"
   ]
  },
  {
   "cell_type": "code",
   "execution_count": 1,
   "metadata": {},
   "outputs": [],
   "source": [
    "import numpy as np\n",
    "import pandas as pd\n",
    "import torch\n",
    "import torchtext\n",
    "from torch import nn, optim\n",
    "from torch.optim import Adam\n",
    "from torchtext import data"
   ]
  },
  {
   "cell_type": "code",
   "execution_count": 2,
   "metadata": {},
   "outputs": [],
   "source": [
    "import spacy\n",
    "from torchtext import data  \n",
    "\n",
    "# Load the SpaCy model\n",
    "spacy_en = spacy.load(\"en_core_web_sm\")\n",
    "\n",
    "\n",
    "def tokenize_spacy(text):\n",
    "    return [token.text.lower() for token in spacy_en.tokenizer(text)]\n",
    "\n",
    "\n",
    "\n",
    "TEXT = data.Field(sequential=True, tokenize=tokenize_spacy, include_lengths=True)\n",
    "LABEL = data.Field(sequential=False, use_vocab=False)\n",
    "\n"
   ]
  },
  {
   "cell_type": "code",
   "execution_count": 3,
   "metadata": {},
   "outputs": [
    {
     "data": {
      "text/plain": [
       "['tok2vec', 'tagger', 'parser', 'attribute_ruler', 'lemmatizer', 'ner']"
      ]
     },
     "execution_count": 3,
     "metadata": {},
     "output_type": "execute_result"
    }
   ],
   "source": [
    "spacy_en.pipe_names"
   ]
  },
  {
   "cell_type": "code",
   "execution_count": 4,
   "metadata": {},
   "outputs": [],
   "source": [
    "input_path=\"C:/Users/kusha/OneDrive/Desktop/Task/Deep_Learning_Everyday/semantics/\""
   ]
  },
  {
   "cell_type": "code",
   "execution_count": 5,
   "metadata": {},
   "outputs": [],
   "source": [
    "trainval_fields=[('text',TEXT),('label',LABEL)]\n",
    "\n",
    "train_data,val_data=data.TabularDataset.splits(path=input_path,train='Train.csv',validation='Valid.csv',format='csv',skip_header=True,fields=trainval_fields)\n",
    "\n",
    "\n",
    "\n",
    "\n",
    "MAX_VOCAB_SIZE=25000\n",
    "TEXT.build_vocab(train_data,max_size=MAX_VOCAB_SIZE) \n"
   ]
  },
  {
   "cell_type": "code",
   "execution_count": 7,
   "metadata": {},
   "outputs": [],
   "source": [
    "BATCH_SIZE=64 "
   ]
  },
  {
   "cell_type": "code",
   "execution_count": 8,
   "metadata": {},
   "outputs": [],
   "source": [
    "train_iterator=data.BucketIterator(train_data,batch_size=32,sort_key=lambda x : len(x.text),sort_within_batch=False,repeat=False)\n",
    "\n",
    "val_iterator=data.BucketIterator(val_data,batch_size=32,sort_key=lambda x : len(x.text),sort_within_batch=False,repeat=False)\n"
   ]
  },
  {
   "cell_type": "code",
   "execution_count": 9,
   "metadata": {},
   "outputs": [
    {
     "name": "stdout",
     "output_type": "stream",
     "text": [
      "[('the', 521872), (',', 434690), ('.', 374841), ('and', 257963), ('a', 256539), ('of', 231186), ('to', 214108), ('is', 173431), ('it', 148293), ('in', 147249)]\n"
     ]
    }
   ],
   "source": [
    "print(TEXT.vocab.freqs.most_common()[:10])"
   ]
  },
  {
   "cell_type": "code",
   "execution_count": 10,
   "metadata": {},
   "outputs": [],
   "source": [
    "class ImprovedRNN(nn.Module):\n",
    "    def __init__(self,vocab_size,embedding_dim,hidden_dim,output_dim,n_layers,bidirectional,dropout,pad_idx):\n",
    "        super().__init__()\n",
    "        self.embedding=nn.Embedding(vocab_size,embedding_dim,padding_idx=pad_idx)\n",
    "        self.lstm=nn.LSTM(embedding_dim,hidden_dim, num_layers=n_layers,bidirectional=bidirectional,dropout=dropout)\n",
    "        self.fc=nn.Linear(hidden_dim*2,output_dim)\n",
    "        self.dropout=nn.Dropout(dropout)\n",
    "\n",
    "    def forward(self,text,text_lengths):\n",
    "        embedded=self.dropout(self.embedding(text))\n",
    "        packed_embedded=nn.utils.rnn.pack_padded_sequence(embedded,text_lengths)\n",
    "        packed_output,(hidden,cell)=self.lstm(packed_embedded)\n",
    "        output,output_lengths=nn.utils.rnn.pad_packed_sequence(packed_output)\n",
    "        hidden=self.dropout(torch.cat((hidden[-2:,:],hidden[-1,:,:]),dim=1))\n",
    "        return self.fc(hidden)\n",
    "    \n",
    "    \n",
    "    \n",
    "    \n",
    "\n"
   ]
  },
  {
   "cell_type": "code",
   "execution_count": null,
   "metadata": {},
   "outputs": [],
   "source": []
  },
  {
   "cell_type": "code",
   "execution_count": 14,
   "metadata": {},
   "outputs": [
    {
     "name": "stdout",
     "output_type": "stream",
     "text": [
      "Dictionary is =  {'processing': 1, 'natural': 2, 'world': 3, 'language': 4, 'the': 5, 'prime': 6}\n"
     ]
    }
   ],
   "source": [
    "\n",
    "#importing libraries\n",
    "from tensorflow.keras.preprocessing.text import Tokenizer\n",
    "from tensorflow.keras.preprocessing.sequence import pad_sequences\n",
    "import numpy as np\n",
    " \n",
    "x = {'processing', 'the', 'world', 'prime',\n",
    "    'natural', 'language'}\n",
    " \n",
    "# create the dictionary\n",
    "tokenizer = Tokenizer()\n",
    "tokenizer.fit_on_texts(x)\n",
    " \n",
    "#this will print the dictionary of the words mapped with their indexes\n",
    "print(\"Dictionary is = \", tokenizer.word_index)"
   ]
  },
  {
   "cell_type": "code",
   "execution_count": null,
   "metadata": {},
   "outputs": [],
   "source": []
  }
 ],
 "metadata": {
  "kernelspec": {
   "display_name": "Python 3",
   "language": "python",
   "name": "python3"
  },
  "language_info": {
   "codemirror_mode": {
    "name": "ipython",
    "version": 3
   },
   "file_extension": ".py",
   "mimetype": "text/x-python",
   "name": "python",
   "nbconvert_exporter": "python",
   "pygments_lexer": "ipython3",
   "version": "3.10.4"
  }
 },
 "nbformat": 4,
 "nbformat_minor": 2
}
