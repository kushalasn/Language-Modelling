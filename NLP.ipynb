{
 "cells": [
  {
   "cell_type": "code",
   "execution_count": 3,
   "metadata": {},
   "outputs": [],
   "source": [
    "import os\n",
    "\n",
    "#tensorflow backend for string input\n",
    "os.environ['KERAS_BACKEND']='tensorflow'\n",
    "\n",
    "import pathlib\n",
    "import numpy as np\n",
    "import tensorflow.data as tf_data\n",
    "import keras \n",
    "from keras import layers\n",
    "\n"
   ]
  },
  {
   "cell_type": "code",
   "execution_count": 5,
   "metadata": {},
   "outputs": [],
   "source": [
    "from sklearn.preprocessing import StandardScaler\n",
    "import matplotlib.pyplot as plt \n",
    "import numpy as np\n",
    "import os\n",
    "import pandas \n",
    "from mpl_toolkits.mplot3d import Axes3D\n"
   ]
  },
  {
   "cell_type": "code",
   "execution_count": null,
   "metadata": {},
   "outputs": [],
   "source": []
  },
  {
   "cell_type": "code",
   "execution_count": 6,
   "metadata": {},
   "outputs": [],
   "source": [
    "import numpy as np \n",
    "import pandas as pd \n",
    "\n",
    "data_imdb=pd.read_csv('C:/Users/kusha/OneDrive/Desktop/Task/Deep_Learning_Everyday/imdb_labelled.txt', delimiter='\\t',header=None)"
   ]
  },
  {
   "cell_type": "code",
   "execution_count": 9,
   "metadata": {},
   "outputs": [
    {
     "data": {
      "text/html": [
       "<div>\n",
       "<style scoped>\n",
       "    .dataframe tbody tr th:only-of-type {\n",
       "        vertical-align: middle;\n",
       "    }\n",
       "\n",
       "    .dataframe tbody tr th {\n",
       "        vertical-align: top;\n",
       "    }\n",
       "\n",
       "    .dataframe thead th {\n",
       "        text-align: right;\n",
       "    }\n",
       "</style>\n",
       "<table border=\"1\" class=\"dataframe\">\n",
       "  <thead>\n",
       "    <tr style=\"text-align: right;\">\n",
       "      <th></th>\n",
       "      <th>Review_text</th>\n",
       "      <th>Review class</th>\n",
       "    </tr>\n",
       "  </thead>\n",
       "  <tbody>\n",
       "    <tr>\n",
       "      <th>0</th>\n",
       "      <td>A very, very, very slow-moving, aimless movie ...</td>\n",
       "      <td>0</td>\n",
       "    </tr>\n",
       "    <tr>\n",
       "      <th>1</th>\n",
       "      <td>Not sure who was more lost - the flat characte...</td>\n",
       "      <td>0</td>\n",
       "    </tr>\n",
       "    <tr>\n",
       "      <th>2</th>\n",
       "      <td>Attempting artiness with black &amp; white and cle...</td>\n",
       "      <td>0</td>\n",
       "    </tr>\n",
       "    <tr>\n",
       "      <th>3</th>\n",
       "      <td>Very little music or anything to speak of.</td>\n",
       "      <td>0</td>\n",
       "    </tr>\n",
       "    <tr>\n",
       "      <th>4</th>\n",
       "      <td>The best scene in the movie was when Gerardo i...</td>\n",
       "      <td>1</td>\n",
       "    </tr>\n",
       "    <tr>\n",
       "      <th>...</th>\n",
       "      <td>...</td>\n",
       "      <td>...</td>\n",
       "    </tr>\n",
       "    <tr>\n",
       "      <th>743</th>\n",
       "      <td>I just got bored watching Jessice Lange take h...</td>\n",
       "      <td>0</td>\n",
       "    </tr>\n",
       "    <tr>\n",
       "      <th>744</th>\n",
       "      <td>Unfortunately, any virtue in this film's produ...</td>\n",
       "      <td>0</td>\n",
       "    </tr>\n",
       "    <tr>\n",
       "      <th>745</th>\n",
       "      <td>In a word, it is embarrassing.</td>\n",
       "      <td>0</td>\n",
       "    </tr>\n",
       "    <tr>\n",
       "      <th>746</th>\n",
       "      <td>Exceptionally bad!</td>\n",
       "      <td>0</td>\n",
       "    </tr>\n",
       "    <tr>\n",
       "      <th>747</th>\n",
       "      <td>All in all its an insult to one's intelligence...</td>\n",
       "      <td>0</td>\n",
       "    </tr>\n",
       "  </tbody>\n",
       "</table>\n",
       "<p>748 rows × 2 columns</p>\n",
       "</div>"
      ],
      "text/plain": [
       "                                           Review_text  Review class\n",
       "0    A very, very, very slow-moving, aimless movie ...             0\n",
       "1    Not sure who was more lost - the flat characte...             0\n",
       "2    Attempting artiness with black & white and cle...             0\n",
       "3         Very little music or anything to speak of.               0\n",
       "4    The best scene in the movie was when Gerardo i...             1\n",
       "..                                                 ...           ...\n",
       "743  I just got bored watching Jessice Lange take h...             0\n",
       "744  Unfortunately, any virtue in this film's produ...             0\n",
       "745                   In a word, it is embarrassing.               0\n",
       "746                               Exceptionally bad!               0\n",
       "747  All in all its an insult to one's intelligence...             0\n",
       "\n",
       "[748 rows x 2 columns]"
      ]
     },
     "execution_count": 9,
     "metadata": {},
     "output_type": "execute_result"
    }
   ],
   "source": [
    "data_imdb.columns=['Review_text','Review class']\n",
    "data_imdb\n"
   ]
  },
  {
   "cell_type": "code",
   "execution_count": 10,
   "metadata": {},
   "outputs": [],
   "source": [
    "import re\n",
    "import nltk\n",
    "import string\n",
    "from nltk.tokenize import word_tokenize\n",
    "from nltk.corpus import stopwords\n",
    "from nltk.stem.porter import PorterStemmer"
   ]
  },
  {
   "cell_type": "code",
   "execution_count": 18,
   "metadata": {},
   "outputs": [],
   "source": [
    "def clean_text(df):\n",
    "    all_reviews=list()\n",
    "    lines=df['Review_text'].values.tolist()\n",
    "    for text in lines:\n",
    "        text=text.lower()\n",
    "        pattern = re.compile('http[s]?://(?:[a-zA-Z]|[0-9]|[$-_@.&+]|[!*\\(\\),]|(?:%[0-9a-fA-F][0-9a-fA-F]))+')\n",
    "        text=pattern.sub('',text)\n",
    "        text=re.sub(r\"[,.\\\"!@#$%^&*(){}?/;`~:<>+=-]\",'', text)\n",
    "        tokens=word_tokenize(text)\n",
    "        table=str.maketrans('','',string.punctuation)\n",
    "        stripped=[w.translate(table) for w in tokens]\n",
    "        words=[word for word in stripped if word.isalpha()]\n",
    "        stop_words=set(stopwords.words('english'))\n",
    "        stop_words.discard('not')\n",
    "        PS=PorterStemmer()\n",
    "        words=[PS.stem(w) for w in words if not w in stop_words]\n",
    "        words=' '.join(words)\n",
    "        all_reviews.append(words)\n",
    "\n",
    "\n",
    "    return all_reviews\n",
    "\n",
    "all_reviews=clean_text(data_imdb)\n",
    "\n"
   ]
  },
  {
   "cell_type": "code",
   "execution_count": 25,
   "metadata": {},
   "outputs": [],
   "source": [
    "from sklearn.feature_extraction.text import CountVectorizer\n",
    "CV=CountVectorizer(min_df=3)\n",
    "X=CV.fit_transform(all_reviews).toarray()\n",
    "y=data_imdb['Review class'].to_numpy()\n",
    "\n"
   ]
  },
  {
   "cell_type": "code",
   "execution_count": 33,
   "metadata": {},
   "outputs": [
    {
     "name": "stdout",
     "output_type": "stream",
     "text": [
      "0.7\n"
     ]
    }
   ],
   "source": [
    "from sklearn.model_selection import train_test_split\n",
    "X_train,X_test,y_train,y_test=train_test_split(X,y,test_size=0.2,random_state=0)\n",
    "\n",
    "from sklearn.naive_bayes import GaussianNB\n",
    "model=GaussianNB()\n",
    "model.fit(X_train,y_train)\n",
    "\n",
    "y_pred=model.predict(X_test)\n",
    "\n",
    "from sklearn.metrics import accuracy_score,f1_score,precision_score\n",
    "print(accuracy_score(y_test,y_pred))\n"
   ]
  },
  {
   "cell_type": "code",
   "execution_count": 37,
   "metadata": {},
   "outputs": [],
   "source": [
    "########"
   ]
  },
  {
   "cell_type": "code",
   "execution_count": 4,
   "metadata": {},
   "outputs": [
    {
     "name": "stdout",
     "output_type": "stream",
     "text": [
      "[==================================================] 100.0% 376.1/376.1MB downloaded\n"
     ]
    },
    {
     "data": {
      "text/plain": [
       "[('loves', 0.6420262455940247),\n",
       " ('passion', 0.6261469125747681),\n",
       " ('loved', 0.595270574092865),\n",
       " ('romantic', 0.5921086072921753),\n",
       " ('lovers', 0.5904366970062256)]"
      ]
     },
     "execution_count": 4,
     "metadata": {},
     "output_type": "execute_result"
    }
   ],
   "source": [
    "my_vocab = ['apple','orange','shimla','banana','maruti','mumbai','china','india','husband'\n",
    "            ,'wife','brother','sister','red','yellow','computer','mobile','pear','guava']\n",
    "\n",
    "import gensim\n",
    "from sklearn.manifold import TSNE \n",
    "\n",
    "import gensim.downloader as api\n",
    "\n",
    "glove_model=api.load('glove-wiki-gigaword-300')\n",
    "\n",
    "glove_model.most_similar('love',topn=5)"
   ]
  },
  {
   "cell_type": "code",
   "execution_count": 8,
   "metadata": {},
   "outputs": [],
   "source": [
    "words=[]\n",
    "vectors=[]\n",
    "\n",
    "for word in my_vocab:\n",
    "    words.append(word)\n",
    "    vectors.append(glove_model[word])\n",
    "    "
   ]
  },
  {
   "cell_type": "code",
   "execution_count": 13,
   "metadata": {},
   "outputs": [
    {
     "data": {
      "text/plain": [
       "300"
      ]
     },
     "execution_count": 13,
     "metadata": {},
     "output_type": "execute_result"
    }
   ],
   "source": [
    "len(vectors[2])"
   ]
  },
  {
   "cell_type": "code",
   "execution_count": 14,
   "metadata": {},
   "outputs": [],
   "source": [
    "dicts=zip(words,vectors)"
   ]
  },
  {
   "cell_type": "code",
   "execution_count": 15,
   "metadata": {},
   "outputs": [
    {
     "data": {
      "text/plain": [
       "<zip at 0x20f1cdda280>"
      ]
     },
     "execution_count": 15,
     "metadata": {},
     "output_type": "execute_result"
    }
   ],
   "source": [
    "dicts"
   ]
  },
  {
   "cell_type": "code",
   "execution_count": 17,
   "metadata": {},
   "outputs": [
    {
     "data": {
      "text/html": [
       "<div>\n",
       "<style scoped>\n",
       "    .dataframe tbody tr th:only-of-type {\n",
       "        vertical-align: middle;\n",
       "    }\n",
       "\n",
       "    .dataframe tbody tr th {\n",
       "        vertical-align: top;\n",
       "    }\n",
       "\n",
       "    .dataframe thead th {\n",
       "        text-align: right;\n",
       "    }\n",
       "</style>\n",
       "<table border=\"1\" class=\"dataframe\">\n",
       "  <thead>\n",
       "    <tr style=\"text-align: right;\">\n",
       "      <th></th>\n",
       "      <th>0</th>\n",
       "      <th>1</th>\n",
       "    </tr>\n",
       "  </thead>\n",
       "  <tbody>\n",
       "    <tr>\n",
       "      <th>0</th>\n",
       "      <td>apple</td>\n",
       "      <td>[-0.20842, -0.019668, 0.063981, -0.71403, -0.2...</td>\n",
       "    </tr>\n",
       "    <tr>\n",
       "      <th>1</th>\n",
       "      <td>orange</td>\n",
       "      <td>[-0.24776, -0.12359, 0.20986, -0.15834, -0.158...</td>\n",
       "    </tr>\n",
       "    <tr>\n",
       "      <th>2</th>\n",
       "      <td>shimla</td>\n",
       "      <td>[-0.083216, -0.235, 0.34561, 0.082819, 0.41372...</td>\n",
       "    </tr>\n",
       "    <tr>\n",
       "      <th>3</th>\n",
       "      <td>banana</td>\n",
       "      <td>[0.42141, 0.020467, 0.12666, 0.39762, -0.11016...</td>\n",
       "    </tr>\n",
       "    <tr>\n",
       "      <th>4</th>\n",
       "      <td>maruti</td>\n",
       "      <td>[-0.097778, 0.39619, -0.1984, 0.12019, 0.47573...</td>\n",
       "    </tr>\n",
       "    <tr>\n",
       "      <th>5</th>\n",
       "      <td>mumbai</td>\n",
       "      <td>[-0.25335, -0.41384, 0.15746, 0.23978, 0.09889...</td>\n",
       "    </tr>\n",
       "    <tr>\n",
       "      <th>6</th>\n",
       "      <td>china</td>\n",
       "      <td>[-0.11286, 0.033802, -0.2941, -0.75285, 0.0542...</td>\n",
       "    </tr>\n",
       "    <tr>\n",
       "      <th>7</th>\n",
       "      <td>india</td>\n",
       "      <td>[-0.11337, -0.57114, 0.070453, -0.36241, -0.05...</td>\n",
       "    </tr>\n",
       "    <tr>\n",
       "      <th>8</th>\n",
       "      <td>husband</td>\n",
       "      <td>[-0.2866, -0.32581, -0.051729, -0.21017, -0.03...</td>\n",
       "    </tr>\n",
       "    <tr>\n",
       "      <th>9</th>\n",
       "      <td>wife</td>\n",
       "      <td>[-0.62203, -0.091568, -0.45238, -0.45005, 0.12...</td>\n",
       "    </tr>\n",
       "    <tr>\n",
       "      <th>10</th>\n",
       "      <td>brother</td>\n",
       "      <td>[-0.11814, 0.33494, 0.14149, -0.33411, 0.09787...</td>\n",
       "    </tr>\n",
       "    <tr>\n",
       "      <th>11</th>\n",
       "      <td>sister</td>\n",
       "      <td>[-0.47697, 0.076817, -0.47216, -0.13498, 0.192...</td>\n",
       "    </tr>\n",
       "    <tr>\n",
       "      <th>12</th>\n",
       "      <td>red</td>\n",
       "      <td>[0.059672, -0.13475, 0.26764, -0.47441, 0.0156...</td>\n",
       "    </tr>\n",
       "    <tr>\n",
       "      <th>13</th>\n",
       "      <td>yellow</td>\n",
       "      <td>[-0.053451, 0.049399, 0.1133, -0.81798, -0.163...</td>\n",
       "    </tr>\n",
       "    <tr>\n",
       "      <th>14</th>\n",
       "      <td>computer</td>\n",
       "      <td>[-0.27628, 0.13999, 0.098519, -0.64019, 0.0319...</td>\n",
       "    </tr>\n",
       "    <tr>\n",
       "      <th>15</th>\n",
       "      <td>mobile</td>\n",
       "      <td>[-0.93518, 0.11477, -0.2488, -0.29031, -0.3565...</td>\n",
       "    </tr>\n",
       "    <tr>\n",
       "      <th>16</th>\n",
       "      <td>pear</td>\n",
       "      <td>[-0.49423, -0.18297, 0.44304, -0.45103, 0.0562...</td>\n",
       "    </tr>\n",
       "    <tr>\n",
       "      <th>17</th>\n",
       "      <td>guava</td>\n",
       "      <td>[0.32138, -0.43799, 0.48669, -0.41138, -0.0663...</td>\n",
       "    </tr>\n",
       "  </tbody>\n",
       "</table>\n",
       "</div>"
      ],
      "text/plain": [
       "           0                                                  1\n",
       "0      apple  [-0.20842, -0.019668, 0.063981, -0.71403, -0.2...\n",
       "1     orange  [-0.24776, -0.12359, 0.20986, -0.15834, -0.158...\n",
       "2     shimla  [-0.083216, -0.235, 0.34561, 0.082819, 0.41372...\n",
       "3     banana  [0.42141, 0.020467, 0.12666, 0.39762, -0.11016...\n",
       "4     maruti  [-0.097778, 0.39619, -0.1984, 0.12019, 0.47573...\n",
       "5     mumbai  [-0.25335, -0.41384, 0.15746, 0.23978, 0.09889...\n",
       "6      china  [-0.11286, 0.033802, -0.2941, -0.75285, 0.0542...\n",
       "7      india  [-0.11337, -0.57114, 0.070453, -0.36241, -0.05...\n",
       "8    husband  [-0.2866, -0.32581, -0.051729, -0.21017, -0.03...\n",
       "9       wife  [-0.62203, -0.091568, -0.45238, -0.45005, 0.12...\n",
       "10   brother  [-0.11814, 0.33494, 0.14149, -0.33411, 0.09787...\n",
       "11    sister  [-0.47697, 0.076817, -0.47216, -0.13498, 0.192...\n",
       "12       red  [0.059672, -0.13475, 0.26764, -0.47441, 0.0156...\n",
       "13    yellow  [-0.053451, 0.049399, 0.1133, -0.81798, -0.163...\n",
       "14  computer  [-0.27628, 0.13999, 0.098519, -0.64019, 0.0319...\n",
       "15    mobile  [-0.93518, 0.11477, -0.2488, -0.29031, -0.3565...\n",
       "16      pear  [-0.49423, -0.18297, 0.44304, -0.45103, 0.0562...\n",
       "17     guava  [0.32138, -0.43799, 0.48669, -0.41138, -0.0663..."
      ]
     },
     "execution_count": 17,
     "metadata": {},
     "output_type": "execute_result"
    }
   ],
   "source": [
    "import pandas as pd\n",
    "pd.DataFrame(dicts)"
   ]
  },
  {
   "cell_type": "code",
   "execution_count": 18,
   "metadata": {},
   "outputs": [],
   "source": [
    "dim_model=TSNE(n_components=2,perplexity=3,init='pca',random_state=45)\n"
   ]
  },
  {
   "cell_type": "code",
   "execution_count": 23,
   "metadata": {},
   "outputs": [
    {
     "name": "stderr",
     "output_type": "stream",
     "text": [
      "C:\\Users\\kusha\\AppData\\Roaming\\Python\\Python310\\site-packages\\sklearn\\manifold\\_t_sne.py:805: FutureWarning: The default learning rate in TSNE will change from 200.0 to 'auto' in 1.2.\n",
      "  warnings.warn(\n",
      "C:\\Users\\kusha\\AppData\\Roaming\\Python\\Python310\\site-packages\\sklearn\\manifold\\_t_sne.py:991: FutureWarning: The PCA initialization in TSNE will change to have the standard deviation of PC1 equal to 1e-4 in 1.2. This will ensure better convergence.\n",
      "  warnings.warn(\n"
     ]
    },
    {
     "data": {
      "image/png": "[encoded data removed]",
      "text/plain": [
       "<Figure size 576x576 with 1 Axes>"
      ]
     },
     "metadata": {
      "needs_background": "light"
     },
     "output_type": "display_data"
    }
   ],
   "source": [
    "fit_model=dim_model.fit_transform(vectors)\n",
    "\n",
    "import matplotlib.pyplot as plt\n",
    "\n",
    "X=[]\n",
    "y=[]\n",
    "\n",
    "for i in fit_model:\n",
    "    X.append(i[0])\n",
    "    y.append(i[1])\n",
    "\n",
    "plt.figure(figsize=(8,8))\n",
    "for i in range(len(X)):\n",
    "    plt.scatter(X[i],y[i])\n",
    "    plt.annotate(words[i],xy=(X[i],y[i]),xytext=(2,2),textcoords='offset points',\n",
    "                 ha='right',\n",
    "                 va='bottom')\n"
   ]
  },
  {
   "cell_type": "code",
   "execution_count": 24,
   "metadata": {},
   "outputs": [],
   "source": [
    "###\n",
    "\n",
    "# word2vec model"
   ]
  },
  {
   "cell_type": "code",
   "execution_count": null,
   "metadata": {},
   "outputs": [],
   "source": [
    "import os\n",
    "import re \n",
    "import sys\n",
    "import numpy as np\n",
    "import pandas as pd"
   ]
  }
 ],
 "metadata": {
  "kernelspec": {
   "display_name": "Python 3",
   "language": "python",
   "name": "python3"
  },
  "language_info": {
   "codemirror_mode": {
    "name": "ipython",
    "version": 3
   },
   "file_extension": ".py",
   "mimetype": "text/x-python",
   "name": "python",
   "nbconvert_exporter": "python",
   "pygments_lexer": "ipython3",
   "version": "3.10.4"
  }
 },
 "nbformat": 4,
 "nbformat_minor": 2
}
