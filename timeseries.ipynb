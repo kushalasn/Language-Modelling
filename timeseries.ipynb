{
 "cells": [
  {
   "cell_type": "code",
   "execution_count": 1,
   "metadata": {},
   "outputs": [
    {
     "name": "stderr",
     "output_type": "stream",
     "text": [
      "'wget' is not recognized as an internal or external command,\n",
      "operable program or batch file.\n",
      "'unzip' is not recognized as an internal or external command,\n",
      "operable program or batch file.\n"
     ]
    }
   ],
   "source": [
    "!wget https://s3.amazonaws.com/keras-datasets/jena_climate_2009_2016.csv.zip\n",
    "!unzip jena_climate_2009_2016.csv.zip"
   ]
  },
  {
   "cell_type": "code",
   "execution_count": 24,
   "metadata": {},
   "outputs": [],
   "source": [
    "import os\n",
    "import pandas as pd\n",
    "\n",
    "data=pd.read_csv(\"C:/Users/kusha/OneDrive/Desktop/Task/Deep_Learning_Everyday/tm/jena_climate_2009_2016.csv\")"
   ]
  },
  {
   "cell_type": "code",
   "execution_count": 25,
   "metadata": {},
   "outputs": [
    {
     "data": {
      "text/html": [
       "<div>\n",
       "<style scoped>\n",
       "    .dataframe tbody tr th:only-of-type {\n",
       "        vertical-align: middle;\n",
       "    }\n",
       "\n",
       "    .dataframe tbody tr th {\n",
       "        vertical-align: top;\n",
       "    }\n",
       "\n",
       "    .dataframe thead th {\n",
       "        text-align: right;\n",
       "    }\n",
       "</style>\n",
       "<table border=\"1\" class=\"dataframe\">\n",
       "  <thead>\n",
       "    <tr style=\"text-align: right;\">\n",
       "      <th></th>\n",
       "      <th>Date Time</th>\n",
       "      <th>p (mbar)</th>\n",
       "      <th>T (degC)</th>\n",
       "      <th>Tpot (K)</th>\n",
       "      <th>Tdew (degC)</th>\n",
       "      <th>rh (%)</th>\n",
       "      <th>VPmax (mbar)</th>\n",
       "      <th>VPact (mbar)</th>\n",
       "      <th>VPdef (mbar)</th>\n",
       "      <th>sh (g/kg)</th>\n",
       "      <th>H2OC (mmol/mol)</th>\n",
       "      <th>rho (g/m**3)</th>\n",
       "      <th>wv (m/s)</th>\n",
       "      <th>max. wv (m/s)</th>\n",
       "      <th>wd (deg)</th>\n",
       "    </tr>\n",
       "  </thead>\n",
       "  <tbody>\n",
       "    <tr>\n",
       "      <th>0</th>\n",
       "      <td>01.01.2009 00:10:00</td>\n",
       "      <td>996.52</td>\n",
       "      <td>-8.02</td>\n",
       "      <td>265.40</td>\n",
       "      <td>-8.90</td>\n",
       "      <td>93.30</td>\n",
       "      <td>3.33</td>\n",
       "      <td>3.11</td>\n",
       "      <td>0.22</td>\n",
       "      <td>1.94</td>\n",
       "      <td>3.12</td>\n",
       "      <td>1307.75</td>\n",
       "      <td>1.03</td>\n",
       "      <td>1.75</td>\n",
       "      <td>152.3</td>\n",
       "    </tr>\n",
       "    <tr>\n",
       "      <th>1</th>\n",
       "      <td>01.01.2009 00:20:00</td>\n",
       "      <td>996.57</td>\n",
       "      <td>-8.41</td>\n",
       "      <td>265.01</td>\n",
       "      <td>-9.28</td>\n",
       "      <td>93.40</td>\n",
       "      <td>3.23</td>\n",
       "      <td>3.02</td>\n",
       "      <td>0.21</td>\n",
       "      <td>1.89</td>\n",
       "      <td>3.03</td>\n",
       "      <td>1309.80</td>\n",
       "      <td>0.72</td>\n",
       "      <td>1.50</td>\n",
       "      <td>136.1</td>\n",
       "    </tr>\n",
       "    <tr>\n",
       "      <th>2</th>\n",
       "      <td>01.01.2009 00:30:00</td>\n",
       "      <td>996.53</td>\n",
       "      <td>-8.51</td>\n",
       "      <td>264.91</td>\n",
       "      <td>-9.31</td>\n",
       "      <td>93.90</td>\n",
       "      <td>3.21</td>\n",
       "      <td>3.01</td>\n",
       "      <td>0.20</td>\n",
       "      <td>1.88</td>\n",
       "      <td>3.02</td>\n",
       "      <td>1310.24</td>\n",
       "      <td>0.19</td>\n",
       "      <td>0.63</td>\n",
       "      <td>171.6</td>\n",
       "    </tr>\n",
       "    <tr>\n",
       "      <th>3</th>\n",
       "      <td>01.01.2009 00:40:00</td>\n",
       "      <td>996.51</td>\n",
       "      <td>-8.31</td>\n",
       "      <td>265.12</td>\n",
       "      <td>-9.07</td>\n",
       "      <td>94.20</td>\n",
       "      <td>3.26</td>\n",
       "      <td>3.07</td>\n",
       "      <td>0.19</td>\n",
       "      <td>1.92</td>\n",
       "      <td>3.08</td>\n",
       "      <td>1309.19</td>\n",
       "      <td>0.34</td>\n",
       "      <td>0.50</td>\n",
       "      <td>198.0</td>\n",
       "    </tr>\n",
       "    <tr>\n",
       "      <th>4</th>\n",
       "      <td>01.01.2009 00:50:00</td>\n",
       "      <td>996.51</td>\n",
       "      <td>-8.27</td>\n",
       "      <td>265.15</td>\n",
       "      <td>-9.04</td>\n",
       "      <td>94.10</td>\n",
       "      <td>3.27</td>\n",
       "      <td>3.08</td>\n",
       "      <td>0.19</td>\n",
       "      <td>1.92</td>\n",
       "      <td>3.09</td>\n",
       "      <td>1309.00</td>\n",
       "      <td>0.32</td>\n",
       "      <td>0.63</td>\n",
       "      <td>214.3</td>\n",
       "    </tr>\n",
       "    <tr>\n",
       "      <th>...</th>\n",
       "      <td>...</td>\n",
       "      <td>...</td>\n",
       "      <td>...</td>\n",
       "      <td>...</td>\n",
       "      <td>...</td>\n",
       "      <td>...</td>\n",
       "      <td>...</td>\n",
       "      <td>...</td>\n",
       "      <td>...</td>\n",
       "      <td>...</td>\n",
       "      <td>...</td>\n",
       "      <td>...</td>\n",
       "      <td>...</td>\n",
       "      <td>...</td>\n",
       "      <td>...</td>\n",
       "    </tr>\n",
       "    <tr>\n",
       "      <th>420546</th>\n",
       "      <td>31.12.2016 23:20:00</td>\n",
       "      <td>1000.07</td>\n",
       "      <td>-4.05</td>\n",
       "      <td>269.10</td>\n",
       "      <td>-8.13</td>\n",
       "      <td>73.10</td>\n",
       "      <td>4.52</td>\n",
       "      <td>3.30</td>\n",
       "      <td>1.22</td>\n",
       "      <td>2.06</td>\n",
       "      <td>3.30</td>\n",
       "      <td>1292.98</td>\n",
       "      <td>0.67</td>\n",
       "      <td>1.52</td>\n",
       "      <td>240.0</td>\n",
       "    </tr>\n",
       "    <tr>\n",
       "      <th>420547</th>\n",
       "      <td>31.12.2016 23:30:00</td>\n",
       "      <td>999.93</td>\n",
       "      <td>-3.35</td>\n",
       "      <td>269.81</td>\n",
       "      <td>-8.06</td>\n",
       "      <td>69.71</td>\n",
       "      <td>4.77</td>\n",
       "      <td>3.32</td>\n",
       "      <td>1.44</td>\n",
       "      <td>2.07</td>\n",
       "      <td>3.32</td>\n",
       "      <td>1289.44</td>\n",
       "      <td>1.14</td>\n",
       "      <td>1.92</td>\n",
       "      <td>234.3</td>\n",
       "    </tr>\n",
       "    <tr>\n",
       "      <th>420548</th>\n",
       "      <td>31.12.2016 23:40:00</td>\n",
       "      <td>999.82</td>\n",
       "      <td>-3.16</td>\n",
       "      <td>270.01</td>\n",
       "      <td>-8.21</td>\n",
       "      <td>67.91</td>\n",
       "      <td>4.84</td>\n",
       "      <td>3.28</td>\n",
       "      <td>1.55</td>\n",
       "      <td>2.05</td>\n",
       "      <td>3.28</td>\n",
       "      <td>1288.39</td>\n",
       "      <td>1.08</td>\n",
       "      <td>2.00</td>\n",
       "      <td>215.2</td>\n",
       "    </tr>\n",
       "    <tr>\n",
       "      <th>420549</th>\n",
       "      <td>31.12.2016 23:50:00</td>\n",
       "      <td>999.81</td>\n",
       "      <td>-4.23</td>\n",
       "      <td>268.94</td>\n",
       "      <td>-8.53</td>\n",
       "      <td>71.80</td>\n",
       "      <td>4.46</td>\n",
       "      <td>3.20</td>\n",
       "      <td>1.26</td>\n",
       "      <td>1.99</td>\n",
       "      <td>3.20</td>\n",
       "      <td>1293.56</td>\n",
       "      <td>1.49</td>\n",
       "      <td>2.16</td>\n",
       "      <td>225.8</td>\n",
       "    </tr>\n",
       "    <tr>\n",
       "      <th>420550</th>\n",
       "      <td>01.01.2017 00:00:00</td>\n",
       "      <td>999.82</td>\n",
       "      <td>-4.82</td>\n",
       "      <td>268.36</td>\n",
       "      <td>-8.42</td>\n",
       "      <td>75.70</td>\n",
       "      <td>4.27</td>\n",
       "      <td>3.23</td>\n",
       "      <td>1.04</td>\n",
       "      <td>2.01</td>\n",
       "      <td>3.23</td>\n",
       "      <td>1296.38</td>\n",
       "      <td>1.23</td>\n",
       "      <td>1.96</td>\n",
       "      <td>184.9</td>\n",
       "    </tr>\n",
       "  </tbody>\n",
       "</table>\n",
       "<p>420551 rows × 15 columns</p>\n",
       "</div>"
      ],
      "text/plain": [
       "                  Date Time  p (mbar)  T (degC)  Tpot (K)  Tdew (degC)  \\\n",
       "0       01.01.2009 00:10:00    996.52     -8.02    265.40        -8.90   \n",
       "1       01.01.2009 00:20:00    996.57     -8.41    265.01        -9.28   \n",
       "2       01.01.2009 00:30:00    996.53     -8.51    264.91        -9.31   \n",
       "3       01.01.2009 00:40:00    996.51     -8.31    265.12        -9.07   \n",
       "4       01.01.2009 00:50:00    996.51     -8.27    265.15        -9.04   \n",
       "...                     ...       ...       ...       ...          ...   \n",
       "420546  31.12.2016 23:20:00   1000.07     -4.05    269.10        -8.13   \n",
       "420547  31.12.2016 23:30:00    999.93     -3.35    269.81        -8.06   \n",
       "420548  31.12.2016 23:40:00    999.82     -3.16    270.01        -8.21   \n",
       "420549  31.12.2016 23:50:00    999.81     -4.23    268.94        -8.53   \n",
       "420550  01.01.2017 00:00:00    999.82     -4.82    268.36        -8.42   \n",
       "\n",
       "        rh (%)  VPmax (mbar)  VPact (mbar)  VPdef (mbar)  sh (g/kg)  \\\n",
       "0        93.30          3.33          3.11          0.22       1.94   \n",
       "1        93.40          3.23          3.02          0.21       1.89   \n",
       "2        93.90          3.21          3.01          0.20       1.88   \n",
       "3        94.20          3.26          3.07          0.19       1.92   \n",
       "4        94.10          3.27          3.08          0.19       1.92   \n",
       "...        ...           ...           ...           ...        ...   \n",
       "420546   73.10          4.52          3.30          1.22       2.06   \n",
       "420547   69.71          4.77          3.32          1.44       2.07   \n",
       "420548   67.91          4.84          3.28          1.55       2.05   \n",
       "420549   71.80          4.46          3.20          1.26       1.99   \n",
       "420550   75.70          4.27          3.23          1.04       2.01   \n",
       "\n",
       "        H2OC (mmol/mol)  rho (g/m**3)  wv (m/s)  max. wv (m/s)  wd (deg)  \n",
       "0                  3.12       1307.75      1.03           1.75     152.3  \n",
       "1                  3.03       1309.80      0.72           1.50     136.1  \n",
       "2                  3.02       1310.24      0.19           0.63     171.6  \n",
       "3                  3.08       1309.19      0.34           0.50     198.0  \n",
       "4                  3.09       1309.00      0.32           0.63     214.3  \n",
       "...                 ...           ...       ...            ...       ...  \n",
       "420546             3.30       1292.98      0.67           1.52     240.0  \n",
       "420547             3.32       1289.44      1.14           1.92     234.3  \n",
       "420548             3.28       1288.39      1.08           2.00     215.2  \n",
       "420549             3.20       1293.56      1.49           2.16     225.8  \n",
       "420550             3.23       1296.38      1.23           1.96     184.9  \n",
       "\n",
       "[420551 rows x 15 columns]"
      ]
     },
     "execution_count": 25,
     "metadata": {},
     "output_type": "execute_result"
    }
   ],
   "source": [
    "data"
   ]
  },
  {
   "cell_type": "code",
   "execution_count": 17,
   "metadata": {},
   "outputs": [],
   "source": [
    "num_train_samples=int(0.5*len(data))\n",
    "num_valid_samples=int(0.25*len(data))\n",
    "num_test_samples=int(0.25*len(data))\n"
   ]
  },
  {
   "cell_type": "code",
   "execution_count": 26,
   "metadata": {},
   "outputs": [],
   "source": [
    "mean=data.loc[:, data.columns != 'Date Time'][:num_train_samples].mean(axis=0)"
   ]
  },
  {
   "cell_type": "code",
   "execution_count": 27,
   "metadata": {},
   "outputs": [
    {
     "data": {
      "text/plain": [
       "p (mbar)            988.748898\n",
       "T (degC)              8.825443\n",
       "Tpot (K)            282.904641\n",
       "Tdew (degC)           4.312734\n",
       "rh (%)               75.871407\n",
       "VPmax (mbar)         13.144940\n",
       "VPact (mbar)          9.193617\n",
       "VPdef (mbar)          3.951248\n",
       "sh (g/kg)             5.810175\n",
       "H2OC (mmol/mol)       9.301560\n",
       "rho (g/m**3)       1218.453496\n",
       "wv (m/s)              2.149935\n",
       "max. wv (m/s)         3.560588\n",
       "wd (deg)            176.441517\n",
       "dtype: float64"
      ]
     },
     "execution_count": 27,
     "metadata": {},
     "output_type": "execute_result"
    }
   ],
   "source": [
    "mean"
   ]
  },
  {
   "cell_type": "code",
   "execution_count": 28,
   "metadata": {},
   "outputs": [],
   "source": [
    "data.loc[:, data.columns != 'Date Time'] -= mean\n",
    "std = data.loc[:, data.columns != 'Date Time'][:num_train_samples].std(axis=0)\n",
    "data.loc[:, data.columns != 'Date Time'] /= std"
   ]
  },
  {
   "cell_type": "code",
   "execution_count": 29,
   "metadata": {},
   "outputs": [
    {
     "data": {
      "text/html": [
       "<div>\n",
       "<style scoped>\n",
       "    .dataframe tbody tr th:only-of-type {\n",
       "        vertical-align: middle;\n",
       "    }\n",
       "\n",
       "    .dataframe tbody tr th {\n",
       "        vertical-align: top;\n",
       "    }\n",
       "\n",
       "    .dataframe thead th {\n",
       "        text-align: right;\n",
       "    }\n",
       "</style>\n",
       "<table border=\"1\" class=\"dataframe\">\n",
       "  <thead>\n",
       "    <tr style=\"text-align: right;\">\n",
       "      <th></th>\n",
       "      <th>Date Time</th>\n",
       "      <th>p (mbar)</th>\n",
       "      <th>T (degC)</th>\n",
       "      <th>Tpot (K)</th>\n",
       "      <th>Tdew (degC)</th>\n",
       "      <th>rh (%)</th>\n",
       "      <th>VPmax (mbar)</th>\n",
       "      <th>VPact (mbar)</th>\n",
       "      <th>VPdef (mbar)</th>\n",
       "      <th>sh (g/kg)</th>\n",
       "      <th>H2OC (mmol/mol)</th>\n",
       "      <th>rho (g/m**3)</th>\n",
       "      <th>wv (m/s)</th>\n",
       "      <th>max. wv (m/s)</th>\n",
       "      <th>wd (deg)</th>\n",
       "    </tr>\n",
       "  </thead>\n",
       "  <tbody>\n",
       "    <tr>\n",
       "      <th>0</th>\n",
       "      <td>01.01.2009 00:10:00</td>\n",
       "      <td>0.913800</td>\n",
       "      <td>-1.920800</td>\n",
       "      <td>-1.974664</td>\n",
       "      <td>-1.866366</td>\n",
       "      <td>1.048204</td>\n",
       "      <td>-1.291343</td>\n",
       "      <td>-1.467150</td>\n",
       "      <td>-0.782383</td>\n",
       "      <td>-1.470122</td>\n",
       "      <td>-1.472031</td>\n",
       "      <td>2.124363</td>\n",
       "      <td>-0.730260</td>\n",
       "      <td>-0.779439</td>\n",
       "      <td>-0.281233</td>\n",
       "    </tr>\n",
       "    <tr>\n",
       "      <th>1</th>\n",
       "      <td>01.01.2009 00:20:00</td>\n",
       "      <td>0.919680</td>\n",
       "      <td>-1.965270</td>\n",
       "      <td>-2.018659</td>\n",
       "      <td>-1.920043</td>\n",
       "      <td>1.054219</td>\n",
       "      <td>-1.304500</td>\n",
       "      <td>-1.488855</td>\n",
       "      <td>-0.784480</td>\n",
       "      <td>-1.489115</td>\n",
       "      <td>-1.493463</td>\n",
       "      <td>2.173132</td>\n",
       "      <td>-0.932398</td>\n",
       "      <td>-0.887061</td>\n",
       "      <td>-0.469953</td>\n",
       "    </tr>\n",
       "    <tr>\n",
       "      <th>2</th>\n",
       "      <td>01.01.2009 00:30:00</td>\n",
       "      <td>0.914976</td>\n",
       "      <td>-1.976672</td>\n",
       "      <td>-2.029940</td>\n",
       "      <td>-1.924281</td>\n",
       "      <td>1.084290</td>\n",
       "      <td>-1.307131</td>\n",
       "      <td>-1.491266</td>\n",
       "      <td>-0.786577</td>\n",
       "      <td>-1.492913</td>\n",
       "      <td>-1.495845</td>\n",
       "      <td>2.183600</td>\n",
       "      <td>-1.277987</td>\n",
       "      <td>-1.261587</td>\n",
       "      <td>-0.056401</td>\n",
       "    </tr>\n",
       "    <tr>\n",
       "      <th>3</th>\n",
       "      <td>01.01.2009 00:40:00</td>\n",
       "      <td>0.912624</td>\n",
       "      <td>-1.953867</td>\n",
       "      <td>-2.006250</td>\n",
       "      <td>-1.890379</td>\n",
       "      <td>1.102333</td>\n",
       "      <td>-1.300553</td>\n",
       "      <td>-1.476797</td>\n",
       "      <td>-0.788674</td>\n",
       "      <td>-1.477719</td>\n",
       "      <td>-1.481557</td>\n",
       "      <td>2.158620</td>\n",
       "      <td>-1.180179</td>\n",
       "      <td>-1.317550</td>\n",
       "      <td>0.251143</td>\n",
       "    </tr>\n",
       "    <tr>\n",
       "      <th>4</th>\n",
       "      <td>01.01.2009 00:50:00</td>\n",
       "      <td>0.912624</td>\n",
       "      <td>-1.949306</td>\n",
       "      <td>-2.002866</td>\n",
       "      <td>-1.886142</td>\n",
       "      <td>1.096319</td>\n",
       "      <td>-1.299237</td>\n",
       "      <td>-1.474385</td>\n",
       "      <td>-0.788674</td>\n",
       "      <td>-1.477719</td>\n",
       "      <td>-1.479175</td>\n",
       "      <td>2.154100</td>\n",
       "      <td>-1.193220</td>\n",
       "      <td>-1.261587</td>\n",
       "      <td>0.441027</td>\n",
       "    </tr>\n",
       "    <tr>\n",
       "      <th>...</th>\n",
       "      <td>...</td>\n",
       "      <td>...</td>\n",
       "      <td>...</td>\n",
       "      <td>...</td>\n",
       "      <td>...</td>\n",
       "      <td>...</td>\n",
       "      <td>...</td>\n",
       "      <td>...</td>\n",
       "      <td>...</td>\n",
       "      <td>...</td>\n",
       "      <td>...</td>\n",
       "      <td>...</td>\n",
       "      <td>...</td>\n",
       "      <td>...</td>\n",
       "      <td>...</td>\n",
       "    </tr>\n",
       "    <tr>\n",
       "      <th>420546</th>\n",
       "      <td>31.12.2016 23:20:00</td>\n",
       "      <td>1.331243</td>\n",
       "      <td>-1.468121</td>\n",
       "      <td>-1.557274</td>\n",
       "      <td>-1.757600</td>\n",
       "      <td>-0.166680</td>\n",
       "      <td>-1.134775</td>\n",
       "      <td>-1.421329</td>\n",
       "      <td>-0.572699</td>\n",
       "      <td>-1.424539</td>\n",
       "      <td>-1.429168</td>\n",
       "      <td>1.772985</td>\n",
       "      <td>-0.965001</td>\n",
       "      <td>-0.878451</td>\n",
       "      <td>0.740416</td>\n",
       "    </tr>\n",
       "    <tr>\n",
       "      <th>420547</th>\n",
       "      <td>31.12.2016 23:30:00</td>\n",
       "      <td>1.314781</td>\n",
       "      <td>-1.388304</td>\n",
       "      <td>-1.477181</td>\n",
       "      <td>-1.747712</td>\n",
       "      <td>-0.370564</td>\n",
       "      <td>-1.101883</td>\n",
       "      <td>-1.416506</td>\n",
       "      <td>-0.526569</td>\n",
       "      <td>-1.420740</td>\n",
       "      <td>-1.424405</td>\n",
       "      <td>1.688768</td>\n",
       "      <td>-0.658534</td>\n",
       "      <td>-0.706256</td>\n",
       "      <td>0.674014</td>\n",
       "    </tr>\n",
       "    <tr>\n",
       "      <th>420548</th>\n",
       "      <td>31.12.2016 23:40:00</td>\n",
       "      <td>1.301846</td>\n",
       "      <td>-1.366639</td>\n",
       "      <td>-1.454619</td>\n",
       "      <td>-1.768900</td>\n",
       "      <td>-0.478821</td>\n",
       "      <td>-1.092673</td>\n",
       "      <td>-1.426152</td>\n",
       "      <td>-0.503503</td>\n",
       "      <td>-1.428337</td>\n",
       "      <td>-1.433930</td>\n",
       "      <td>1.663789</td>\n",
       "      <td>-0.697658</td>\n",
       "      <td>-0.671816</td>\n",
       "      <td>0.451512</td>\n",
       "    </tr>\n",
       "    <tr>\n",
       "      <th>420549</th>\n",
       "      <td>31.12.2016 23:50:00</td>\n",
       "      <td>1.300670</td>\n",
       "      <td>-1.488646</td>\n",
       "      <td>-1.575324</td>\n",
       "      <td>-1.814102</td>\n",
       "      <td>-0.244866</td>\n",
       "      <td>-1.142670</td>\n",
       "      <td>-1.445445</td>\n",
       "      <td>-0.564312</td>\n",
       "      <td>-1.451129</td>\n",
       "      <td>-1.452981</td>\n",
       "      <td>1.786783</td>\n",
       "      <td>-0.430315</td>\n",
       "      <td>-0.602938</td>\n",
       "      <td>0.574995</td>\n",
       "    </tr>\n",
       "    <tr>\n",
       "      <th>420550</th>\n",
       "      <td>01.01.2017 00:00:00</td>\n",
       "      <td>1.301846</td>\n",
       "      <td>-1.555920</td>\n",
       "      <td>-1.640752</td>\n",
       "      <td>-1.798564</td>\n",
       "      <td>-0.010309</td>\n",
       "      <td>-1.167668</td>\n",
       "      <td>-1.438210</td>\n",
       "      <td>-0.610442</td>\n",
       "      <td>-1.443532</td>\n",
       "      <td>-1.445837</td>\n",
       "      <td>1.853871</td>\n",
       "      <td>-0.599849</td>\n",
       "      <td>-0.689036</td>\n",
       "      <td>0.098536</td>\n",
       "    </tr>\n",
       "  </tbody>\n",
       "</table>\n",
       "<p>420551 rows × 15 columns</p>\n",
       "</div>"
      ],
      "text/plain": [
       "                  Date Time  p (mbar)  T (degC)  Tpot (K)  Tdew (degC)  \\\n",
       "0       01.01.2009 00:10:00  0.913800 -1.920800 -1.974664    -1.866366   \n",
       "1       01.01.2009 00:20:00  0.919680 -1.965270 -2.018659    -1.920043   \n",
       "2       01.01.2009 00:30:00  0.914976 -1.976672 -2.029940    -1.924281   \n",
       "3       01.01.2009 00:40:00  0.912624 -1.953867 -2.006250    -1.890379   \n",
       "4       01.01.2009 00:50:00  0.912624 -1.949306 -2.002866    -1.886142   \n",
       "...                     ...       ...       ...       ...          ...   \n",
       "420546  31.12.2016 23:20:00  1.331243 -1.468121 -1.557274    -1.757600   \n",
       "420547  31.12.2016 23:30:00  1.314781 -1.388304 -1.477181    -1.747712   \n",
       "420548  31.12.2016 23:40:00  1.301846 -1.366639 -1.454619    -1.768900   \n",
       "420549  31.12.2016 23:50:00  1.300670 -1.488646 -1.575324    -1.814102   \n",
       "420550  01.01.2017 00:00:00  1.301846 -1.555920 -1.640752    -1.798564   \n",
       "\n",
       "          rh (%)  VPmax (mbar)  VPact (mbar)  VPdef (mbar)  sh (g/kg)  \\\n",
       "0       1.048204     -1.291343     -1.467150     -0.782383  -1.470122   \n",
       "1       1.054219     -1.304500     -1.488855     -0.784480  -1.489115   \n",
       "2       1.084290     -1.307131     -1.491266     -0.786577  -1.492913   \n",
       "3       1.102333     -1.300553     -1.476797     -0.788674  -1.477719   \n",
       "4       1.096319     -1.299237     -1.474385     -0.788674  -1.477719   \n",
       "...          ...           ...           ...           ...        ...   \n",
       "420546 -0.166680     -1.134775     -1.421329     -0.572699  -1.424539   \n",
       "420547 -0.370564     -1.101883     -1.416506     -0.526569  -1.420740   \n",
       "420548 -0.478821     -1.092673     -1.426152     -0.503503  -1.428337   \n",
       "420549 -0.244866     -1.142670     -1.445445     -0.564312  -1.451129   \n",
       "420550 -0.010309     -1.167668     -1.438210     -0.610442  -1.443532   \n",
       "\n",
       "        H2OC (mmol/mol)  rho (g/m**3)  wv (m/s)  max. wv (m/s)  wd (deg)  \n",
       "0             -1.472031      2.124363 -0.730260      -0.779439 -0.281233  \n",
       "1             -1.493463      2.173132 -0.932398      -0.887061 -0.469953  \n",
       "2             -1.495845      2.183600 -1.277987      -1.261587 -0.056401  \n",
       "3             -1.481557      2.158620 -1.180179      -1.317550  0.251143  \n",
       "4             -1.479175      2.154100 -1.193220      -1.261587  0.441027  \n",
       "...                 ...           ...       ...            ...       ...  \n",
       "420546        -1.429168      1.772985 -0.965001      -0.878451  0.740416  \n",
       "420547        -1.424405      1.688768 -0.658534      -0.706256  0.674014  \n",
       "420548        -1.433930      1.663789 -0.697658      -0.671816  0.451512  \n",
       "420549        -1.452981      1.786783 -0.430315      -0.602938  0.574995  \n",
       "420550        -1.445837      1.853871 -0.599849      -0.689036  0.098536  \n",
       "\n",
       "[420551 rows x 15 columns]"
      ]
     },
     "execution_count": 29,
     "metadata": {},
     "output_type": "execute_result"
    }
   ],
   "source": [
    "data"
   ]
  },
  {
   "cell_type": "code",
   "execution_count": null,
   "metadata": {},
   "outputs": [],
   "source": []
  },
  {
   "cell_type": "code",
   "execution_count": null,
   "metadata": {},
   "outputs": [],
   "source": []
  },
  {
   "cell_type": "code",
   "execution_count": null,
   "metadata": {},
   "outputs": [],
   "source": []
  },
  {
   "cell_type": "code",
   "execution_count": 40,
   "metadata": {},
   "outputs": [
    {
     "name": "stdout",
     "output_type": "stream",
     "text": [
      "[0, 1, 2] 3\n",
      "[1, 2, 3] 4\n",
      "[2, 3, 4] 5\n",
      "[3, 4, 5] 6\n",
      "[4, 5, 6] 7\n"
     ]
    }
   ],
   "source": [
    "# understanding timeseries_dataset_from_array()\n",
    "\n",
    "import numpy as np\n",
    "from tensorflow import keras\n",
    "int_sequence=np.arange(10)\n",
    "dummy_dataset=keras.utils.timeseries_dataset_from_array(data=int_sequence[:-3],targets=int_sequence[3:],sequence_length=3,batch_size=2)\n",
    "\n",
    "for inputs,targets in dummy_dataset:\n",
    "    for i in range(inputs.shape[0]):\n",
    "        print([int(x) for x in inputs[i]], int(targets[i]))"
   ]
  },
  {
   "cell_type": "code",
   "execution_count": 41,
   "metadata": {},
   "outputs": [
    {
     "data": {
      "text/html": [
       "<div>\n",
       "<style scoped>\n",
       "    .dataframe tbody tr th:only-of-type {\n",
       "        vertical-align: middle;\n",
       "    }\n",
       "\n",
       "    .dataframe tbody tr th {\n",
       "        vertical-align: top;\n",
       "    }\n",
       "\n",
       "    .dataframe thead th {\n",
       "        text-align: right;\n",
       "    }\n",
       "</style>\n",
       "<table border=\"1\" class=\"dataframe\">\n",
       "  <thead>\n",
       "    <tr style=\"text-align: right;\">\n",
       "      <th></th>\n",
       "      <th>Date Time</th>\n",
       "      <th>p (mbar)</th>\n",
       "      <th>T (degC)</th>\n",
       "      <th>Tpot (K)</th>\n",
       "      <th>Tdew (degC)</th>\n",
       "      <th>rh (%)</th>\n",
       "      <th>VPmax (mbar)</th>\n",
       "      <th>VPact (mbar)</th>\n",
       "      <th>VPdef (mbar)</th>\n",
       "      <th>sh (g/kg)</th>\n",
       "      <th>H2OC (mmol/mol)</th>\n",
       "      <th>rho (g/m**3)</th>\n",
       "      <th>wv (m/s)</th>\n",
       "      <th>max. wv (m/s)</th>\n",
       "      <th>wd (deg)</th>\n",
       "    </tr>\n",
       "  </thead>\n",
       "  <tbody>\n",
       "    <tr>\n",
       "      <th>0</th>\n",
       "      <td>01.01.2009 00:10:00</td>\n",
       "      <td>0.913800</td>\n",
       "      <td>-1.920800</td>\n",
       "      <td>-1.974664</td>\n",
       "      <td>-1.866366</td>\n",
       "      <td>1.048204</td>\n",
       "      <td>-1.291343</td>\n",
       "      <td>-1.467150</td>\n",
       "      <td>-0.782383</td>\n",
       "      <td>-1.470122</td>\n",
       "      <td>-1.472031</td>\n",
       "      <td>2.124363</td>\n",
       "      <td>-0.730260</td>\n",
       "      <td>-0.779439</td>\n",
       "      <td>-0.281233</td>\n",
       "    </tr>\n",
       "    <tr>\n",
       "      <th>1</th>\n",
       "      <td>01.01.2009 00:20:00</td>\n",
       "      <td>0.919680</td>\n",
       "      <td>-1.965270</td>\n",
       "      <td>-2.018659</td>\n",
       "      <td>-1.920043</td>\n",
       "      <td>1.054219</td>\n",
       "      <td>-1.304500</td>\n",
       "      <td>-1.488855</td>\n",
       "      <td>-0.784480</td>\n",
       "      <td>-1.489115</td>\n",
       "      <td>-1.493463</td>\n",
       "      <td>2.173132</td>\n",
       "      <td>-0.932398</td>\n",
       "      <td>-0.887061</td>\n",
       "      <td>-0.469953</td>\n",
       "    </tr>\n",
       "    <tr>\n",
       "      <th>2</th>\n",
       "      <td>01.01.2009 00:30:00</td>\n",
       "      <td>0.914976</td>\n",
       "      <td>-1.976672</td>\n",
       "      <td>-2.029940</td>\n",
       "      <td>-1.924281</td>\n",
       "      <td>1.084290</td>\n",
       "      <td>-1.307131</td>\n",
       "      <td>-1.491266</td>\n",
       "      <td>-0.786577</td>\n",
       "      <td>-1.492913</td>\n",
       "      <td>-1.495845</td>\n",
       "      <td>2.183600</td>\n",
       "      <td>-1.277987</td>\n",
       "      <td>-1.261587</td>\n",
       "      <td>-0.056401</td>\n",
       "    </tr>\n",
       "    <tr>\n",
       "      <th>3</th>\n",
       "      <td>01.01.2009 00:40:00</td>\n",
       "      <td>0.912624</td>\n",
       "      <td>-1.953867</td>\n",
       "      <td>-2.006250</td>\n",
       "      <td>-1.890379</td>\n",
       "      <td>1.102333</td>\n",
       "      <td>-1.300553</td>\n",
       "      <td>-1.476797</td>\n",
       "      <td>-0.788674</td>\n",
       "      <td>-1.477719</td>\n",
       "      <td>-1.481557</td>\n",
       "      <td>2.158620</td>\n",
       "      <td>-1.180179</td>\n",
       "      <td>-1.317550</td>\n",
       "      <td>0.251143</td>\n",
       "    </tr>\n",
       "    <tr>\n",
       "      <th>4</th>\n",
       "      <td>01.01.2009 00:50:00</td>\n",
       "      <td>0.912624</td>\n",
       "      <td>-1.949306</td>\n",
       "      <td>-2.002866</td>\n",
       "      <td>-1.886142</td>\n",
       "      <td>1.096319</td>\n",
       "      <td>-1.299237</td>\n",
       "      <td>-1.474385</td>\n",
       "      <td>-0.788674</td>\n",
       "      <td>-1.477719</td>\n",
       "      <td>-1.479175</td>\n",
       "      <td>2.154100</td>\n",
       "      <td>-1.193220</td>\n",
       "      <td>-1.261587</td>\n",
       "      <td>0.441027</td>\n",
       "    </tr>\n",
       "    <tr>\n",
       "      <th>...</th>\n",
       "      <td>...</td>\n",
       "      <td>...</td>\n",
       "      <td>...</td>\n",
       "      <td>...</td>\n",
       "      <td>...</td>\n",
       "      <td>...</td>\n",
       "      <td>...</td>\n",
       "      <td>...</td>\n",
       "      <td>...</td>\n",
       "      <td>...</td>\n",
       "      <td>...</td>\n",
       "      <td>...</td>\n",
       "      <td>...</td>\n",
       "      <td>...</td>\n",
       "      <td>...</td>\n",
       "    </tr>\n",
       "    <tr>\n",
       "      <th>420546</th>\n",
       "      <td>31.12.2016 23:20:00</td>\n",
       "      <td>1.331243</td>\n",
       "      <td>-1.468121</td>\n",
       "      <td>-1.557274</td>\n",
       "      <td>-1.757600</td>\n",
       "      <td>-0.166680</td>\n",
       "      <td>-1.134775</td>\n",
       "      <td>-1.421329</td>\n",
       "      <td>-0.572699</td>\n",
       "      <td>-1.424539</td>\n",
       "      <td>-1.429168</td>\n",
       "      <td>1.772985</td>\n",
       "      <td>-0.965001</td>\n",
       "      <td>-0.878451</td>\n",
       "      <td>0.740416</td>\n",
       "    </tr>\n",
       "    <tr>\n",
       "      <th>420547</th>\n",
       "      <td>31.12.2016 23:30:00</td>\n",
       "      <td>1.314781</td>\n",
       "      <td>-1.388304</td>\n",
       "      <td>-1.477181</td>\n",
       "      <td>-1.747712</td>\n",
       "      <td>-0.370564</td>\n",
       "      <td>-1.101883</td>\n",
       "      <td>-1.416506</td>\n",
       "      <td>-0.526569</td>\n",
       "      <td>-1.420740</td>\n",
       "      <td>-1.424405</td>\n",
       "      <td>1.688768</td>\n",
       "      <td>-0.658534</td>\n",
       "      <td>-0.706256</td>\n",
       "      <td>0.674014</td>\n",
       "    </tr>\n",
       "    <tr>\n",
       "      <th>420548</th>\n",
       "      <td>31.12.2016 23:40:00</td>\n",
       "      <td>1.301846</td>\n",
       "      <td>-1.366639</td>\n",
       "      <td>-1.454619</td>\n",
       "      <td>-1.768900</td>\n",
       "      <td>-0.478821</td>\n",
       "      <td>-1.092673</td>\n",
       "      <td>-1.426152</td>\n",
       "      <td>-0.503503</td>\n",
       "      <td>-1.428337</td>\n",
       "      <td>-1.433930</td>\n",
       "      <td>1.663789</td>\n",
       "      <td>-0.697658</td>\n",
       "      <td>-0.671816</td>\n",
       "      <td>0.451512</td>\n",
       "    </tr>\n",
       "    <tr>\n",
       "      <th>420549</th>\n",
       "      <td>31.12.2016 23:50:00</td>\n",
       "      <td>1.300670</td>\n",
       "      <td>-1.488646</td>\n",
       "      <td>-1.575324</td>\n",
       "      <td>-1.814102</td>\n",
       "      <td>-0.244866</td>\n",
       "      <td>-1.142670</td>\n",
       "      <td>-1.445445</td>\n",
       "      <td>-0.564312</td>\n",
       "      <td>-1.451129</td>\n",
       "      <td>-1.452981</td>\n",
       "      <td>1.786783</td>\n",
       "      <td>-0.430315</td>\n",
       "      <td>-0.602938</td>\n",
       "      <td>0.574995</td>\n",
       "    </tr>\n",
       "    <tr>\n",
       "      <th>420550</th>\n",
       "      <td>01.01.2017 00:00:00</td>\n",
       "      <td>1.301846</td>\n",
       "      <td>-1.555920</td>\n",
       "      <td>-1.640752</td>\n",
       "      <td>-1.798564</td>\n",
       "      <td>-0.010309</td>\n",
       "      <td>-1.167668</td>\n",
       "      <td>-1.438210</td>\n",
       "      <td>-0.610442</td>\n",
       "      <td>-1.443532</td>\n",
       "      <td>-1.445837</td>\n",
       "      <td>1.853871</td>\n",
       "      <td>-0.599849</td>\n",
       "      <td>-0.689036</td>\n",
       "      <td>0.098536</td>\n",
       "    </tr>\n",
       "  </tbody>\n",
       "</table>\n",
       "<p>420551 rows × 15 columns</p>\n",
       "</div>"
      ],
      "text/plain": [
       "                  Date Time  p (mbar)  T (degC)  Tpot (K)  Tdew (degC)  \\\n",
       "0       01.01.2009 00:10:00  0.913800 -1.920800 -1.974664    -1.866366   \n",
       "1       01.01.2009 00:20:00  0.919680 -1.965270 -2.018659    -1.920043   \n",
       "2       01.01.2009 00:30:00  0.914976 -1.976672 -2.029940    -1.924281   \n",
       "3       01.01.2009 00:40:00  0.912624 -1.953867 -2.006250    -1.890379   \n",
       "4       01.01.2009 00:50:00  0.912624 -1.949306 -2.002866    -1.886142   \n",
       "...                     ...       ...       ...       ...          ...   \n",
       "420546  31.12.2016 23:20:00  1.331243 -1.468121 -1.557274    -1.757600   \n",
       "420547  31.12.2016 23:30:00  1.314781 -1.388304 -1.477181    -1.747712   \n",
       "420548  31.12.2016 23:40:00  1.301846 -1.366639 -1.454619    -1.768900   \n",
       "420549  31.12.2016 23:50:00  1.300670 -1.488646 -1.575324    -1.814102   \n",
       "420550  01.01.2017 00:00:00  1.301846 -1.555920 -1.640752    -1.798564   \n",
       "\n",
       "          rh (%)  VPmax (mbar)  VPact (mbar)  VPdef (mbar)  sh (g/kg)  \\\n",
       "0       1.048204     -1.291343     -1.467150     -0.782383  -1.470122   \n",
       "1       1.054219     -1.304500     -1.488855     -0.784480  -1.489115   \n",
       "2       1.084290     -1.307131     -1.491266     -0.786577  -1.492913   \n",
       "3       1.102333     -1.300553     -1.476797     -0.788674  -1.477719   \n",
       "4       1.096319     -1.299237     -1.474385     -0.788674  -1.477719   \n",
       "...          ...           ...           ...           ...        ...   \n",
       "420546 -0.166680     -1.134775     -1.421329     -0.572699  -1.424539   \n",
       "420547 -0.370564     -1.101883     -1.416506     -0.526569  -1.420740   \n",
       "420548 -0.478821     -1.092673     -1.426152     -0.503503  -1.428337   \n",
       "420549 -0.244866     -1.142670     -1.445445     -0.564312  -1.451129   \n",
       "420550 -0.010309     -1.167668     -1.438210     -0.610442  -1.443532   \n",
       "\n",
       "        H2OC (mmol/mol)  rho (g/m**3)  wv (m/s)  max. wv (m/s)  wd (deg)  \n",
       "0             -1.472031      2.124363 -0.730260      -0.779439 -0.281233  \n",
       "1             -1.493463      2.173132 -0.932398      -0.887061 -0.469953  \n",
       "2             -1.495845      2.183600 -1.277987      -1.261587 -0.056401  \n",
       "3             -1.481557      2.158620 -1.180179      -1.317550  0.251143  \n",
       "4             -1.479175      2.154100 -1.193220      -1.261587  0.441027  \n",
       "...                 ...           ...       ...            ...       ...  \n",
       "420546        -1.429168      1.772985 -0.965001      -0.878451  0.740416  \n",
       "420547        -1.424405      1.688768 -0.658534      -0.706256  0.674014  \n",
       "420548        -1.433930      1.663789 -0.697658      -0.671816  0.451512  \n",
       "420549        -1.452981      1.786783 -0.430315      -0.602938  0.574995  \n",
       "420550        -1.445837      1.853871 -0.599849      -0.689036  0.098536  \n",
       "\n",
       "[420551 rows x 15 columns]"
      ]
     },
     "execution_count": 41,
     "metadata": {},
     "output_type": "execute_result"
    }
   ],
   "source": [
    "data"
   ]
  },
  {
   "cell_type": "code",
   "execution_count": 43,
   "metadata": {},
   "outputs": [],
   "source": [
    "import os\n",
    "fname=os.path.join('C:/Users/kusha/OneDrive/Desktop/Task/Deep_Learning_Everyday/tm/jena_climate_2009_2016.csv')"
   ]
  },
  {
   "cell_type": "code",
   "execution_count": 53,
   "metadata": {},
   "outputs": [],
   "source": [
    "with open(fname) as f:\n",
    "    data=f.read()\n",
    "\n",
    "\n",
    "lines=data.split('\\n')\n",
    "header=lines[0].split(\",\")\n",
    "lines=lines[1:]"
   ]
  },
  {
   "cell_type": "code",
   "execution_count": null,
   "metadata": {},
   "outputs": [
    {
     "name": "stdout",
     "output_type": "stream",
     "text": [
      "['\"Date Time\"', '\"p (mbar)\"', '\"T (degC)\"', '\"Tpot (K)\"', '\"Tdew (degC)\"', '\"rh (%)\"', '\"VPmax (mbar)\"', '\"VPact (mbar)\"', '\"VPdef (mbar)\"', '\"sh (g/kg)\"', '\"H2OC (mmol/mol)\"', '\"rho (g/m**3)\"', '\"wv (m/s)\"', '\"max. wv (m/s)\"', '\"wd (deg)\"']\n",
      "420551\n"
     ]
    }
   ],
   "source": [
    "print(header) \n",
    "print(len(lines))"
   ]
  },
  {
   "cell_type": "code",
   "execution_count": 60,
   "metadata": {},
   "outputs": [],
   "source": [
    "temp=np.zeros(len(lines))"
   ]
  },
  {
   "cell_type": "code",
   "execution_count": 61,
   "metadata": {},
   "outputs": [
    {
     "data": {
      "text/plain": [
       "array([0., 0., 0., ..., 0., 0., 0.])"
      ]
     },
     "execution_count": 61,
     "metadata": {},
     "output_type": "execute_result"
    }
   ],
   "source": [
    "temp"
   ]
  },
  {
   "cell_type": "code",
   "execution_count": 62,
   "metadata": {},
   "outputs": [],
   "source": [
    "raw_data=np.zeros((len(lines),len(header)-1))"
   ]
  },
  {
   "cell_type": "code",
   "execution_count": 63,
   "metadata": {},
   "outputs": [
    {
     "data": {
      "text/plain": [
       "(420551, 14)"
      ]
     },
     "execution_count": 63,
     "metadata": {},
     "output_type": "execute_result"
    }
   ],
   "source": [
    "raw_data.shape"
   ]
  },
  {
   "cell_type": "code",
   "execution_count": 64,
   "metadata": {},
   "outputs": [],
   "source": [
    "for i,line in enumerate(lines):\n",
    "    values=[float(x) for x in line.split(\",\")[1:]]\n",
    "    raw_data[i]=values[:]\n",
    "    temp[i]=values[1]"
   ]
  },
  {
   "cell_type": "code",
   "execution_count": 67,
   "metadata": {},
   "outputs": [
    {
     "data": {
      "text/plain": [
       "(array([ 9.96520e+02, -8.02000e+00,  2.65400e+02, -8.90000e+00,\n",
       "         9.33000e+01,  3.33000e+00,  3.11000e+00,  2.20000e-01,\n",
       "         1.94000e+00,  3.12000e+00,  1.30775e+03,  1.03000e+00,\n",
       "         1.75000e+00,  1.52300e+02]),\n",
       " -8.02)"
      ]
     },
     "execution_count": 67,
     "metadata": {},
     "output_type": "execute_result"
    }
   ],
   "source": [
    "raw_data[0],temp[0]"
   ]
  },
  {
   "cell_type": "code",
   "execution_count": 68,
   "metadata": {},
   "outputs": [
    {
     "data": {
      "text/plain": [
       "[<matplotlib.lines.Line2D at 0x2b035f38280>]"
      ]
     },
     "execution_count": 68,
     "metadata": {},
     "output_type": "execute_result"
    },
    {
     "data": {
      "image/png": "[encoded data removed]",
      "text/plain": [
       "<Figure size 432x288 with 1 Axes>"
      ]
     },
     "metadata": {
      "needs_background": "light"
     },
     "output_type": "display_data"
    }
   ],
   "source": [
    "plt.plot(temp)"
   ]
  },
  {
   "cell_type": "code",
   "execution_count": 73,
   "metadata": {},
   "outputs": [],
   "source": [
    "mean=raw_data[:num_train_samples].mean(axis=0)\n",
    "raw_data-=mean\n",
    "std=raw_data[:num_train_samples].std(axis=0)\n",
    "raw_data/=std"
   ]
  },
  {
   "cell_type": "code",
   "execution_count": 74,
   "metadata": {},
   "outputs": [
    {
     "data": {
      "text/plain": [
       "array([[ 0.91380254, -1.92080466, -1.97466884, ..., -0.73026213,\n",
       "        -0.77944059, -0.28123391],\n",
       "       [ 0.91968203, -1.96527448, -2.01866408, ..., -0.93239995,\n",
       "        -0.88706316, -0.469954  ],\n",
       "       [ 0.91497844, -1.976677  , -2.02994491, ..., -1.27799041,\n",
       "        -1.26158972, -0.05640072],\n",
       "       ...,\n",
       "       [ 1.30184899, -1.36664229, -1.45462257, ..., -0.69765926,\n",
       "        -0.67181802,  0.45151262],\n",
       "       [ 1.3006731 , -1.48864923, -1.57532745, ..., -0.4303157 ,\n",
       "        -0.60293957,  0.57499614],\n",
       "       [ 1.30184899, -1.55592409, -1.64075626, ..., -0.59985064,\n",
       "        -0.68903763,  0.09853615]])"
      ]
     },
     "execution_count": 74,
     "metadata": {},
     "output_type": "execute_result"
    }
   ],
   "source": [
    "raw_data"
   ]
  },
  {
   "cell_type": "code",
   "execution_count": 117,
   "metadata": {},
   "outputs": [],
   "source": [
    "sampling_rate=6\n",
    "sequence_length=120\n",
    "delay=sampling_rate*(sequence_length+24)\n",
    "\n",
    "train_dataset=keras.utils.timeseries_dataset_from_array(raw_data[:-delay],temp[delay:],sampling_rate=sampling_rate,sequence_length=sequence_length,start_index=0,end_index=num_train_samples,batch_size=256)\n",
    "\n",
    "valid_dataset=keras.utils.timeseries_dataset_from_array(raw_data[:-delay],temp[delay:],sampling_rate=sampling_rate,sequence_length=sequence_length,start_index=num_train_samples,end_index=num_train_samples+num_valid_samples,batch_size=256)\n",
    "\n",
    "test_dataset=keras.utils.timeseries_dataset_from_array(raw_data[:-delay],temp[delay:],sampling_rate=sampling_rate,sequence_length=sequence_length,start_index=num_valid_samples+num_train_samples,batch_size=256)"
   ]
  },
  {
   "cell_type": "code",
   "execution_count": null,
   "metadata": {},
   "outputs": [
    {
     "name": "stdout",
     "output_type": "stream",
     "text": [
      "(256, 120, 14)\n",
      "(256,)\n"
     ]
    }
   ],
   "source": [
    "sample_counts=0\n",
    "for samples, targets in train_dataset:\n",
    "    print(samples.shape)\n",
    "    print(targets.shape)\n",
    "    break\n",
    "\n",
    "\n",
    " "
   ]
  },
  {
   "cell_type": "code",
   "execution_count": 87,
   "metadata": {},
   "outputs": [
    {
     "data": {
      "text/plain": [
       "<BatchDataset element_spec=(TensorSpec(shape=(None, None, 14), dtype=tf.float64, name=None), TensorSpec(shape=(None,), dtype=tf.float64, name=None))>"
      ]
     },
     "execution_count": 87,
     "metadata": {},
     "output_type": "execute_result"
    }
   ],
   "source": [
    "train_dataset"
   ]
  },
  {
   "cell_type": "code",
   "execution_count": null,
   "metadata": {},
   "outputs": [
    {
     "name": "stdout",
     "output_type": "stream",
     "text": [
      "tf.Tensor(\n",
      "[[[ 1.71450838e+06  1.79053078e+06  1.97517779e+06 ...  1.86510280e+05\n",
      "    1.69534997e+05  5.48831507e+05]\n",
      "  [ 1.96771490e+06  1.79053078e+06  1.95879116e+06 ...  1.33049178e+05\n",
      "    1.40314184e+05  5.79431501e+05]\n",
      "  [ 1.42356702e+06  1.98870677e+06  2.25859878e+06 ...  2.05254422e+05\n",
      "    1.46980873e+05  4.29292888e+05]\n",
      "  ...\n",
      "  [-3.57323881e+05 -1.58197043e+05 -1.64824132e+05 ...  5.68102801e+04\n",
      "    7.99418668e+04 -1.61714828e+05]\n",
      "  [-4.56762691e+05 -1.52915331e+05 -1.57986165e+05 ...  9.45517290e+04\n",
      "    1.21566705e+05 -1.56522560e+05]\n",
      "  [-6.19049651e+05 -1.45395893e+05 -1.49012307e+05 ...  9.17895839e+04\n",
      "    9.71366030e+04 -1.55416029e+05]]\n",
      "\n",
      " [[ 1.56091053e+06  1.79053078e+06  1.99184091e+06 ...  3.00330986e+05\n",
      "    2.23405927e+05  4.64153311e+05]\n",
      "  [ 2.00250779e+06  1.80436200e+06  1.95879116e+06 ...  1.11907492e+05\n",
      "    9.36093929e+04  6.48453538e+05]\n",
      "  [ 1.33151351e+06  1.98870677e+06  2.28041342e+06 ...  1.57064561e+06\n",
      "    9.67612620e+05  4.81757666e+05]\n",
      "  ...\n",
      "  [-3.74454922e+05 -1.58089976e+05 -1.64365160e+05 ...  7.94677911e+04\n",
      "    8.61773978e+04 -1.63941195e+05]\n",
      "  [-4.69059316e+05 -1.51526585e+05 -1.56416209e+05 ...  7.69236556e+04\n",
      "    1.02955671e+05 -1.54429271e+05]\n",
      "  [-6.70348590e+05 -1.44854900e+05 -1.48263720e+05 ...  1.05545932e+05\n",
      "    1.33071246e+05 -1.55373782e+05]]\n",
      "\n",
      " [[ 1.52929399e+06  1.79053078e+06  1.99184091e+06 ...  3.14191725e+05\n",
      "    2.05589349e+05  5.15425381e+05]\n",
      "  [ 2.09512202e+06  1.86189185e+06  2.02602507e+06 ...  1.37993465e+05\n",
      "    1.64137815e+05  6.27110241e+05]\n",
      "  [ 1.32373190e+06  1.97191816e+06  2.25859878e+06 ...  3.61456798e+05\n",
      "    2.75051018e+05  4.91070295e+05]\n",
      "  ...\n",
      "  [-3.89925873e+05 -1.57983053e+05 -1.64136631e+05 ...  1.05545932e+05\n",
      "    1.22529722e+05 -1.61909512e+05]\n",
      "  [-4.94669150e+05 -1.50647062e+05 -1.55284595e+05 ...  8.25180301e+04\n",
      "    1.15227337e+05 -1.54763779e+05]\n",
      "  [-7.30917729e+05 -1.43168005e+05 -1.46333998e+05 ...  9.81882774e+04\n",
      "    1.15227337e+05 -1.52849685e+05]]\n",
      "\n",
      " ...\n",
      "\n",
      " [[-2.18023224e+06 -1.81715518e+06 -1.94382248e+06 ...  1.51843776e+05\n",
      "    1.77308685e+05  8.77391371e+05]\n",
      "  [-2.29046764e+06 -2.30032547e+06 -2.49941139e+06 ...  2.66962289e+05\n",
      "    3.14156237e+05  8.26635652e+05]\n",
      "  [-2.46495128e+06 -6.06016801e+06 -7.50393746e+06 ...  1.57706324e+05\n",
      "    1.75299186e+05  7.06568601e+05]\n",
      "  ...\n",
      "  [ 1.65077108e+05 -1.98366161e+05 -1.83245037e+05 ...  1.51281406e+05\n",
      "    1.75299186e+05 -1.61122222e+05]\n",
      "  [ 1.49595441e+05 -1.96035467e+05 -1.79757217e+05 ...  2.95978567e+05\n",
      "    4.04536562e+05 -1.56984686e+05]\n",
      "  [ 1.41909990e+05 -1.94565867e+05 -1.77727536e+05 ...  7.70603170e+05\n",
      "    5.78545113e+05 -1.54179337e+05]]\n",
      "\n",
      " [[-2.22302811e+06 -1.87551691e+06 -2.01001539e+06 ...  2.20786645e+05\n",
      "    2.30051423e+05  1.04597781e+06]\n",
      "  [-2.33774747e+06 -2.49705155e+06 -2.73066680e+06 ...  2.91750497e+05\n",
      "    3.14156237e+05  7.84111029e+05]\n",
      "  [-2.31386606e+06 -9.51687067e+06 -1.35194272e+07 ...  1.28852129e+05\n",
      "    1.41598698e+05  6.55894522e+05]\n",
      "  ...\n",
      "  [ 1.62123205e+05 -1.97862073e+05 -1.82536687e+05 ...  1.76059565e+05\n",
      "    2.17133589e+05 -1.55701795e+05]\n",
      "  [ 1.48613915e+05 -1.94728067e+05 -1.78533883e+05 ...  2.38862060e+05\n",
      "    2.96113482e+05 -1.57265437e+05]\n",
      "  [ 1.41555240e+05 -1.95379580e+05 -1.78398985e+05 ...  7.85420616e+05\n",
      "    4.14092173e+06 -1.62300288e+05]]\n",
      "\n",
      " [[-2.29046764e+06 -2.05721414e+06 -2.21769261e+06 ...  3.26758743e+05\n",
      "    2.82588686e+05  1.21883461e+06]\n",
      "  [-2.51979511e+06 -2.76287034e+06 -3.00907863e+06 ...  2.46056419e+05\n",
      "    1.90404619e+05  6.71300835e+05]\n",
      "  [-2.26753771e+06 -1.25960497e+07 -2.25632985e+07 ...  1.41335792e+05\n",
      "    1.22529722e+05  6.50297911e+05]\n",
      "  ...\n",
      "  [ 1.59947993e+05 -1.97027595e+05 -1.81554148e+05 ...  1.37067354e+05\n",
      "    2.33524668e+05 -1.56995465e+05]\n",
      "  [ 1.48127966e+05 -1.93758904e+05 -1.77727536e+05 ...  2.66962289e+05\n",
      "    3.75105231e+05 -1.56244453e+05]\n",
      "  [ 1.39980567e+05 -1.95053279e+05 -1.77861421e+05 ...  6.48297781e+05\n",
      "    6.57361621e+07 -1.68545758e+05]]], shape=(226, 120, 14), dtype=float64)\n"
     ]
    }
   ],
   "source": [
    "def eval_method(dataset):\n",
    "    tot_err=0\n",
    "    samples_seen=0\n",
    "    for samples,targets in dataset:\n",
    "        preds=samples[:,-1,1]*std[1]+mean[1]\n",
    "        tot_err+=np.sum(np.abs(targets-preds))\n",
    "        samples_seen+=samples.shape[0]\n",
    "    return tot_err/(samples)\n",
    "\n",
    "print(eval_method(valid_dataset).shape)"
   ]
  },
  {
   "cell_type": "code",
   "execution_count": 126,
   "metadata": {},
   "outputs": [
    {
     "name": "stdout",
     "output_type": "stream",
     "text": [
      "Epoch 1/10\n",
      "819/819 [==============================] - 9s 11ms/step - loss: 19.0189 - mae: 3.3698 - val_loss: 88.5001 - val_mae: 7.7831\n",
      "Epoch 2/10\n",
      "819/819 [==============================] - 9s 11ms/step - loss: 15.4849 - mae: 3.0253 - val_loss: 111.8962 - val_mae: 8.5254\n",
      "Epoch 3/10\n",
      "819/819 [==============================] - 11s 13ms/step - loss: 14.5486 - mae: 2.9267 - val_loss: 99.4245 - val_mae: 7.9406\n",
      "Epoch 4/10\n",
      "819/819 [==============================] - 12s 15ms/step - loss: 13.6895 - mae: 2.8620 - val_loss: 94.2977 - val_mae: 7.6700\n",
      "Epoch 5/10\n",
      "819/819 [==============================] - 11s 13ms/step - loss: 13.0427 - mae: 2.8000 - val_loss: 96.3787 - val_mae: 7.6996\n",
      "Epoch 6/10\n",
      "819/819 [==============================] - 10s 12ms/step - loss: 12.8196 - mae: 2.7724 - val_loss: 98.2763 - val_mae: 7.7167\n",
      "Epoch 7/10\n",
      "819/819 [==============================] - 10s 13ms/step - loss: 12.5112 - mae: 2.7439 - val_loss: 87.5353 - val_mae: 7.2905\n",
      "Epoch 8/10\n",
      "819/819 [==============================] - 10s 12ms/step - loss: 12.2540 - mae: 2.7215 - val_loss: 95.8188 - val_mae: 7.5416\n",
      "Epoch 9/10\n",
      "819/819 [==============================] - 10s 13ms/step - loss: 11.9275 - mae: 2.6886 - val_loss: 94.7973 - val_mae: 7.4722\n",
      "Epoch 10/10\n",
      "819/819 [==============================] - 11s 14ms/step - loss: 11.6750 - mae: 2.6613 - val_loss: 91.7698 - val_mae: 7.3345\n"
     ]
    }
   ],
   "source": [
    "from tensorflow import keras\n",
    "from tensorflow.keras import layers\n",
    "\n",
    "inputs=keras.Input(shape=(sequence_length,raw_data.shape[-1]))\n",
    "x=layers.Flatten()(inputs)\n",
    "x=layers.Dense(16,activation='relu')(x)\n",
    "outputs=layers.Dense(1)(x)\n",
    "model=keras.Model(inputs,outputs)\n",
    "\n",
    "callbacks=[keras.callbacks.ModelCheckpoint(\"jena_dense.keras\",save_best_only=True)]\n",
    "model.compile(optimizer=\"rmsprop\",loss='mse',metrics=['mae'])\n",
    "history=model.fit(train_dataset,epochs=10,validation_data=valid_dataset,callbacks=callbacks)\n",
    "model=keras.models.load_model('jena_dense.keras')"
   ]
  },
  {
   "cell_type": "code",
   "execution_count": 131,
   "metadata": {},
   "outputs": [
    {
     "name": "stdout",
     "output_type": "stream",
     "text": [
      "405/405 [==============================] - 3s 7ms/step - loss: 10874.9854 - mae: 15.1758\n"
     ]
    },
    {
     "data": {
      "text/plain": [
       "15.175843238830566"
      ]
     },
     "execution_count": 131,
     "metadata": {},
     "output_type": "execute_result"
    }
   ],
   "source": [
    "model.evaluate(test_dataset)[1]"
   ]
  },
  {
   "cell_type": "code",
   "execution_count": 132,
   "metadata": {},
   "outputs": [
    {
     "data": {
      "image/png": "[encoded data removed]",
      "text/plain": [
       "<Figure size 432x288 with 1 Axes>"
      ]
     },
     "metadata": {
      "needs_background": "light"
     },
     "output_type": "display_data"
    }
   ],
   "source": [
    "import matplotlib.pyplot as plt\n",
    "loss=history.history['mae']\n",
    "val_loss=history.history['val_mae']\n",
    "epochs=range(1,len(loss)+1)\n",
    "plt.figure()\n",
    "plt.plot(epochs,loss,'bo',label='Training Mae')\n",
    "plt.plot(epochs,val_loss,'b',label='Validation Mae')\n",
    "plt.title(\"Training and Validation MAE\")\n",
    "plt.legend()\n",
    "plt.show()"
   ]
  },
  {
   "cell_type": "code",
   "execution_count": 137,
   "metadata": {},
   "outputs": [
    {
     "name": "stdout",
     "output_type": "stream",
     "text": [
      "Epoch 1/10\n",
      "819/819 [==============================] - 9s 11ms/step - loss: 11.4454 - mae: 2.6350 - val_loss: 90.5068 - val_mae: 7.2578\n",
      "Epoch 2/10\n",
      "819/819 [==============================] - 9s 11ms/step - loss: 11.2808 - mae: 2.6129 - val_loss: 86.9393 - val_mae: 7.0935\n",
      "Epoch 3/10\n",
      "819/819 [==============================] - 10s 12ms/step - loss: 11.1175 - mae: 2.5922 - val_loss: 83.0258 - val_mae: 6.9337\n",
      "Epoch 4/10\n",
      "819/819 [==============================] - 10s 12ms/step - loss: 11.0033 - mae: 2.5767 - val_loss: 81.6087 - val_mae: 6.8789\n",
      "Epoch 5/10\n",
      "819/819 [==============================] - 10s 12ms/step - loss: 10.8970 - mae: 2.5633 - val_loss: 80.4799 - val_mae: 6.8459\n",
      "Epoch 6/10\n",
      "819/819 [==============================] - 10s 12ms/step - loss: 10.8157 - mae: 2.5539 - val_loss: 77.9445 - val_mae: 6.7429\n",
      "Epoch 7/10\n",
      "819/819 [==============================] - 10s 12ms/step - loss: 10.7515 - mae: 2.5464 - val_loss: 75.4826 - val_mae: 6.6374\n",
      "Epoch 8/10\n",
      "819/819 [==============================] - 10s 12ms/step - loss: 10.7016 - mae: 2.5417 - val_loss: 73.8727 - val_mae: 6.5608\n",
      "Epoch 9/10\n",
      "819/819 [==============================] - 10s 12ms/step - loss: 10.6565 - mae: 2.5375 - val_loss: 71.4134 - val_mae: 6.4555\n",
      "Epoch 10/10\n",
      "819/819 [==============================] - 10s 12ms/step - loss: 10.6187 - mae: 2.5351 - val_loss: 71.2360 - val_mae: 6.4309\n"
     ]
    }
   ],
   "source": [
    "input=keras.Input(shape=(sequence_length,raw_data.shape[-1]))\n",
    "x=layers.LSTM(16)(input)\n",
    "outpus=layers.Dense(1)(x)\n",
    "model=keras.Model(inputs,outputs)\n",
    "\n",
    "callbacks=[keras.callbacks.ModelCheckpoint(\"jena_lstm.keras\",save_best_only=True)]\n",
    "model.compile(optimizer='rmsprop',loss=['mse'],metrics=['mae'])\n",
    "history=model.fit(train_dataset,epochs=10,validation_data=valid_dataset,callbacks=callbacks)\n",
    "\n",
    "model=keras.models.load_model('jena_lstm.keras')"
   ]
  },
  {
   "cell_type": "code",
   "execution_count": 138,
   "metadata": {},
   "outputs": [
    {
     "name": "stdout",
     "output_type": "stream",
     "text": [
      "405/405 [==============================] - 3s 7ms/step - loss: 11359.0771 - mae: 14.4042\n"
     ]
    },
    {
     "data": {
      "text/plain": [
       "14.404191970825195"
      ]
     },
     "execution_count": 138,
     "metadata": {},
     "output_type": "execute_result"
    }
   ],
   "source": [
    "model.evaluate(test_dataset)[1]"
   ]
  },
  {
   "cell_type": "code",
   "execution_count": 139,
   "metadata": {},
   "outputs": [
    {
     "data": {
      "image/png": "[encoded data removed]",
      "text/plain": [
       "<Figure size 432x288 with 1 Axes>"
      ]
     },
     "metadata": {
      "needs_background": "light"
     },
     "output_type": "display_data"
    }
   ],
   "source": [
    "import matplotlib.pyplot as plt\n",
    "loss=history.history['mae']\n",
    "val_loss=history.history['val_mae']\n",
    "epochs=range(1,len(loss)+1)\n",
    "plt.figure()\n",
    "plt.plot(epochs,loss,'bo',label='Training Mae')\n",
    "plt.plot(epochs,val_loss,'b',label='Validation Mae')\n",
    "plt.title(\"Training and Validation MAE\")\n",
    "plt.legend()\n",
    "plt.show()"
   ]
  },
  {
   "cell_type": "code",
   "execution_count": 150,
   "metadata": {},
   "outputs": [],
   "source": [
    "# RNN Demo\n",
    "\n",
    "import pandas_datareader as web\n",
    "from sklearn.preprocessing import MinMaxScaler\n",
    "import tensorflow as tf\n",
    "from tensorflow import keras\n",
    "from tensorflow.keras import layers\n",
    "\n",
    "import yfinance as yfin\n",
    "import random\n",
    "random.seed(2505)\n"
   ]
  },
  {
   "cell_type": "code",
   "execution_count": 151,
   "metadata": {},
   "outputs": [
    {
     "name": "stderr",
     "output_type": "stream",
     "text": [
      "[*********************100%***********************]  1 of 1 completed\n"
     ]
    }
   ],
   "source": [
    "tick='GC=F'\n",
    "gold=yfin.download(tick,'2015-12-20',interval='1d')"
   ]
  },
  {
   "cell_type": "code",
   "execution_count": 152,
   "metadata": {},
   "outputs": [
    {
     "data": {
      "text/html": [
       "<div>\n",
       "<style scoped>\n",
       "    .dataframe tbody tr th:only-of-type {\n",
       "        vertical-align: middle;\n",
       "    }\n",
       "\n",
       "    .dataframe tbody tr th {\n",
       "        vertical-align: top;\n",
       "    }\n",
       "\n",
       "    .dataframe thead tr th {\n",
       "        text-align: left;\n",
       "    }\n",
       "\n",
       "    .dataframe thead tr:last-of-type th {\n",
       "        text-align: right;\n",
       "    }\n",
       "</style>\n",
       "<table border=\"1\" class=\"dataframe\">\n",
       "  <thead>\n",
       "    <tr>\n",
       "      <th>Price</th>\n",
       "      <th>Adj Close</th>\n",
       "      <th>Close</th>\n",
       "      <th>High</th>\n",
       "      <th>Low</th>\n",
       "      <th>Open</th>\n",
       "      <th>Volume</th>\n",
       "    </tr>\n",
       "    <tr>\n",
       "      <th>Ticker</th>\n",
       "      <th>GC=F</th>\n",
       "      <th>GC=F</th>\n",
       "      <th>GC=F</th>\n",
       "      <th>GC=F</th>\n",
       "      <th>GC=F</th>\n",
       "      <th>GC=F</th>\n",
       "    </tr>\n",
       "    <tr>\n",
       "      <th>Date</th>\n",
       "      <th></th>\n",
       "      <th></th>\n",
       "      <th></th>\n",
       "      <th></th>\n",
       "      <th></th>\n",
       "      <th></th>\n",
       "    </tr>\n",
       "  </thead>\n",
       "  <tbody>\n",
       "    <tr>\n",
       "      <th>2015-12-21 00:00:00+00:00</th>\n",
       "      <td>1081.900024</td>\n",
       "      <td>1081.900024</td>\n",
       "      <td>1081.900024</td>\n",
       "      <td>1070.199951</td>\n",
       "      <td>1070.199951</td>\n",
       "      <td>26</td>\n",
       "    </tr>\n",
       "    <tr>\n",
       "      <th>2015-12-22 00:00:00+00:00</th>\n",
       "      <td>1074.800049</td>\n",
       "      <td>1074.800049</td>\n",
       "      <td>1078.599976</td>\n",
       "      <td>1073.800049</td>\n",
       "      <td>1078.599976</td>\n",
       "      <td>106</td>\n",
       "    </tr>\n",
       "    <tr>\n",
       "      <th>2015-12-23 00:00:00+00:00</th>\n",
       "      <td>1069.400024</td>\n",
       "      <td>1069.400024</td>\n",
       "      <td>1074.800049</td>\n",
       "      <td>1069.400024</td>\n",
       "      <td>1074.500000</td>\n",
       "      <td>202</td>\n",
       "    </tr>\n",
       "    <tr>\n",
       "      <th>2015-12-24 00:00:00+00:00</th>\n",
       "      <td>1077.199951</td>\n",
       "      <td>1077.199951</td>\n",
       "      <td>1077.800049</td>\n",
       "      <td>1073.500000</td>\n",
       "      <td>1074.300049</td>\n",
       "      <td>24</td>\n",
       "    </tr>\n",
       "    <tr>\n",
       "      <th>2015-12-28 00:00:00+00:00</th>\n",
       "      <td>1070.500000</td>\n",
       "      <td>1070.500000</td>\n",
       "      <td>1098.800049</td>\n",
       "      <td>1070.500000</td>\n",
       "      <td>1077.900024</td>\n",
       "      <td>361</td>\n",
       "    </tr>\n",
       "    <tr>\n",
       "      <th>...</th>\n",
       "      <td>...</td>\n",
       "      <td>...</td>\n",
       "      <td>...</td>\n",
       "      <td>...</td>\n",
       "      <td>...</td>\n",
       "      <td>...</td>\n",
       "    </tr>\n",
       "    <tr>\n",
       "      <th>2024-11-12 00:00:00+00:00</th>\n",
       "      <td>2600.000000</td>\n",
       "      <td>2600.000000</td>\n",
       "      <td>2605.500000</td>\n",
       "      <td>2592.800049</td>\n",
       "      <td>2605.500000</td>\n",
       "      <td>118</td>\n",
       "    </tr>\n",
       "    <tr>\n",
       "      <th>2024-11-13 00:00:00+00:00</th>\n",
       "      <td>2580.800049</td>\n",
       "      <td>2580.800049</td>\n",
       "      <td>2611.800049</td>\n",
       "      <td>2580.800049</td>\n",
       "      <td>2611.100098</td>\n",
       "      <td>53</td>\n",
       "    </tr>\n",
       "    <tr>\n",
       "      <th>2024-11-14 00:00:00+00:00</th>\n",
       "      <td>2568.199951</td>\n",
       "      <td>2568.199951</td>\n",
       "      <td>2576.199951</td>\n",
       "      <td>2554.199951</td>\n",
       "      <td>2555.100098</td>\n",
       "      <td>27</td>\n",
       "    </tr>\n",
       "    <tr>\n",
       "      <th>2024-11-15 00:00:00+00:00</th>\n",
       "      <td>2565.699951</td>\n",
       "      <td>2565.699951</td>\n",
       "      <td>2565.699951</td>\n",
       "      <td>2565.699951</td>\n",
       "      <td>2565.699951</td>\n",
       "      <td>27</td>\n",
       "    </tr>\n",
       "    <tr>\n",
       "      <th>2024-11-18 00:00:00+00:00</th>\n",
       "      <td>2616.100098</td>\n",
       "      <td>2616.100098</td>\n",
       "      <td>2619.500000</td>\n",
       "      <td>2568.500000</td>\n",
       "      <td>2571.500000</td>\n",
       "      <td>185295</td>\n",
       "    </tr>\n",
       "  </tbody>\n",
       "</table>\n",
       "<p>2240 rows × 6 columns</p>\n",
       "</div>"
      ],
      "text/plain": [
       "Price                        Adj Close        Close         High          Low  \\\n",
       "Ticker                            GC=F         GC=F         GC=F         GC=F   \n",
       "Date                                                                            \n",
       "2015-12-21 00:00:00+00:00  1081.900024  1081.900024  1081.900024  1070.199951   \n",
       "2015-12-22 00:00:00+00:00  1074.800049  1074.800049  1078.599976  1073.800049   \n",
       "2015-12-23 00:00:00+00:00  1069.400024  1069.400024  1074.800049  1069.400024   \n",
       "2015-12-24 00:00:00+00:00  1077.199951  1077.199951  1077.800049  1073.500000   \n",
       "2015-12-28 00:00:00+00:00  1070.500000  1070.500000  1098.800049  1070.500000   \n",
       "...                                ...          ...          ...          ...   \n",
       "2024-11-12 00:00:00+00:00  2600.000000  2600.000000  2605.500000  2592.800049   \n",
       "2024-11-13 00:00:00+00:00  2580.800049  2580.800049  2611.800049  2580.800049   \n",
       "2024-11-14 00:00:00+00:00  2568.199951  2568.199951  2576.199951  2554.199951   \n",
       "2024-11-15 00:00:00+00:00  2565.699951  2565.699951  2565.699951  2565.699951   \n",
       "2024-11-18 00:00:00+00:00  2616.100098  2616.100098  2619.500000  2568.500000   \n",
       "\n",
       "Price                             Open  Volume  \n",
       "Ticker                            GC=F    GC=F  \n",
       "Date                                            \n",
       "2015-12-21 00:00:00+00:00  1070.199951      26  \n",
       "2015-12-22 00:00:00+00:00  1078.599976     106  \n",
       "2015-12-23 00:00:00+00:00  1074.500000     202  \n",
       "2015-12-24 00:00:00+00:00  1074.300049      24  \n",
       "2015-12-28 00:00:00+00:00  1077.900024     361  \n",
       "...                                ...     ...  \n",
       "2024-11-12 00:00:00+00:00  2605.500000     118  \n",
       "2024-11-13 00:00:00+00:00  2611.100098      53  \n",
       "2024-11-14 00:00:00+00:00  2555.100098      27  \n",
       "2024-11-15 00:00:00+00:00  2565.699951      27  \n",
       "2024-11-18 00:00:00+00:00  2571.500000  185295  \n",
       "\n",
       "[2240 rows x 6 columns]"
      ]
     },
     "execution_count": 152,
     "metadata": {},
     "output_type": "execute_result"
    }
   ],
   "source": [
    "gold"
   ]
  },
  {
   "cell_type": "code",
   "execution_count": 153,
   "metadata": {},
   "outputs": [
    {
     "data": {
      "text/plain": [
       "[<matplotlib.lines.Line2D at 0x2b0781890f0>]"
      ]
     },
     "execution_count": 153,
     "metadata": {},
     "output_type": "execute_result"
    },
    {
     "data": {
      "image/png": "[encoded data removed]",
      "text/plain": [
       "<Figure size 432x288 with 1 Axes>"
      ]
     },
     "metadata": {
      "needs_background": "light"
     },
     "output_type": "display_data"
    }
   ],
   "source": [
    "plt.plot(gold['Adj Close'])"
   ]
  },
  {
   "cell_type": "code",
   "execution_count": 238,
   "metadata": {},
   "outputs": [],
   "source": [
    "returns=gold['Adj Close'].pct_change()"
   ]
  },
  {
   "cell_type": "code",
   "execution_count": 208,
   "metadata": {},
   "outputs": [],
   "source": [
    "column_names=gold.columns"
   ]
  },
  {
   "cell_type": "code",
   "execution_count": 209,
   "metadata": {},
   "outputs": [
    {
     "data": {
      "text/plain": [
       "MultiIndex([('Adj Close', 'GC=F'),\n",
       "            (    'Close', 'GC=F'),\n",
       "            (     'High', 'GC=F'),\n",
       "            (      'Low', 'GC=F'),\n",
       "            (     'Open', 'GC=F'),\n",
       "            (   'Volume', 'GC=F')],\n",
       "           names=['Price', 'Ticker'])"
      ]
     },
     "execution_count": 209,
     "metadata": {},
     "output_type": "execute_result"
    }
   ],
   "source": [
    "column_names"
   ]
  },
  {
   "cell_type": "code",
   "execution_count": 210,
   "metadata": {},
   "outputs": [],
   "source": [
    "x=gold.values\n",
    "minmax=MinMaxScaler()\n",
    "\n",
    "x_scaled=minmax.fit_transform(x)\n",
    "df=pd.DataFrame(x_scaled)"
   ]
  },
  {
   "cell_type": "code",
   "execution_count": 211,
   "metadata": {},
   "outputs": [
    {
     "data": {
      "text/html": [
       "<div>\n",
       "<style scoped>\n",
       "    .dataframe tbody tr th:only-of-type {\n",
       "        vertical-align: middle;\n",
       "    }\n",
       "\n",
       "    .dataframe tbody tr th {\n",
       "        vertical-align: top;\n",
       "    }\n",
       "\n",
       "    .dataframe thead tr th {\n",
       "        text-align: left;\n",
       "    }\n",
       "</style>\n",
       "<table border=\"1\" class=\"dataframe\">\n",
       "  <thead>\n",
       "    <tr>\n",
       "      <th>Price</th>\n",
       "      <th>Adj Close</th>\n",
       "      <th>Close</th>\n",
       "      <th>High</th>\n",
       "      <th>Low</th>\n",
       "      <th>Open</th>\n",
       "      <th>Volume</th>\n",
       "    </tr>\n",
       "    <tr>\n",
       "      <th>Ticker</th>\n",
       "      <th>GC=F</th>\n",
       "      <th>GC=F</th>\n",
       "      <th>GC=F</th>\n",
       "      <th>GC=F</th>\n",
       "      <th>GC=F</th>\n",
       "      <th>GC=F</th>\n",
       "    </tr>\n",
       "  </thead>\n",
       "  <tbody>\n",
       "    <tr>\n",
       "      <th>0</th>\n",
       "      <td>0.012613</td>\n",
       "      <td>0.012613</td>\n",
       "      <td>0.011523</td>\n",
       "      <td>0.006818</td>\n",
       "      <td>0.004810</td>\n",
       "      <td>0.000067</td>\n",
       "    </tr>\n",
       "    <tr>\n",
       "      <th>1</th>\n",
       "      <td>0.008505</td>\n",
       "      <td>0.008505</td>\n",
       "      <td>0.009612</td>\n",
       "      <td>0.008916</td>\n",
       "      <td>0.009678</td>\n",
       "      <td>0.000274</td>\n",
       "    </tr>\n",
       "    <tr>\n",
       "      <th>2</th>\n",
       "      <td>0.005381</td>\n",
       "      <td>0.005381</td>\n",
       "      <td>0.007412</td>\n",
       "      <td>0.006352</td>\n",
       "      <td>0.007302</td>\n",
       "      <td>0.000523</td>\n",
       "    </tr>\n",
       "    <tr>\n",
       "      <th>3</th>\n",
       "      <td>0.009894</td>\n",
       "      <td>0.009894</td>\n",
       "      <td>0.009149</td>\n",
       "      <td>0.008741</td>\n",
       "      <td>0.007186</td>\n",
       "      <td>0.000062</td>\n",
       "    </tr>\n",
       "    <tr>\n",
       "      <th>4</th>\n",
       "      <td>0.006017</td>\n",
       "      <td>0.006017</td>\n",
       "      <td>0.021309</td>\n",
       "      <td>0.006993</td>\n",
       "      <td>0.009273</td>\n",
       "      <td>0.000934</td>\n",
       "    </tr>\n",
       "    <tr>\n",
       "      <th>...</th>\n",
       "      <td>...</td>\n",
       "      <td>...</td>\n",
       "      <td>...</td>\n",
       "      <td>...</td>\n",
       "      <td>...</td>\n",
       "      <td>...</td>\n",
       "    </tr>\n",
       "    <tr>\n",
       "      <th>2235</th>\n",
       "      <td>0.890940</td>\n",
       "      <td>0.890940</td>\n",
       "      <td>0.893746</td>\n",
       "      <td>0.894062</td>\n",
       "      <td>0.894581</td>\n",
       "      <td>0.000305</td>\n",
       "    </tr>\n",
       "    <tr>\n",
       "      <th>2236</th>\n",
       "      <td>0.879831</td>\n",
       "      <td>0.879831</td>\n",
       "      <td>0.897394</td>\n",
       "      <td>0.887069</td>\n",
       "      <td>0.897827</td>\n",
       "      <td>0.000137</td>\n",
       "    </tr>\n",
       "    <tr>\n",
       "      <th>2237</th>\n",
       "      <td>0.872541</td>\n",
       "      <td>0.872541</td>\n",
       "      <td>0.876781</td>\n",
       "      <td>0.871569</td>\n",
       "      <td>0.865372</td>\n",
       "      <td>0.000070</td>\n",
       "    </tr>\n",
       "    <tr>\n",
       "      <th>2238</th>\n",
       "      <td>0.871095</td>\n",
       "      <td>0.871095</td>\n",
       "      <td>0.870701</td>\n",
       "      <td>0.878270</td>\n",
       "      <td>0.871516</td>\n",
       "      <td>0.000070</td>\n",
       "    </tr>\n",
       "    <tr>\n",
       "      <th>2239</th>\n",
       "      <td>0.900255</td>\n",
       "      <td>0.900255</td>\n",
       "      <td>0.901853</td>\n",
       "      <td>0.879902</td>\n",
       "      <td>0.874877</td>\n",
       "      <td>0.479624</td>\n",
       "    </tr>\n",
       "  </tbody>\n",
       "</table>\n",
       "<p>2240 rows × 6 columns</p>\n",
       "</div>"
      ],
      "text/plain": [
       "Price  Adj Close     Close      High       Low      Open    Volume\n",
       "Ticker      GC=F      GC=F      GC=F      GC=F      GC=F      GC=F\n",
       "0       0.012613  0.012613  0.011523  0.006818  0.004810  0.000067\n",
       "1       0.008505  0.008505  0.009612  0.008916  0.009678  0.000274\n",
       "2       0.005381  0.005381  0.007412  0.006352  0.007302  0.000523\n",
       "3       0.009894  0.009894  0.009149  0.008741  0.007186  0.000062\n",
       "4       0.006017  0.006017  0.021309  0.006993  0.009273  0.000934\n",
       "...          ...       ...       ...       ...       ...       ...\n",
       "2235    0.890940  0.890940  0.893746  0.894062  0.894581  0.000305\n",
       "2236    0.879831  0.879831  0.897394  0.887069  0.897827  0.000137\n",
       "2237    0.872541  0.872541  0.876781  0.871569  0.865372  0.000070\n",
       "2238    0.871095  0.871095  0.870701  0.878270  0.871516  0.000070\n",
       "2239    0.900255  0.900255  0.901853  0.879902  0.874877  0.479624\n",
       "\n",
       "[2240 rows x 6 columns]"
      ]
     },
     "execution_count": 211,
     "metadata": {},
     "output_type": "execute_result"
    }
   ],
   "source": [
    "pct_c_gold=df\n",
    "pct_c_gold.columns=column_names\n",
    "pct_c_gold"
   ]
  },
  {
   "cell_type": "code",
   "execution_count": 212,
   "metadata": {},
   "outputs": [],
   "source": [
    "pct_c_gold.columns=pct_c_gold.columns.droplevel([1])"
   ]
  },
  {
   "cell_type": "code",
   "execution_count": 213,
   "metadata": {},
   "outputs": [
    {
     "data": {
      "text/html": [
       "<div>\n",
       "<style scoped>\n",
       "    .dataframe tbody tr th:only-of-type {\n",
       "        vertical-align: middle;\n",
       "    }\n",
       "\n",
       "    .dataframe tbody tr th {\n",
       "        vertical-align: top;\n",
       "    }\n",
       "\n",
       "    .dataframe thead th {\n",
       "        text-align: right;\n",
       "    }\n",
       "</style>\n",
       "<table border=\"1\" class=\"dataframe\">\n",
       "  <thead>\n",
       "    <tr style=\"text-align: right;\">\n",
       "      <th>Price</th>\n",
       "      <th>Adj Close</th>\n",
       "      <th>Close</th>\n",
       "      <th>High</th>\n",
       "      <th>Low</th>\n",
       "      <th>Open</th>\n",
       "      <th>Volume</th>\n",
       "    </tr>\n",
       "  </thead>\n",
       "  <tbody>\n",
       "    <tr>\n",
       "      <th>0</th>\n",
       "      <td>0.012613</td>\n",
       "      <td>0.012613</td>\n",
       "      <td>0.011523</td>\n",
       "      <td>0.006818</td>\n",
       "      <td>0.004810</td>\n",
       "      <td>0.000067</td>\n",
       "    </tr>\n",
       "    <tr>\n",
       "      <th>1</th>\n",
       "      <td>0.008505</td>\n",
       "      <td>0.008505</td>\n",
       "      <td>0.009612</td>\n",
       "      <td>0.008916</td>\n",
       "      <td>0.009678</td>\n",
       "      <td>0.000274</td>\n",
       "    </tr>\n",
       "    <tr>\n",
       "      <th>2</th>\n",
       "      <td>0.005381</td>\n",
       "      <td>0.005381</td>\n",
       "      <td>0.007412</td>\n",
       "      <td>0.006352</td>\n",
       "      <td>0.007302</td>\n",
       "      <td>0.000523</td>\n",
       "    </tr>\n",
       "    <tr>\n",
       "      <th>3</th>\n",
       "      <td>0.009894</td>\n",
       "      <td>0.009894</td>\n",
       "      <td>0.009149</td>\n",
       "      <td>0.008741</td>\n",
       "      <td>0.007186</td>\n",
       "      <td>0.000062</td>\n",
       "    </tr>\n",
       "    <tr>\n",
       "      <th>4</th>\n",
       "      <td>0.006017</td>\n",
       "      <td>0.006017</td>\n",
       "      <td>0.021309</td>\n",
       "      <td>0.006993</td>\n",
       "      <td>0.009273</td>\n",
       "      <td>0.000934</td>\n",
       "    </tr>\n",
       "    <tr>\n",
       "      <th>...</th>\n",
       "      <td>...</td>\n",
       "      <td>...</td>\n",
       "      <td>...</td>\n",
       "      <td>...</td>\n",
       "      <td>...</td>\n",
       "      <td>...</td>\n",
       "    </tr>\n",
       "    <tr>\n",
       "      <th>2235</th>\n",
       "      <td>0.890940</td>\n",
       "      <td>0.890940</td>\n",
       "      <td>0.893746</td>\n",
       "      <td>0.894062</td>\n",
       "      <td>0.894581</td>\n",
       "      <td>0.000305</td>\n",
       "    </tr>\n",
       "    <tr>\n",
       "      <th>2236</th>\n",
       "      <td>0.879831</td>\n",
       "      <td>0.879831</td>\n",
       "      <td>0.897394</td>\n",
       "      <td>0.887069</td>\n",
       "      <td>0.897827</td>\n",
       "      <td>0.000137</td>\n",
       "    </tr>\n",
       "    <tr>\n",
       "      <th>2237</th>\n",
       "      <td>0.872541</td>\n",
       "      <td>0.872541</td>\n",
       "      <td>0.876781</td>\n",
       "      <td>0.871569</td>\n",
       "      <td>0.865372</td>\n",
       "      <td>0.000070</td>\n",
       "    </tr>\n",
       "    <tr>\n",
       "      <th>2238</th>\n",
       "      <td>0.871095</td>\n",
       "      <td>0.871095</td>\n",
       "      <td>0.870701</td>\n",
       "      <td>0.878270</td>\n",
       "      <td>0.871516</td>\n",
       "      <td>0.000070</td>\n",
       "    </tr>\n",
       "    <tr>\n",
       "      <th>2239</th>\n",
       "      <td>0.900255</td>\n",
       "      <td>0.900255</td>\n",
       "      <td>0.901853</td>\n",
       "      <td>0.879902</td>\n",
       "      <td>0.874877</td>\n",
       "      <td>0.479624</td>\n",
       "    </tr>\n",
       "  </tbody>\n",
       "</table>\n",
       "<p>2240 rows × 6 columns</p>\n",
       "</div>"
      ],
      "text/plain": [
       "Price  Adj Close     Close      High       Low      Open    Volume\n",
       "0       0.012613  0.012613  0.011523  0.006818  0.004810  0.000067\n",
       "1       0.008505  0.008505  0.009612  0.008916  0.009678  0.000274\n",
       "2       0.005381  0.005381  0.007412  0.006352  0.007302  0.000523\n",
       "3       0.009894  0.009894  0.009149  0.008741  0.007186  0.000062\n",
       "4       0.006017  0.006017  0.021309  0.006993  0.009273  0.000934\n",
       "...          ...       ...       ...       ...       ...       ...\n",
       "2235    0.890940  0.890940  0.893746  0.894062  0.894581  0.000305\n",
       "2236    0.879831  0.879831  0.897394  0.887069  0.897827  0.000137\n",
       "2237    0.872541  0.872541  0.876781  0.871569  0.865372  0.000070\n",
       "2238    0.871095  0.871095  0.870701  0.878270  0.871516  0.000070\n",
       "2239    0.900255  0.900255  0.901853  0.879902  0.874877  0.479624\n",
       "\n",
       "[2240 rows x 6 columns]"
      ]
     },
     "execution_count": 213,
     "metadata": {},
     "output_type": "execute_result"
    }
   ],
   "source": [
    "pct_c_gold"
   ]
  },
  {
   "cell_type": "code",
   "execution_count": 242,
   "metadata": {},
   "outputs": [
    {
     "data": {
      "text/html": [
       "<div>\n",
       "<style scoped>\n",
       "    .dataframe tbody tr th:only-of-type {\n",
       "        vertical-align: middle;\n",
       "    }\n",
       "\n",
       "    .dataframe tbody tr th {\n",
       "        vertical-align: top;\n",
       "    }\n",
       "\n",
       "    .dataframe thead th {\n",
       "        text-align: right;\n",
       "    }\n",
       "</style>\n",
       "<table border=\"1\" class=\"dataframe\">\n",
       "  <thead>\n",
       "    <tr style=\"text-align: right;\">\n",
       "      <th>Ticker</th>\n",
       "      <th>Date</th>\n",
       "      <th>GC=F</th>\n",
       "    </tr>\n",
       "  </thead>\n",
       "  <tbody>\n",
       "    <tr>\n",
       "      <th>0</th>\n",
       "      <td>2015-12-21 00:00:00+00:00</td>\n",
       "      <td>NaN</td>\n",
       "    </tr>\n",
       "    <tr>\n",
       "      <th>1</th>\n",
       "      <td>2015-12-22 00:00:00+00:00</td>\n",
       "      <td>-0.006563</td>\n",
       "    </tr>\n",
       "    <tr>\n",
       "      <th>2</th>\n",
       "      <td>2015-12-23 00:00:00+00:00</td>\n",
       "      <td>-0.005024</td>\n",
       "    </tr>\n",
       "    <tr>\n",
       "      <th>3</th>\n",
       "      <td>2015-12-24 00:00:00+00:00</td>\n",
       "      <td>0.007294</td>\n",
       "    </tr>\n",
       "    <tr>\n",
       "      <th>4</th>\n",
       "      <td>2015-12-28 00:00:00+00:00</td>\n",
       "      <td>-0.006220</td>\n",
       "    </tr>\n",
       "    <tr>\n",
       "      <th>...</th>\n",
       "      <td>...</td>\n",
       "      <td>...</td>\n",
       "    </tr>\n",
       "    <tr>\n",
       "      <th>2235</th>\n",
       "      <td>2024-11-12 00:00:00+00:00</td>\n",
       "      <td>-0.004289</td>\n",
       "    </tr>\n",
       "    <tr>\n",
       "      <th>2236</th>\n",
       "      <td>2024-11-13 00:00:00+00:00</td>\n",
       "      <td>-0.007385</td>\n",
       "    </tr>\n",
       "    <tr>\n",
       "      <th>2237</th>\n",
       "      <td>2024-11-14 00:00:00+00:00</td>\n",
       "      <td>-0.004882</td>\n",
       "    </tr>\n",
       "    <tr>\n",
       "      <th>2238</th>\n",
       "      <td>2024-11-15 00:00:00+00:00</td>\n",
       "      <td>-0.000973</td>\n",
       "    </tr>\n",
       "    <tr>\n",
       "      <th>2239</th>\n",
       "      <td>2024-11-18 00:00:00+00:00</td>\n",
       "      <td>0.019644</td>\n",
       "    </tr>\n",
       "  </tbody>\n",
       "</table>\n",
       "<p>2240 rows × 2 columns</p>\n",
       "</div>"
      ],
      "text/plain": [
       "Ticker                      Date      GC=F\n",
       "0      2015-12-21 00:00:00+00:00       NaN\n",
       "1      2015-12-22 00:00:00+00:00 -0.006563\n",
       "2      2015-12-23 00:00:00+00:00 -0.005024\n",
       "3      2015-12-24 00:00:00+00:00  0.007294\n",
       "4      2015-12-28 00:00:00+00:00 -0.006220\n",
       "...                          ...       ...\n",
       "2235   2024-11-12 00:00:00+00:00 -0.004289\n",
       "2236   2024-11-13 00:00:00+00:00 -0.007385\n",
       "2237   2024-11-14 00:00:00+00:00 -0.004882\n",
       "2238   2024-11-15 00:00:00+00:00 -0.000973\n",
       "2239   2024-11-18 00:00:00+00:00  0.019644\n",
       "\n",
       "[2240 rows x 2 columns]"
      ]
     },
     "execution_count": 242,
     "metadata": {},
     "output_type": "execute_result"
    }
   ],
   "source": [
    "returns.reset_index()"
   ]
  },
  {
   "cell_type": "code",
   "execution_count": 243,
   "metadata": {},
   "outputs": [
    {
     "data": {
      "text/html": [
       "<div>\n",
       "<style scoped>\n",
       "    .dataframe tbody tr th:only-of-type {\n",
       "        vertical-align: middle;\n",
       "    }\n",
       "\n",
       "    .dataframe tbody tr th {\n",
       "        vertical-align: top;\n",
       "    }\n",
       "\n",
       "    .dataframe thead th {\n",
       "        text-align: right;\n",
       "    }\n",
       "</style>\n",
       "<table border=\"1\" class=\"dataframe\">\n",
       "  <thead>\n",
       "    <tr style=\"text-align: right;\">\n",
       "      <th>Ticker</th>\n",
       "      <th>GC=F</th>\n",
       "    </tr>\n",
       "    <tr>\n",
       "      <th>Date</th>\n",
       "      <th></th>\n",
       "    </tr>\n",
       "  </thead>\n",
       "  <tbody>\n",
       "    <tr>\n",
       "      <th>2015-12-21 00:00:00+00:00</th>\n",
       "      <td>NaN</td>\n",
       "    </tr>\n",
       "    <tr>\n",
       "      <th>2015-12-22 00:00:00+00:00</th>\n",
       "      <td>-0.006563</td>\n",
       "    </tr>\n",
       "    <tr>\n",
       "      <th>2015-12-23 00:00:00+00:00</th>\n",
       "      <td>-0.005024</td>\n",
       "    </tr>\n",
       "    <tr>\n",
       "      <th>2015-12-24 00:00:00+00:00</th>\n",
       "      <td>0.007294</td>\n",
       "    </tr>\n",
       "    <tr>\n",
       "      <th>2015-12-28 00:00:00+00:00</th>\n",
       "      <td>-0.006220</td>\n",
       "    </tr>\n",
       "    <tr>\n",
       "      <th>...</th>\n",
       "      <td>...</td>\n",
       "    </tr>\n",
       "    <tr>\n",
       "      <th>2024-11-12 00:00:00+00:00</th>\n",
       "      <td>-0.004289</td>\n",
       "    </tr>\n",
       "    <tr>\n",
       "      <th>2024-11-13 00:00:00+00:00</th>\n",
       "      <td>-0.007385</td>\n",
       "    </tr>\n",
       "    <tr>\n",
       "      <th>2024-11-14 00:00:00+00:00</th>\n",
       "      <td>-0.004882</td>\n",
       "    </tr>\n",
       "    <tr>\n",
       "      <th>2024-11-15 00:00:00+00:00</th>\n",
       "      <td>-0.000973</td>\n",
       "    </tr>\n",
       "    <tr>\n",
       "      <th>2024-11-18 00:00:00+00:00</th>\n",
       "      <td>0.019644</td>\n",
       "    </tr>\n",
       "  </tbody>\n",
       "</table>\n",
       "<p>2240 rows × 1 columns</p>\n",
       "</div>"
      ],
      "text/plain": [
       "Ticker                         GC=F\n",
       "Date                               \n",
       "2015-12-21 00:00:00+00:00       NaN\n",
       "2015-12-22 00:00:00+00:00 -0.006563\n",
       "2015-12-23 00:00:00+00:00 -0.005024\n",
       "2015-12-24 00:00:00+00:00  0.007294\n",
       "2015-12-28 00:00:00+00:00 -0.006220\n",
       "...                             ...\n",
       "2024-11-12 00:00:00+00:00 -0.004289\n",
       "2024-11-13 00:00:00+00:00 -0.007385\n",
       "2024-11-14 00:00:00+00:00 -0.004882\n",
       "2024-11-15 00:00:00+00:00 -0.000973\n",
       "2024-11-18 00:00:00+00:00  0.019644\n",
       "\n",
       "[2240 rows x 1 columns]"
      ]
     },
     "execution_count": 243,
     "metadata": {},
     "output_type": "execute_result"
    }
   ],
   "source": [
    "returns"
   ]
  },
  {
   "cell_type": "code",
   "execution_count": 246,
   "metadata": {},
   "outputs": [
    {
     "data": {
      "text/plain": [
       "[<matplotlib.lines.Line2D at 0x2b07ebb6dd0>]"
      ]
     },
     "execution_count": 246,
     "metadata": {},
     "output_type": "execute_result"
    },
    {
     "data": {
      "image/png": "[encoded data removed]",
      "text/plain": [
       "<Figure size 432x288 with 1 Axes>"
      ]
     },
     "metadata": {
      "needs_background": "light"
     },
     "output_type": "display_data"
    }
   ],
   "source": [
    "plt.plot(returns['GC=F'])"
   ]
  },
  {
   "cell_type": "code",
   "execution_count": 256,
   "metadata": {},
   "outputs": [
    {
     "data": {
      "text/plain": [
       "<AxesSubplot:>"
      ]
     },
     "execution_count": 256,
     "metadata": {},
     "output_type": "execute_result"
    },
    {
     "data": {
      "image/png": "[encoded data removed]",
      "text/plain": [
       "<Figure size 432x288 with 1 Axes>"
      ]
     },
     "metadata": {
      "needs_background": "light"
     },
     "output_type": "display_data"
    }
   ],
   "source": [
    "returns['GC=F'].hist()"
   ]
  },
  {
   "cell_type": "code",
   "execution_count": 259,
   "metadata": {},
   "outputs": [],
   "source": [
    "npa=returns.values[1:].reshape(-1,1)"
   ]
  },
  {
   "cell_type": "code",
   "execution_count": 260,
   "metadata": {},
   "outputs": [
    {
     "data": {
      "text/plain": [
       "(2239, 1)"
      ]
     },
     "execution_count": 260,
     "metadata": {},
     "output_type": "execute_result"
    }
   ],
   "source": [
    "npa.shape"
   ]
  },
  {
   "cell_type": "code",
   "execution_count": 264,
   "metadata": {},
   "outputs": [
    {
     "name": "stdout",
     "output_type": "stream",
     "text": [
      "2239\n"
     ]
    }
   ],
   "source": [
    "scale=MinMaxScaler(feature_range=(0,1))\n",
    "npa=scale.fit_transform(npa)\n",
    "print(len(npa))"
   ]
  },
  {
   "cell_type": "code",
   "execution_count": 281,
   "metadata": {},
   "outputs": [
    {
     "name": "stdout",
     "output_type": "stream",
     "text": [
      "Sample training length is 10\n",
      "Sample test length is 1\n"
     ]
    }
   ],
   "source": [
    "samples=10\n",
    "steps=1\n",
    "\n",
    "X=[]\n",
    "Y=[]\n",
    "for i in range(npa.shape[0]-samples):\n",
    "    X.append(npa[i:i+samples])\n",
    "    Y.append(npa[i+samples])\n",
    "\n",
    "X=np.array(X)\n",
    "Y=np.array(Y)\n",
    "\n",
    "\n",
    "print('Sample training length is', len(X[0:1][0]))\n",
    "print('Sample test length is', len(Y[0:1]))"
   ]
  },
  {
   "cell_type": "code",
   "execution_count": 282,
   "metadata": {},
   "outputs": [
    {
     "name": "stdout",
     "output_type": "stream",
     "text": [
      "(2229, 10, 1) (2229, 1)\n"
     ]
    }
   ],
   "source": [
    "print(X.shape,Y.shape)"
   ]
  },
  {
   "cell_type": "code",
   "execution_count": 286,
   "metadata": {},
   "outputs": [
    {
     "data": {
      "text/plain": [
       "2229"
      ]
     },
     "execution_count": 286,
     "metadata": {},
     "output_type": "execute_result"
    }
   ],
   "source": [
    "X.shape[0]"
   ]
  },
  {
   "cell_type": "code",
   "execution_count": 292,
   "metadata": {},
   "outputs": [
    {
     "data": {
      "text/plain": [
       "2006"
      ]
     },
     "execution_count": 292,
     "metadata": {},
     "output_type": "execute_result"
    }
   ],
   "source": [
    "threshold=round(0.9*X.shape[0])\n",
    "threshold\n"
   ]
  },
  {
   "cell_type": "code",
   "execution_count": 293,
   "metadata": {},
   "outputs": [
    {
     "name": "stdout",
     "output_type": "stream",
     "text": [
      "Model: \"sequential\"\n",
      "_________________________________________________________________\n",
      " Layer (type)                Output Shape              Param #   \n",
      "=================================================================\n",
      " simple_rnn (SimpleRNN)      (None, 3)                 15        \n",
      "                                                                 \n",
      " dropout (Dropout)           (None, 3)                 0         \n",
      "                                                                 \n",
      " dense_7 (Dense)             (None, 1)                 4         \n",
      "                                                                 \n",
      "=================================================================\n",
      "Total params: 19\n",
      "Trainable params: 19\n",
      "Non-trainable params: 0\n",
      "_________________________________________________________________\n"
     ]
    }
   ],
   "source": [
    "model=keras.Sequential()\n",
    "model.add(layers.SimpleRNN(3,activation='tanh',use_bias=True,input_shape=(X.shape[1],X.shape[2]))) \n",
    "model.add(layers.Dropout(rate=0.2))\n",
    "model.add(layers.Dense(1))\n",
    "\n",
    "model.compile(loss='mean_squared_error',optimizer='adam')\n",
    "model.summary()\n",
    "\n"
   ]
  },
  {
   "cell_type": "code",
   "execution_count": null,
   "metadata": {},
   "outputs": [
    {
     "name": "stdout",
     "output_type": "stream",
     "text": [
      "Epoch 1/10\n",
      "51/51 [==============================] - 1s 8ms/step - loss: 0.0665 - val_loss: 0.0130\n",
      "Epoch 2/10\n",
      "51/51 [==============================] - 0s 3ms/step - loss: 0.0470 - val_loss: 0.0138\n",
      "Epoch 3/10\n",
      "51/51 [==============================] - 0s 4ms/step - loss: 0.0406 - val_loss: 0.0137\n",
      "Epoch 4/10\n",
      "51/51 [==============================] - 0s 3ms/step - loss: 0.0345 - val_loss: 0.0131\n",
      "Epoch 5/10\n",
      "51/51 [==============================] - 0s 3ms/step - loss: 0.0300 - val_loss: 0.0124\n",
      "Epoch 6/10\n",
      "51/51 [==============================] - 0s 3ms/step - loss: 0.0270 - val_loss: 0.0119\n",
      "Epoch 7/10\n",
      "51/51 [==============================] - 0s 3ms/step - loss: 0.0239 - val_loss: 0.0111\n",
      "Epoch 8/10\n",
      "51/51 [==============================] - 0s 3ms/step - loss: 0.0226 - val_loss: 0.0107\n",
      "Epoch 9/10\n",
      "51/51 [==============================] - 0s 3ms/step - loss: 0.0202 - val_loss: 0.0100\n",
      "Epoch 10/10\n",
      "51/51 [==============================] - 0s 3ms/step - loss: 0.0179 - val_loss: 0.0097\n"
     ]
    }
   ],
   "source": [
    "history=model.fit(X[:threshold],Y[:threshold],shuffle=False,epochs=10,batch_size=32,validation_split=0.2,verbose=1) "
   ]
  },
  {
   "cell_type": "code",
   "execution_count": 295,
   "metadata": {},
   "outputs": [
    {
     "data": {
      "text/plain": [
       "<matplotlib.legend.Legend at 0x2b082953c10>"
      ]
     },
     "execution_count": 295,
     "metadata": {},
     "output_type": "execute_result"
    },
    {
     "data": {
      "image/png": "[encoded data removed]",
      "text/plain": [
       "<Figure size 432x288 with 1 Axes>"
      ]
     },
     "metadata": {
      "needs_background": "light"
     },
     "output_type": "display_data"
    }
   ],
   "source": [
    "plt.plot(history.history[\"loss\"],label='training loss')\n",
    "plt.plot(history.history['val_loss'],label='val loss')\n",
    "plt.legend()"
   ]
  },
  {
   "cell_type": "code",
   "execution_count": 309,
   "metadata": {},
   "outputs": [
    {
     "data": {
      "text/plain": [
       "2240"
      ]
     },
     "execution_count": 309,
     "metadata": {},
     "output_type": "execute_result"
    }
   ],
   "source": [
    "pct_c_gold.shape[0]"
   ]
  },
  {
   "cell_type": "code",
   "execution_count": 312,
   "metadata": {},
   "outputs": [
    {
     "name": "stdout",
     "output_type": "stream",
     "text": [
      "train data length 10\n",
      "test data length 1\n"
     ]
    }
   ],
   "source": [
    "samples=10\n",
    "steps=1\n",
    "X=[]\n",
    "y=[]\n",
    "for i in range(pct_c_gold.shape[0]-samples):\n",
    "    X.append(pct_c_gold.iloc[i:i+samples,0:5].values)\n",
    "    y.append(pct_c_gold.iloc[i+samples,5:])\n",
    "\n",
    "print('train data length', len(X[0:1][0]))\n",
    "print('test data length', len(Y[0:1]))\n"
   ]
  },
  {
   "cell_type": "code",
   "execution_count": 313,
   "metadata": {},
   "outputs": [
    {
     "name": "stdout",
     "output_type": "stream",
     "text": [
      "(2230, 10, 5) (2229, 1)\n"
     ]
    }
   ],
   "source": [
    "X=np.array(X)\n",
    "Y=np.array(Y)\n",
    "print(X.shape,Y.shape)"
   ]
  },
  {
   "cell_type": "code",
   "execution_count": 318,
   "metadata": {},
   "outputs": [
    {
     "name": "stdout",
     "output_type": "stream",
     "text": [
      "(2007, 10, 5) (2007, 1) (223, 10, 5)\n"
     ]
    }
   ],
   "source": [
    "threshold=round(0.9*X.shape[0])\n",
    "\n",
    "trainX,trainY=X[:threshold],Y[:threshold]\n",
    "testX,testY=X[threshold:],Y[threshold:]\n",
    "\n",
    "print(trainX.shape, trainY.shape,testX.shape)"
   ]
  },
  {
   "cell_type": "code",
   "execution_count": 323,
   "metadata": {},
   "outputs": [
    {
     "name": "stdout",
     "output_type": "stream",
     "text": [
      "Model: \"sequential_2\"\n",
      "_________________________________________________________________\n",
      " Layer (type)                Output Shape              Param #   \n",
      "=================================================================\n",
      " simple_rnn_2 (SimpleRNN)    (None, 30)                1080      \n",
      "                                                                 \n",
      " dropout_2 (Dropout)         (None, 30)                0         \n",
      "                                                                 \n",
      " dense_9 (Dense)             (None, 1)                 31        \n",
      "                                                                 \n",
      "=================================================================\n",
      "Total params: 1,111\n",
      "Trainable params: 1,111\n",
      "Non-trainable params: 0\n",
      "_________________________________________________________________\n"
     ]
    }
   ],
   "source": [
    "model=keras.Sequential()\n",
    "model.add(layers.SimpleRNN(30,activation='tanh',use_bias=True,input_shape=(trainX.shape[1],trainX.shape[2])))\n",
    "model.add(layers.Dropout(rate=0.2))\n",
    "model.add(layers.Dense(1))\n",
    "model.compile(loss='mean_squared_error',optimizer='adam')\n",
    "model.summary()"
   ]
  },
  {
   "cell_type": "code",
   "execution_count": 324,
   "metadata": {},
   "outputs": [
    {
     "name": "stdout",
     "output_type": "stream",
     "text": [
      "Epoch 1/10\n",
      "51/51 [==============================] - 1s 7ms/step - loss: 0.0841 - val_loss: 0.0069\n",
      "Epoch 2/10\n",
      "51/51 [==============================] - 0s 3ms/step - loss: 0.0283 - val_loss: 0.0070\n",
      "Epoch 3/10\n",
      "51/51 [==============================] - 0s 3ms/step - loss: 0.0224 - val_loss: 0.0069\n",
      "Epoch 4/10\n",
      "51/51 [==============================] - 0s 3ms/step - loss: 0.0186 - val_loss: 0.0068\n",
      "Epoch 5/10\n",
      "51/51 [==============================] - 0s 3ms/step - loss: 0.0150 - val_loss: 0.0069\n",
      "Epoch 6/10\n",
      "51/51 [==============================] - 0s 3ms/step - loss: 0.0143 - val_loss: 0.0071\n",
      "Epoch 7/10\n",
      "51/51 [==============================] - 0s 3ms/step - loss: 0.0133 - val_loss: 0.0067\n",
      "Epoch 8/10\n",
      "51/51 [==============================] - 0s 5ms/step - loss: 0.0125 - val_loss: 0.0067\n",
      "Epoch 9/10\n",
      "51/51 [==============================] - 0s 3ms/step - loss: 0.0119 - val_loss: 0.0070\n",
      "Epoch 10/10\n",
      "51/51 [==============================] - 0s 3ms/step - loss: 0.0105 - val_loss: 0.0071\n"
     ]
    }
   ],
   "source": [
    "history=model.fit(trainX,trainY,shuffle=False,epochs=10,batch_size=32,validation_split=0.2)"
   ]
  },
  {
   "cell_type": "code",
   "execution_count": 325,
   "metadata": {},
   "outputs": [
    {
     "data": {
      "image/png": "[encoded data removed]",
      "text/plain": [
       "<Figure size 432x288 with 1 Axes>"
      ]
     },
     "metadata": {
      "needs_background": "light"
     },
     "output_type": "display_data"
    }
   ],
   "source": [
    "plt.plot(history.history[\"loss\"],label='training loss')\n",
    "plt.plot(history.history[\"val_loss\"],label='validation loss')\n",
    "plt.legend()\n",
    "plt.show()\n"
   ]
  },
  {
   "cell_type": "code",
   "execution_count": 326,
   "metadata": {},
   "outputs": [
    {
     "name": "stdout",
     "output_type": "stream",
     "text": [
      "7/7 [==============================] - 0s 3ms/step\n"
     ]
    }
   ],
   "source": [
    "y_pred=model.predict(testX)"
   ]
  },
  {
   "cell_type": "code",
   "execution_count": 327,
   "metadata": {},
   "outputs": [
    {
     "data": {
      "text/plain": [
       "<matplotlib.legend.Legend at 0x2b08370df00>"
      ]
     },
     "execution_count": 327,
     "metadata": {},
     "output_type": "execute_result"
    },
    {
     "data": {
      "image/png": "[encoded data removed]",
      "text/plain": [
       "<Figure size 432x288 with 1 Axes>"
      ]
     },
     "metadata": {
      "needs_background": "light"
     },
     "output_type": "display_data"
    }
   ],
   "source": [
    "plt.plot(testY,label='True Value')\n",
    "plt.plot(y_pred,label='Forecasted Value')\n",
    "plt.legend()"
   ]
  },
  {
   "cell_type": "code",
   "execution_count": 328,
   "metadata": {},
   "outputs": [
    {
     "data": {
      "text/plain": [
       "(2007, 10, 5)"
      ]
     },
     "execution_count": 328,
     "metadata": {},
     "output_type": "execute_result"
    }
   ],
   "source": [
    "trainX.shape"
   ]
  },
  {
   "cell_type": "code",
   "execution_count": 329,
   "metadata": {},
   "outputs": [
    {
     "data": {
      "text/plain": [
       "(2007, 1)"
      ]
     },
     "execution_count": 329,
     "metadata": {},
     "output_type": "execute_result"
    }
   ],
   "source": [
    "trainY.shape"
   ]
  },
  {
   "cell_type": "code",
   "execution_count": 4,
   "metadata": {},
   "outputs": [],
   "source": [
    "sequence_length=10"
   ]
  },
  {
   "cell_type": "code",
   "execution_count": 5,
   "metadata": {},
   "outputs": [
    {
     "ename": "NameError",
     "evalue": "name 'trainX' is not defined",
     "output_type": "error",
     "traceback": [
      "\u001b[1;31m---------------------------------------------------------------------------\u001b[0m",
      "\u001b[1;31mNameError\u001b[0m                                 Traceback (most recent call last)",
      "Input \u001b[1;32mIn [5]\u001b[0m, in \u001b[0;36m<cell line: 7>\u001b[1;34m()\u001b[0m\n\u001b[0;32m      3\u001b[0m \u001b[38;5;28;01mfrom\u001b[39;00m \u001b[38;5;21;01mtensorflow\u001b[39;00m \u001b[38;5;28;01mimport\u001b[39;00m keras\n\u001b[0;32m      4\u001b[0m \u001b[38;5;28;01mfrom\u001b[39;00m \u001b[38;5;21;01mtensorflow\u001b[39;00m\u001b[38;5;21;01m.\u001b[39;00m\u001b[38;5;21;01mkeras\u001b[39;00m \u001b[38;5;28;01mimport\u001b[39;00m layers\n\u001b[1;32m----> 7\u001b[0m inputs\u001b[38;5;241m=\u001b[39mkeras\u001b[38;5;241m.\u001b[39mInput(shape\u001b[38;5;241m=\u001b[39m(sequence_length,\u001b[43mtrainX\u001b[49m\u001b[38;5;241m.\u001b[39mshape[\u001b[38;5;241m-\u001b[39m\u001b[38;5;241m1\u001b[39m]))\n\u001b[0;32m      8\u001b[0m x\u001b[38;5;241m=\u001b[39mlayers\u001b[38;5;241m.\u001b[39mLSTM(\u001b[38;5;241m32\u001b[39m,recurrent_dropout\u001b[38;5;241m=\u001b[39m\u001b[38;5;241m0.25\u001b[39m)(inputs)\n\u001b[0;32m      9\u001b[0m x\u001b[38;5;241m=\u001b[39mlayers\u001b[38;5;241m.\u001b[39mDropout(\u001b[38;5;241m0.5\u001b[39m)(x)\n",
      "\u001b[1;31mNameError\u001b[0m: name 'trainX' is not defined"
     ]
    }
   ],
   "source": [
    "#train and valid with dropout regularized LSTM\n",
    "\n",
    "from tensorflow import keras\n",
    "from tensorflow.keras import layers\n",
    "\n",
    "\n",
    "inputs=keras.Input(shape=(sequence_length,trainX.shape[-1]))\n",
    "x=layers.LSTM(32,recurrent_dropout=0.25)(inputs)\n",
    "x=layers.Dropout(0.5)(x)\n",
    "outputs=layers.Dense(1)(x)\n",
    "model=keras.Model(inputs,outputs)\n",
    "callbacks=[keras.callbacks.ModelCheckpoint('jena_lstm_dropout.keras',save_best_only=True)]\n",
    "model.compile(optimizer='rmsprop',loss='mse',metrics=['mae'])\n",
    "history=model.fit(trainX,trainY,shuffle=False,epochs=10,validation_split=0.3,callbacks=callbacks,batch_size=128)"
   ]
  },
  {
   "cell_type": "code",
   "execution_count": 335,
   "metadata": {},
   "outputs": [
    {
     "data": {
      "image/png": "[encoded data removed]",
      "text/plain": [
       "<Figure size 432x288 with 1 Axes>"
      ]
     },
     "metadata": {
      "needs_background": "light"
     },
     "output_type": "display_data"
    }
   ],
   "source": [
    "plt.plot(history.history[\"loss\"],label='training loss')\n",
    "plt.plot(history.history[\"val_loss\"],label='validation loss')\n",
    "plt.legend()\n",
    "plt.show()\n"
   ]
  },
  {
   "cell_type": "code",
   "execution_count": 1,
   "metadata": {},
   "outputs": [
    {
     "ename": "NameError",
     "evalue": "name 'keras' is not defined",
     "output_type": "error",
     "traceback": [
      "\u001b[1;31m---------------------------------------------------------------------------\u001b[0m",
      "\u001b[1;31mNameError\u001b[0m                                 Traceback (most recent call last)",
      "Input \u001b[1;32mIn [1]\u001b[0m, in \u001b[0;36m<cell line: 3>\u001b[1;34m()\u001b[0m\n\u001b[0;32m      1\u001b[0m \u001b[38;5;66;03m## using lstm with dropouts\u001b[39;00m\n\u001b[1;32m----> 3\u001b[0m inputs\u001b[38;5;241m=\u001b[39m\u001b[43mkeras\u001b[49m\u001b[38;5;241m.\u001b[39mInput(shape\u001b[38;5;241m=\u001b[39m(sequence_length,raw_data\u001b[38;5;241m.\u001b[39mshape[\u001b[38;5;241m-\u001b[39m\u001b[38;5;241m1\u001b[39m]))\n\u001b[0;32m      4\u001b[0m x\u001b[38;5;241m=\u001b[39mlayers\u001b[38;5;241m.\u001b[39mLSTM(\u001b[38;5;241m32\u001b[39m,recurrent_dropout\u001b[38;5;241m=\u001b[39m\u001b[38;5;241m0.25\u001b[39m)(inputs)\n\u001b[0;32m      5\u001b[0m x\u001b[38;5;241m=\u001b[39mlayers\u001b[38;5;241m.\u001b[39mDropout(\u001b[38;5;241m0.5\u001b[39m)(x)\n",
      "\u001b[1;31mNameError\u001b[0m: name 'keras' is not defined"
     ]
    }
   ],
   "source": [
    "## using lstm with dropouts\n",
    "\n",
    "inputs=keras.Input(shape=(sequence_length,raw_data.shape[-1]))\n",
    "x=layers.LSTM(32,recurrent_dropout=0.25)(inputs)\n",
    "x=layers.Dropout(0.5)(x)\n",
    "\n",
    "outputs=layers.Dense(1)(x)\n",
    "\n",
    "model=keras.Model(inputs,outputs)\n",
    "\n",
    "callbacks=[keras.callbacks.ModelCheckpoint('jena_lstm_dropout.keras',save_best_only=True)]\n",
    "\n",
    "model.compile(optimizer='rmsprop',loss='mse', metrics=['mae'])\n",
    "\n",
    "history=model.fit(train_dataset,epochs=20,validation_data=valid_dataset,callbacks=callbacks)"
   ]
  },
  {
   "cell_type": "code",
   "execution_count": 338,
   "metadata": {},
   "outputs": [
    {
     "data": {
      "image/png": "[encoded data removed]",
      "text/plain": [
       "<Figure size 432x288 with 1 Axes>"
      ]
     },
     "metadata": {
      "needs_background": "light"
     },
     "output_type": "display_data"
    }
   ],
   "source": [
    "plt.plot(history.history[\"loss\"],label='training loss')\n",
    "plt.plot(history.history[\"val_loss\"],label='validation loss')\n",
    "plt.legend()\n",
    "plt.show()\n"
   ]
  },
  {
   "cell_type": "code",
   "execution_count": 6,
   "metadata": {},
   "outputs": [],
   "source": [
    "#lstm underperforms in reverse chronological order. its good at remembering recent past than distant past. For nlp, its worth exploiting a bidirectional setup"
   ]
  },
  {
   "cell_type": "code",
   "execution_count": null,
   "metadata": {},
   "outputs": [],
   "source": [
    "inputs=keras.Input(shape=(sequence_length,raw_data.shape[-1]))\n",
    "x=layers.Bidirectional(layers.LSTM(16))(inputs)\n",
    "outputs=layers.Dense(1)(x)\n",
    "model=keras.Model(inputs,outputs)\n",
    "\n",
    "model.compile(optimizer='rmsprop',loss='mse',metrics=['mae'])\n",
    "\n",
    "history=model.fit(train_dataset,epochs=10,validation_data=valid_dataset)\n",
    "\n"
   ]
  },
  {
   "cell_type": "code",
   "execution_count": null,
   "metadata": {},
   "outputs": [],
   "source": [
    "#bidirectional lstm does perform the same level as lstm "
   ]
  },
  {
   "cell_type": "code",
   "execution_count": null,
   "metadata": {},
   "outputs": [],
   "source": []
  }
 ],
 "metadata": {
  "kernelspec": {
   "display_name": "Python 3",
   "language": "python",
   "name": "python3"
  },
  "language_info": {
   "codemirror_mode": {
    "name": "ipython",
    "version": 3
   },
   "file_extension": ".py",
   "mimetype": "text/x-python",
   "name": "python",
   "nbconvert_exporter": "python",
   "pygments_lexer": "ipython3",
   "version": "3.10.4"
  }
 },
 "nbformat": 4,
 "nbformat_minor": 2
}
